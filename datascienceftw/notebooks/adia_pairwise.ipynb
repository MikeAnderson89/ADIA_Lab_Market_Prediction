{
 "cells": [
  {
   "cell_type": "code",
   "execution_count": 105,
   "metadata": {
    "tags": [],
    "ExecuteTime": {
     "end_time": "2023-07-11T21:40:39.913193800Z",
     "start_time": "2023-07-11T21:40:39.909186500Z"
    }
   },
   "outputs": [
    {
     "name": "stdout",
     "output_type": "stream",
     "text": [
      "[name: \"/device:CPU:0\"\n",
      "device_type: \"CPU\"\n",
      "memory_limit: 268435456\n",
      "locality {\n",
      "}\n",
      "incarnation: 8362137652244168140\n",
      "xla_global_id: -1\n",
      ", name: \"/device:GPU:0\"\n",
      "device_type: \"GPU\"\n",
      "memory_limit: 5718933504\n",
      "locality {\n",
      "  bus_id: 1\n",
      "  links {\n",
      "  }\n",
      "}\n",
      "incarnation: 7569189527252057222\n",
      "physical_device_desc: \"device: 0, name: NVIDIA GeForce RTX 3070, pci bus id: 0000:01:00.0, compute capability: 8.6\"\n",
      "xla_global_id: 416903419\n",
      "]\n"
     ]
    },
    {
     "data": {
      "text/plain": "'2.10.1'"
     },
     "execution_count": 105,
     "metadata": {},
     "output_type": "execute_result"
    }
   ],
   "source": [
    "import pandas as pd\n",
    "import seaborn as sns\n",
    "import matplotlib.pyplot as plt\n",
    "import numpy as np\n",
    "import scipy.stats as stats\n",
    "\n",
    "from sklearn.feature_selection import RFE\n",
    "from sklearn.linear_model import LinearRegression\n",
    "from sklearn.preprocessing import StandardScaler\n",
    "from sklearn.model_selection import train_test_split\n",
    "\n",
    "import tensorflow as tf\n",
    "from tensorflow import keras\n",
    "from keras.callbacks import ModelCheckpoint\n",
    "from keras.models import load_model\n",
    "from keras import backend as K\n",
    "from keras.callbacks import EarlyStopping\n",
    "from datetime import datetime\n",
    "from sklearn.metrics import mean_squared_error\n",
    "from sklearn.decomposition import PCA\n",
    "from scipy.stats import spearmanr\n",
    "import joblib\n",
    "\n",
    "from tensorflow.python.client import device_lib\n",
    "print(device_lib.list_local_devices())\n",
    "import sys\n",
    "tf.__version__"
   ]
  },
  {
   "cell_type": "code",
   "execution_count": 106,
   "metadata": {
    "collapsed": false,
    "jupyter": {
     "outputs_hidden": false
    },
    "ExecuteTime": {
     "end_time": "2023-07-11T21:40:41.629946800Z",
     "start_time": "2023-07-11T21:40:41.625447700Z"
    }
   },
   "outputs": [
    {
     "data": {
      "text/plain": "[PhysicalDevice(name='/physical_device:GPU:0', device_type='GPU')]"
     },
     "execution_count": 106,
     "metadata": {},
     "output_type": "execute_result"
    }
   ],
   "source": [
    "tf.config.list_physical_devices('GPU')"
   ]
  },
  {
   "cell_type": "code",
   "execution_count": 167,
   "metadata": {
    "collapsed": false,
    "jupyter": {
     "outputs_hidden": false
    },
    "ExecuteTime": {
     "end_time": "2023-07-12T00:03:44.629143200Z",
     "start_time": "2023-07-12T00:03:43.270338800Z"
    }
   },
   "outputs": [],
   "source": [
    "X_train = pd.read_parquet('../data/X_train.parquet')\n",
    "y_train = pd.read_parquet('../data/y_train.parquet')\n",
    "X_test = pd.read_parquet('../data/X_test.parquet')"
   ]
  },
  {
   "cell_type": "code",
   "execution_count": 168,
   "metadata": {
    "collapsed": false,
    "jupyter": {
     "outputs_hidden": false
    },
    "ExecuteTime": {
     "end_time": "2023-07-12T00:03:45.109198100Z",
     "start_time": "2023-07-12T00:03:44.997183Z"
    }
   },
   "outputs": [],
   "source": [
    "X_orig = X_train[X_train['date'] <= 3]\n",
    "y_orig = y_train[y_train['date'] <= 3]\n",
    "X_train = X_train[X_train['date'] <= 3]\n",
    "y_train = y_train[y_train['date'] <= 3]\n",
    "\n",
    "orig = pd.merge(X_orig, y_orig, on=['date', 'id'], how='outer')"
   ]
  },
  {
   "cell_type": "code",
   "execution_count": 169,
   "metadata": {
    "collapsed": false,
    "jupyter": {
     "outputs_hidden": false
    },
    "ExecuteTime": {
     "end_time": "2023-07-12T00:03:45.744175500Z",
     "start_time": "2023-07-12T00:03:45.719309400Z"
    }
   },
   "outputs": [],
   "source": [
    "#We'll see how the model does with all features first, and then go back and refine\n",
    "\n",
    "# selected_features = ['0', '24', '26', '29', '51', '63', '72', '77', '94', '96', '99', '104',\n",
    "#                      '125', '127', '147', '155', '159', '164', '168', '170', '171', '188',\n",
    "#                      '192', '207', '217', '232', '240', '256', '259', '267', '283', '289',\n",
    "#                      '305', '315', '319', '340', '343', '344', '354', '378', '386', '387',\n",
    "#                      '399', '400', '406', '407', '420', '437', '444', '455']"
   ]
  },
  {
   "cell_type": "code",
   "execution_count": 170,
   "metadata": {
    "collapsed": false,
    "jupyter": {
     "outputs_hidden": false
    },
    "ExecuteTime": {
     "end_time": "2023-07-12T00:03:46.206201300Z",
     "start_time": "2023-07-12T00:03:46.012177200Z"
    }
   },
   "outputs": [],
   "source": [
    "X_train = np.asarray(X_train)\n",
    "X_test = np.asarray(X_test)\n",
    "\n",
    "y_train = np.asarray(list(y_train['y']))"
   ]
  },
  {
   "cell_type": "code",
   "execution_count": 171,
   "outputs": [
    {
     "data": {
      "text/plain": "array([['dae29c8061b3176b9208f26afbb96e2ca50886db41902d2831fe878852970133',\n        -0.9095147252082825, 0.3888077139854431, ...,\n        -0.7534186840057373, 0.1544029414653778, 1.0693851709365845],\n       ['2f71f1b5d49fbd131351df95848dc91ab14662af62d4d0a94113c1a6cd2f2cf7',\n        -0.10769376903772354, -0.09796717017889023, ...,\n        -0.16571277379989624, 0.9058074951171875, 0.0831795483827591],\n       ['b8d41ef950b69f94c380410f59f47e15666c57b74573b662f1c0e616a31cac7e',\n        0.09231600910425186, 0.05259564518928528, ...,\n        1.2729392051696777, -0.6431118249893188, 0.4335854947566986],\n       ...,\n       ['c98afeee57fc25534ebf42c6da388efebec82eab438a3ee7faa0d7dc6e347233',\n        0.5866634249687195, -0.8490085601806641, ...,\n        0.47918009757995605, 0.16815486550331116, -0.06338760256767273],\n       ['1c5c9e101b98b3d46af8b93007eac21e278b1191df4d668202ff60be74d83ecf',\n        -0.6900245547294617, -0.6659571528434753, ...,\n        0.4734887480735779, 0.1362840086221695, 0.37075498700141907],\n       ['55e49d8de87412ecd5abf28a43e48e79ff391405270dfd2d6150cc1a011d504a',\n        -0.20257601141929626, 0.34135162830352783, ...,\n        -2.78281569480896, -1.0854363441467285, 1.2498284578323364]],\n      dtype=object)"
     },
     "execution_count": 171,
     "metadata": {},
     "output_type": "execute_result"
    }
   ],
   "source": [
    "X_train[:,1:]"
   ],
   "metadata": {
    "collapsed": false,
    "ExecuteTime": {
     "end_time": "2023-07-12T00:03:46.307460900Z",
     "start_time": "2023-07-12T00:03:46.281960300Z"
    }
   }
  },
  {
   "cell_type": "code",
   "execution_count": 182,
   "metadata": {
    "collapsed": false,
    "jupyter": {
     "outputs_hidden": false
    },
    "ExecuteTime": {
     "end_time": "2023-07-12T00:05:33.776371300Z",
     "start_time": "2023-07-12T00:05:33.761872600Z"
    }
   },
   "outputs": [],
   "source": [
    "def convert_to_pairwise(X_train, y_train):\n",
    "    pairs = []\n",
    "    labels = []\n",
    "    ids = []\n",
    "    n_samples = X_train.shape[0]\n",
    "    for i in range(n_samples):\n",
    "        for j in range(i+1, n_samples):\n",
    "            pairs.append([X_train[i, 2:], X_train[j, 2:]])\n",
    "            ids.append([X_train[i, :2], X_train[j, :2]])\n",
    "            labels.append(1 if y_train[i] > y_train[j] else 0)\n",
    "    return np.array(pairs), np.array(labels), np.array(ids)"
   ]
  },
  {
   "cell_type": "code",
   "execution_count": 173,
   "metadata": {
    "collapsed": false,
    "jupyter": {
     "outputs_hidden": false
    },
    "ExecuteTime": {
     "end_time": "2023-07-12T00:03:47.968940600Z",
     "start_time": "2023-07-12T00:03:47.872936600Z"
    }
   },
   "outputs": [],
   "source": [
    "#Scaling and PCA\n",
    "scaler = StandardScaler()\n",
    "X_train[:,2:] = scaler.fit_transform(X_train[:,2:])\n",
    "\n",
    "n_components = 40  # Adjust the number of components as per your requirements\n",
    "pca = PCA(n_components=n_components)\n",
    "pca_ids = X_train[:,:2]\n",
    "pca_features = pca.fit_transform(X_train[:,2:])"
   ]
  },
  {
   "cell_type": "code",
   "execution_count": 188,
   "outputs": [
    {
     "data": {
      "text/plain": "array([[0,\n        'dae29c8061b3176b9208f26afbb96e2ca50886db41902d2831fe878852970133'],\n       [0,\n        '2f71f1b5d49fbd131351df95848dc91ab14662af62d4d0a94113c1a6cd2f2cf7'],\n       [0,\n        'b8d41ef950b69f94c380410f59f47e15666c57b74573b662f1c0e616a31cac7e'],\n       ...,\n       [3,\n        'c98afeee57fc25534ebf42c6da388efebec82eab438a3ee7faa0d7dc6e347233'],\n       [3,\n        '1c5c9e101b98b3d46af8b93007eac21e278b1191df4d668202ff60be74d83ecf'],\n       [3,\n        '55e49d8de87412ecd5abf28a43e48e79ff391405270dfd2d6150cc1a011d504a']],\n      dtype=object)"
     },
     "execution_count": 188,
     "metadata": {},
     "output_type": "execute_result"
    }
   ],
   "source": [
    "pca_ids"
   ],
   "metadata": {
    "collapsed": false,
    "ExecuteTime": {
     "end_time": "2023-07-12T00:06:25.496751900Z",
     "start_time": "2023-07-12T00:06:25.472078900Z"
    }
   }
  },
  {
   "cell_type": "code",
   "execution_count": 179,
   "outputs": [],
   "source": [
    "X_train = np.concatenate((pca_ids, pca_features), axis=1)"
   ],
   "metadata": {
    "collapsed": false,
    "ExecuteTime": {
     "end_time": "2023-07-12T00:05:09.575830Z",
     "start_time": "2023-07-12T00:05:09.545901300Z"
    }
   }
  },
  {
   "cell_type": "code",
   "execution_count": 183,
   "metadata": {
    "collapsed": false,
    "jupyter": {
     "outputs_hidden": false
    },
    "ExecuteTime": {
     "end_time": "2023-07-12T00:05:57.229420100Z",
     "start_time": "2023-07-12T00:05:42.568102300Z"
    }
   },
   "outputs": [],
   "source": [
    "X_train, y_train, X_train_ids = convert_to_pairwise(X_train, y_train)"
   ]
  },
  {
   "cell_type": "markdown",
   "metadata": {},
   "source": [
    "# Model"
   ]
  },
  {
   "cell_type": "code",
   "execution_count": 114,
   "metadata": {
    "collapsed": false,
    "jupyter": {
     "outputs_hidden": false
    },
    "ExecuteTime": {
     "end_time": "2023-07-11T21:40:53.650108600Z",
     "start_time": "2023-07-11T21:40:52.365143800Z"
    }
   },
   "outputs": [],
   "source": [
    "#Get validation dataset\n",
    "X_train, X_val, y_train, y_val = train_test_split(X_train, y_train, random_state=42, shuffle=True, test_size=0.1)"
   ]
  },
  {
   "cell_type": "code",
   "execution_count": 115,
   "metadata": {
    "collapsed": false,
    "jupyter": {
     "outputs_hidden": false
    },
    "ExecuteTime": {
     "end_time": "2023-07-11T21:40:54.967128800Z",
     "start_time": "2023-07-11T21:40:53.651609900Z"
    }
   },
   "outputs": [],
   "source": [
    "#Get train and test datasets\n",
    "X_train, X_test, y_train, y_test = train_test_split(X_train, y_train, random_state=42, shuffle=True, test_size=0.3)"
   ]
  },
  {
   "cell_type": "code",
   "execution_count": 116,
   "metadata": {
    "collapsed": false,
    "jupyter": {
     "outputs_hidden": false
    },
    "ExecuteTime": {
     "end_time": "2023-07-11T21:40:54.982627900Z",
     "start_time": "2023-07-11T21:40:54.971627400Z"
    }
   },
   "outputs": [],
   "source": [
    "def get_spearman_rankcor(y_true, y_pred):\n",
    "    return ( tf.py_function(stats.spearmanr, [tf.cast(y_pred, tf.float32),\n",
    "                                              tf.cast(y_true, tf.float32)], Tout = tf.float32) )\n",
    "\n",
    "# Custom loss function based on Spearman correlation\n",
    "def spearman_loss(y_true, y_pred):\n",
    "    true_ranks = tf.argsort(tf.argsort(y_true))\n",
    "    pred_ranks = tf.argsort(tf.argsort(y_pred))\n",
    "    srcc = tf.py_function(spearmanr, [true_ranks, pred_ranks], tf.float32)\n",
    "    return -srcc\n",
    "\n",
    "# Custom metric based on Spearman correlation\n",
    "def spearman_correlation(y_true, y_pred):\n",
    "    true_ranks = tf.argsort(tf.argsort(y_true))\n",
    "    pred_ranks = tf.argsort(tf.argsort(y_pred))\n",
    "    srcc = tf.py_function(spearmanr, [true_ranks, pred_ranks], tf.float32)\n",
    "    return srcc"
   ]
  },
  {
   "cell_type": "code",
   "execution_count": 117,
   "metadata": {
    "collapsed": false,
    "jupyter": {
     "outputs_hidden": false
    },
    "ExecuteTime": {
     "end_time": "2023-07-11T21:40:55.092154300Z",
     "start_time": "2023-07-11T21:40:54.985627200Z"
    }
   },
   "outputs": [],
   "source": [
    "mc = ModelCheckpoint(f'../resources/adia_neural_network.h5', monitor='val_loss', mode='min', verbose=1, save_best_only=True)\n",
    "\n",
    "early_stopping = EarlyStopping(\n",
    "    monitor='val_loss',\n",
    "    patience=5,\n",
    "    verbose=0,\n",
    "    mode='auto',\n",
    "    baseline=None,\n",
    "    restore_best_weights=True)\n",
    "\n",
    "model = keras.Sequential([\n",
    "    keras.layers.Dense(800, activation='relu', kernel_initializer='lecun_normal', input_shape=(X_train.shape[1], X_train.shape[2])),\n",
    "    keras.layers.BatchNormalization(),\n",
    "    keras.layers.Dense(500, activation='relu', kernel_initializer='lecun_normal'),\n",
    "    keras.layers.BatchNormalization(),\n",
    "    keras.layers.Dense(250, activation='relu', kernel_initializer='lecun_normal'),\n",
    "    keras.layers.BatchNormalization(),\n",
    "    keras.layers.Dense(100, activation='relu', kernel_initializer='lecun_normal'),\n",
    "    keras.layers.BatchNormalization(),\n",
    "    keras.layers.Flatten(),\n",
    "    keras.layers.Dense(1, activation='sigmoid', kernel_initializer='lecun_normal')\n",
    "])\n",
    "\n",
    "optimizer = keras.optimizers.Adam(learning_rate=3e-4)\n",
    "\n",
    "model.compile(optimizer=optimizer,\n",
    "              loss='binary_crossentropy',\n",
    "              metrics=['accuracy'])"
   ]
  },
  {
   "cell_type": "code",
   "execution_count": 118,
   "metadata": {
    "collapsed": false,
    "jupyter": {
     "outputs_hidden": false
    },
    "ExecuteTime": {
     "end_time": "2023-07-11T21:41:30.034585700Z",
     "start_time": "2023-07-11T21:40:55.093154900Z"
    }
   },
   "outputs": [
    {
     "name": "stdout",
     "output_type": "stream",
     "text": [
      "Epoch 1/3\n",
      "681/683 [============================>.] - ETA: 0s - loss: 0.2417 - accuracy: 0.9006\n",
      "Epoch 1: val_loss improved from inf to 0.14724, saving model to ../resources\\adia_neural_network.h5\n",
      "683/683 [==============================] - 12s 17ms/step - loss: 0.2414 - accuracy: 0.9007 - val_loss: 0.1472 - val_accuracy: 0.9470\n",
      "Epoch 2/3\n",
      "681/683 [============================>.] - ETA: 0s - loss: 0.1374 - accuracy: 0.9494\n",
      "Epoch 2: val_loss improved from 0.14724 to 0.11466, saving model to ../resources\\adia_neural_network.h5\n",
      "683/683 [==============================] - 11s 16ms/step - loss: 0.1374 - accuracy: 0.9494 - val_loss: 0.1147 - val_accuracy: 0.9588\n",
      "Epoch 3/3\n",
      "681/683 [============================>.] - ETA: 0s - loss: 0.1132 - accuracy: 0.9590\n",
      "Epoch 3: val_loss improved from 0.11466 to 0.10851, saving model to ../resources\\adia_neural_network.h5\n",
      "683/683 [==============================] - 11s 16ms/step - loss: 0.1132 - accuracy: 0.9590 - val_loss: 0.1085 - val_accuracy: 0.9615\n"
     ]
    }
   ],
   "source": [
    "history = model.fit(\n",
    "    X_train,\n",
    "    y_train,\n",
    "    batch_size=5000,\n",
    "    epochs=3,\n",
    "    validation_data=[X_test, y_test],\n",
    "    callbacks=[mc, early_stopping],\n",
    "    shuffle=False,\n",
    "    use_multiprocessing=True\n",
    ")"
   ]
  },
  {
   "cell_type": "code",
   "execution_count": 119,
   "metadata": {
    "collapsed": false,
    "jupyter": {
     "outputs_hidden": false
    },
    "ExecuteTime": {
     "end_time": "2023-07-11T21:41:33.740032300Z",
     "start_time": "2023-07-11T21:41:30.036088100Z"
    }
   },
   "outputs": [
    {
     "name": "stdout",
     "output_type": "stream",
     "text": [
      "683/683 [==============================] - 3s 4ms/step\n"
     ]
    }
   ],
   "source": [
    "preds = model.predict(X_train, batch_size=5000)"
   ]
  },
  {
   "cell_type": "code",
   "execution_count": 120,
   "outputs": [
    {
     "data": {
      "text/plain": "<tf.Tensor: shape=(), dtype=float32, numpy=0.8541922>"
     },
     "execution_count": 120,
     "metadata": {},
     "output_type": "execute_result"
    }
   ],
   "source": [
    "get_spearman_rankcor(y_train, preds)"
   ],
   "metadata": {
    "collapsed": false,
    "ExecuteTime": {
     "end_time": "2023-07-11T21:41:34.360103700Z",
     "start_time": "2023-07-11T21:41:33.744032900Z"
    }
   }
  },
  {
   "cell_type": "code",
   "execution_count": 121,
   "metadata": {
    "collapsed": false,
    "jupyter": {
     "outputs_hidden": false
    },
    "ExecuteTime": {
     "end_time": "2023-07-11T21:41:35.011180600Z",
     "start_time": "2023-07-11T21:41:34.361105Z"
    }
   },
   "outputs": [
    {
     "data": {
      "text/plain": "SignificanceResult(statistic=0.8541922135410357, pvalue=0.0)"
     },
     "execution_count": 121,
     "metadata": {},
     "output_type": "execute_result"
    }
   ],
   "source": [
    "spearmanr(y_train, preds)"
   ]
  },
  {
   "cell_type": "code",
   "execution_count": 54,
   "metadata": {
    "collapsed": false,
    "jupyter": {
     "outputs_hidden": false
    },
    "ExecuteTime": {
     "end_time": "2023-07-11T20:56:43.480623900Z",
     "start_time": "2023-07-11T20:56:42.759116700Z"
    }
   },
   "outputs": [
    {
     "data": {
      "text/plain": "SignificanceResult(statistic=0.8558184744174377, pvalue=0.0)"
     },
     "execution_count": 54,
     "metadata": {},
     "output_type": "execute_result"
    }
   ],
   "source": [
    "spearmanr(y_train, preds)"
   ]
  },
  {
   "cell_type": "code",
   "execution_count": 122,
   "metadata": {
    "collapsed": false,
    "jupyter": {
     "outputs_hidden": false
    },
    "ExecuteTime": {
     "end_time": "2023-07-11T21:41:35.057683600Z",
     "start_time": "2023-07-11T21:41:35.013680400Z"
    }
   },
   "outputs": [
    {
     "ename": "ValueError",
     "evalue": "Length of values (3414775) does not match length of index (3293)",
     "output_type": "error",
     "traceback": [
      "\u001B[1;31m---------------------------------------------------------------------------\u001B[0m",
      "\u001B[1;31mValueError\u001B[0m                                Traceback (most recent call last)",
      "Cell \u001B[1;32mIn[122], line 8\u001B[0m\n\u001B[0;32m      5\u001B[0m orig\u001B[38;5;241m.\u001B[39msort_values(by\u001B[38;5;241m=\u001B[39m[\u001B[38;5;124m'\u001B[39m\u001B[38;5;124mid\u001B[39m\u001B[38;5;124m'\u001B[39m, \u001B[38;5;124m'\u001B[39m\u001B[38;5;124mdate\u001B[39m\u001B[38;5;124m'\u001B[39m], inplace\u001B[38;5;241m=\u001B[39m\u001B[38;5;28;01mTrue\u001B[39;00m)\n\u001B[0;32m      7\u001B[0m \u001B[38;5;66;03m# Assign the calculated ranks to the original dataset\u001B[39;00m\n\u001B[1;32m----> 8\u001B[0m orig[\u001B[38;5;124m'\u001B[39m\u001B[38;5;124mrank\u001B[39m\u001B[38;5;124m'\u001B[39m] \u001B[38;5;241m=\u001B[39m avg_ranking\n",
      "File \u001B[1;32m~\\anaconda3\\lib\\site-packages\\pandas\\core\\frame.py:3980\u001B[0m, in \u001B[0;36mDataFrame.__setitem__\u001B[1;34m(self, key, value)\u001B[0m\n\u001B[0;32m   3977\u001B[0m     \u001B[38;5;28mself\u001B[39m\u001B[38;5;241m.\u001B[39m_setitem_array([key], value)\n\u001B[0;32m   3978\u001B[0m \u001B[38;5;28;01melse\u001B[39;00m:\n\u001B[0;32m   3979\u001B[0m     \u001B[38;5;66;03m# set column\u001B[39;00m\n\u001B[1;32m-> 3980\u001B[0m     \u001B[38;5;28;43mself\u001B[39;49m\u001B[38;5;241;43m.\u001B[39;49m\u001B[43m_set_item\u001B[49m\u001B[43m(\u001B[49m\u001B[43mkey\u001B[49m\u001B[43m,\u001B[49m\u001B[43m \u001B[49m\u001B[43mvalue\u001B[49m\u001B[43m)\u001B[49m\n",
      "File \u001B[1;32m~\\anaconda3\\lib\\site-packages\\pandas\\core\\frame.py:4174\u001B[0m, in \u001B[0;36mDataFrame._set_item\u001B[1;34m(self, key, value)\u001B[0m\n\u001B[0;32m   4164\u001B[0m \u001B[38;5;28;01mdef\u001B[39;00m \u001B[38;5;21m_set_item\u001B[39m(\u001B[38;5;28mself\u001B[39m, key, value) \u001B[38;5;241m-\u001B[39m\u001B[38;5;241m>\u001B[39m \u001B[38;5;28;01mNone\u001B[39;00m:\n\u001B[0;32m   4165\u001B[0m     \u001B[38;5;124;03m\"\"\"\u001B[39;00m\n\u001B[0;32m   4166\u001B[0m \u001B[38;5;124;03m    Add series to DataFrame in specified column.\u001B[39;00m\n\u001B[0;32m   4167\u001B[0m \n\u001B[1;32m   (...)\u001B[0m\n\u001B[0;32m   4172\u001B[0m \u001B[38;5;124;03m    ensure homogeneity.\u001B[39;00m\n\u001B[0;32m   4173\u001B[0m \u001B[38;5;124;03m    \"\"\"\u001B[39;00m\n\u001B[1;32m-> 4174\u001B[0m     value \u001B[38;5;241m=\u001B[39m \u001B[38;5;28;43mself\u001B[39;49m\u001B[38;5;241;43m.\u001B[39;49m\u001B[43m_sanitize_column\u001B[49m\u001B[43m(\u001B[49m\u001B[43mvalue\u001B[49m\u001B[43m)\u001B[49m\n\u001B[0;32m   4176\u001B[0m     \u001B[38;5;28;01mif\u001B[39;00m (\n\u001B[0;32m   4177\u001B[0m         key \u001B[38;5;129;01min\u001B[39;00m \u001B[38;5;28mself\u001B[39m\u001B[38;5;241m.\u001B[39mcolumns\n\u001B[0;32m   4178\u001B[0m         \u001B[38;5;129;01mand\u001B[39;00m value\u001B[38;5;241m.\u001B[39mndim \u001B[38;5;241m==\u001B[39m \u001B[38;5;241m1\u001B[39m\n\u001B[0;32m   4179\u001B[0m         \u001B[38;5;129;01mand\u001B[39;00m \u001B[38;5;129;01mnot\u001B[39;00m is_extension_array_dtype(value)\n\u001B[0;32m   4180\u001B[0m     ):\n\u001B[0;32m   4181\u001B[0m         \u001B[38;5;66;03m# broadcast across multiple columns if necessary\u001B[39;00m\n\u001B[0;32m   4182\u001B[0m         \u001B[38;5;28;01mif\u001B[39;00m \u001B[38;5;129;01mnot\u001B[39;00m \u001B[38;5;28mself\u001B[39m\u001B[38;5;241m.\u001B[39mcolumns\u001B[38;5;241m.\u001B[39mis_unique \u001B[38;5;129;01mor\u001B[39;00m \u001B[38;5;28misinstance\u001B[39m(\u001B[38;5;28mself\u001B[39m\u001B[38;5;241m.\u001B[39mcolumns, MultiIndex):\n",
      "File \u001B[1;32m~\\anaconda3\\lib\\site-packages\\pandas\\core\\frame.py:4915\u001B[0m, in \u001B[0;36mDataFrame._sanitize_column\u001B[1;34m(self, value)\u001B[0m\n\u001B[0;32m   4912\u001B[0m     \u001B[38;5;28;01mreturn\u001B[39;00m _reindex_for_setitem(Series(value), \u001B[38;5;28mself\u001B[39m\u001B[38;5;241m.\u001B[39mindex)\n\u001B[0;32m   4914\u001B[0m \u001B[38;5;28;01mif\u001B[39;00m is_list_like(value):\n\u001B[1;32m-> 4915\u001B[0m     \u001B[43mcom\u001B[49m\u001B[38;5;241;43m.\u001B[39;49m\u001B[43mrequire_length_match\u001B[49m\u001B[43m(\u001B[49m\u001B[43mvalue\u001B[49m\u001B[43m,\u001B[49m\u001B[43m \u001B[49m\u001B[38;5;28;43mself\u001B[39;49m\u001B[38;5;241;43m.\u001B[39;49m\u001B[43mindex\u001B[49m\u001B[43m)\u001B[49m\n\u001B[0;32m   4916\u001B[0m \u001B[38;5;28;01mreturn\u001B[39;00m sanitize_array(value, \u001B[38;5;28mself\u001B[39m\u001B[38;5;241m.\u001B[39mindex, copy\u001B[38;5;241m=\u001B[39m\u001B[38;5;28;01mTrue\u001B[39;00m, allow_2d\u001B[38;5;241m=\u001B[39m\u001B[38;5;28;01mTrue\u001B[39;00m)\n",
      "File \u001B[1;32m~\\anaconda3\\lib\\site-packages\\pandas\\core\\common.py:571\u001B[0m, in \u001B[0;36mrequire_length_match\u001B[1;34m(data, index)\u001B[0m\n\u001B[0;32m    567\u001B[0m \u001B[38;5;124;03m\"\"\"\u001B[39;00m\n\u001B[0;32m    568\u001B[0m \u001B[38;5;124;03mCheck the length of data matches the length of the index.\u001B[39;00m\n\u001B[0;32m    569\u001B[0m \u001B[38;5;124;03m\"\"\"\u001B[39;00m\n\u001B[0;32m    570\u001B[0m \u001B[38;5;28;01mif\u001B[39;00m \u001B[38;5;28mlen\u001B[39m(data) \u001B[38;5;241m!=\u001B[39m \u001B[38;5;28mlen\u001B[39m(index):\n\u001B[1;32m--> 571\u001B[0m     \u001B[38;5;28;01mraise\u001B[39;00m \u001B[38;5;167;01mValueError\u001B[39;00m(\n\u001B[0;32m    572\u001B[0m         \u001B[38;5;124m\"\u001B[39m\u001B[38;5;124mLength of values \u001B[39m\u001B[38;5;124m\"\u001B[39m\n\u001B[0;32m    573\u001B[0m         \u001B[38;5;124mf\u001B[39m\u001B[38;5;124m\"\u001B[39m\u001B[38;5;124m(\u001B[39m\u001B[38;5;132;01m{\u001B[39;00m\u001B[38;5;28mlen\u001B[39m(data)\u001B[38;5;132;01m}\u001B[39;00m\u001B[38;5;124m) \u001B[39m\u001B[38;5;124m\"\u001B[39m\n\u001B[0;32m    574\u001B[0m         \u001B[38;5;124m\"\u001B[39m\u001B[38;5;124mdoes not match length of index \u001B[39m\u001B[38;5;124m\"\u001B[39m\n\u001B[0;32m    575\u001B[0m         \u001B[38;5;124mf\u001B[39m\u001B[38;5;124m\"\u001B[39m\u001B[38;5;124m(\u001B[39m\u001B[38;5;132;01m{\u001B[39;00m\u001B[38;5;28mlen\u001B[39m(index)\u001B[38;5;132;01m}\u001B[39;00m\u001B[38;5;124m)\u001B[39m\u001B[38;5;124m\"\u001B[39m\n\u001B[0;32m    576\u001B[0m     )\n",
      "\u001B[1;31mValueError\u001B[0m: Length of values (3414775) does not match length of index (3293)"
     ]
    }
   ],
   "source": [
    "# Calculate average ranking\n",
    "avg_ranking = preds.mean(axis=1)\n",
    "\n",
    "# Sort the dataset based on id and date\n",
    "orig.sort_values(by=['id', 'date'], inplace=True)\n",
    "\n",
    "# Assign the calculated ranks to the original dataset\n",
    "orig['rank'] = avg_ranking"
   ]
  },
  {
   "cell_type": "code",
   "execution_count": 123,
   "outputs": [
    {
     "data": {
      "text/plain": "(3414775, 1)"
     },
     "execution_count": 123,
     "metadata": {},
     "output_type": "execute_result"
    }
   ],
   "source": [
    "preds.shape"
   ],
   "metadata": {
    "collapsed": false,
    "ExecuteTime": {
     "end_time": "2023-07-11T21:41:49.882818400Z",
     "start_time": "2023-07-11T21:41:49.876814300Z"
    }
   }
  },
  {
   "cell_type": "code",
   "execution_count": 124,
   "outputs": [
    {
     "data": {
      "text/plain": "      date                                                 id         0  \\\n351      0  00086f670ab6f60f36f4226c88a3474c94a3022ae814ea... -0.392756   \n1765     2  00092392146e36b35f4766d0bc031a244f599d98e3e10a... -1.159224   \n1821     2  001c8409b3a896a93dee368ec7d370c4e338810ef54492...  0.995234   \n1659     2  002125fe502250eddd11684171c1c017bab7b3b24fb5a5...  1.754235   \n410      0  002c98d8b9637a366e25bf628820db372cdc26af221574... -0.688544   \n...    ...                                                ...       ...   \n2225     2  ffbe5b07ba887eed9eddc1661a5fb35c27b47fb4adac2c...  0.389726   \n1360     1  ffc445d61fdf7c65489c64051a5259dbdab578b4e041c5...  0.354836   \n217      0  ffd5cf0fd66f89d3505fc1f91c7636dadd2aac9112e536...  0.562925   \n1036     1  ffd70eeff7fd812165040b98a328320672a2d0210bf1c9...  1.642180   \n2248     2  fff7c1a30529d66d855a093886f1be6d6ac3f205261489... -2.391694   \n\n             1         2         3         4         5         6         7  \\\n351  -1.053607 -1.004719  0.897401 -1.435284  0.642041  1.109745 -0.913487   \n1765 -0.684363 -0.367090 -0.972604  0.009752 -0.223766 -0.444980 -0.503634   \n1821  0.213245  1.067418 -0.452851  1.351322 -0.150080 -1.356108  0.722105   \n1659  0.869792  1.305935 -0.501795  1.977401  0.387814 -1.333420  0.600955   \n410   2.333238 -0.685584  1.391184  0.645614 -2.344432 -0.375670  0.974930   \n...        ...       ...       ...       ...       ...       ...       ...   \n2225  0.789453  0.094558  0.251189  0.166130  0.360018 -1.080861 -0.422209   \n1360 -0.016632  1.654979  0.612811 -2.558559 -0.326919  2.902143  0.217578   \n217   1.196389 -0.635116 -0.056753  0.730782 -0.043954 -0.573020  0.440961   \n1036 -0.658324  1.081356  1.041215 -1.244178 -1.037753  0.648093  1.374484   \n2248 -0.237284 -2.247610  0.274237 -1.019506 -0.322215  1.601935 -1.119674   \n\n      ...       452       453       454       455       456       457  \\\n351   ...  0.283107  0.747310  1.022710  0.760914 -1.290996 -1.268141   \n1765  ...  1.439849 -0.195490 -0.548266 -0.518988  0.441649 -0.956321   \n1821  ...  0.058828 -0.209973 -0.582079 -1.164643  0.817361  0.316394   \n1659  ... -0.630083 -0.233698 -0.056356 -0.342771  0.949664  1.100303   \n410   ... -1.878088  0.720554 -1.451522  0.884413 -0.149627  0.438543   \n...   ...       ...       ...       ...       ...       ...       ...   \n2225  ...  0.331404 -0.154158  0.556353  0.129029  1.363718 -0.224603   \n1360  ...  2.927136  0.793230 -1.499924  0.714872 -1.911354  1.046456   \n217   ... -0.765363 -0.194500 -0.668569 -0.113827 -0.119953  0.730667   \n1036  ... -0.601683  0.308228 -0.374773  0.979396  0.917428  1.139827   \n2248  ...  0.410091  0.382099 -0.126338  0.542012 -1.246844  0.161953   \n\n           458       459       460         y  \n351  -0.175948  0.010643 -2.239050 -0.956221  \n1765  0.353774 -0.476675 -0.861099 -0.255869  \n1821  0.134055  0.927457  0.070424  0.302817  \n1659  0.270003  0.534746 -0.059752 -0.538922  \n410   0.117368 -1.476501  1.588611 -0.244792  \n...        ...       ...       ...       ...  \n2225  0.032384  0.404710 -1.013188  0.826347  \n1360 -0.694162 -4.021513  3.511131 -0.188482  \n217   0.881603  0.191178  0.074462  0.950549  \n1036  0.285111  1.684537 -1.514750 -0.408377  \n2248  0.257939 -0.497806  0.842781  0.664319  \n\n[3293 rows x 464 columns]",
      "text/html": "<div>\n<style scoped>\n    .dataframe tbody tr th:only-of-type {\n        vertical-align: middle;\n    }\n\n    .dataframe tbody tr th {\n        vertical-align: top;\n    }\n\n    .dataframe thead th {\n        text-align: right;\n    }\n</style>\n<table border=\"1\" class=\"dataframe\">\n  <thead>\n    <tr style=\"text-align: right;\">\n      <th></th>\n      <th>date</th>\n      <th>id</th>\n      <th>0</th>\n      <th>1</th>\n      <th>2</th>\n      <th>3</th>\n      <th>4</th>\n      <th>5</th>\n      <th>6</th>\n      <th>7</th>\n      <th>...</th>\n      <th>452</th>\n      <th>453</th>\n      <th>454</th>\n      <th>455</th>\n      <th>456</th>\n      <th>457</th>\n      <th>458</th>\n      <th>459</th>\n      <th>460</th>\n      <th>y</th>\n    </tr>\n  </thead>\n  <tbody>\n    <tr>\n      <th>351</th>\n      <td>0</td>\n      <td>00086f670ab6f60f36f4226c88a3474c94a3022ae814ea...</td>\n      <td>-0.392756</td>\n      <td>-1.053607</td>\n      <td>-1.004719</td>\n      <td>0.897401</td>\n      <td>-1.435284</td>\n      <td>0.642041</td>\n      <td>1.109745</td>\n      <td>-0.913487</td>\n      <td>...</td>\n      <td>0.283107</td>\n      <td>0.747310</td>\n      <td>1.022710</td>\n      <td>0.760914</td>\n      <td>-1.290996</td>\n      <td>-1.268141</td>\n      <td>-0.175948</td>\n      <td>0.010643</td>\n      <td>-2.239050</td>\n      <td>-0.956221</td>\n    </tr>\n    <tr>\n      <th>1765</th>\n      <td>2</td>\n      <td>00092392146e36b35f4766d0bc031a244f599d98e3e10a...</td>\n      <td>-1.159224</td>\n      <td>-0.684363</td>\n      <td>-0.367090</td>\n      <td>-0.972604</td>\n      <td>0.009752</td>\n      <td>-0.223766</td>\n      <td>-0.444980</td>\n      <td>-0.503634</td>\n      <td>...</td>\n      <td>1.439849</td>\n      <td>-0.195490</td>\n      <td>-0.548266</td>\n      <td>-0.518988</td>\n      <td>0.441649</td>\n      <td>-0.956321</td>\n      <td>0.353774</td>\n      <td>-0.476675</td>\n      <td>-0.861099</td>\n      <td>-0.255869</td>\n    </tr>\n    <tr>\n      <th>1821</th>\n      <td>2</td>\n      <td>001c8409b3a896a93dee368ec7d370c4e338810ef54492...</td>\n      <td>0.995234</td>\n      <td>0.213245</td>\n      <td>1.067418</td>\n      <td>-0.452851</td>\n      <td>1.351322</td>\n      <td>-0.150080</td>\n      <td>-1.356108</td>\n      <td>0.722105</td>\n      <td>...</td>\n      <td>0.058828</td>\n      <td>-0.209973</td>\n      <td>-0.582079</td>\n      <td>-1.164643</td>\n      <td>0.817361</td>\n      <td>0.316394</td>\n      <td>0.134055</td>\n      <td>0.927457</td>\n      <td>0.070424</td>\n      <td>0.302817</td>\n    </tr>\n    <tr>\n      <th>1659</th>\n      <td>2</td>\n      <td>002125fe502250eddd11684171c1c017bab7b3b24fb5a5...</td>\n      <td>1.754235</td>\n      <td>0.869792</td>\n      <td>1.305935</td>\n      <td>-0.501795</td>\n      <td>1.977401</td>\n      <td>0.387814</td>\n      <td>-1.333420</td>\n      <td>0.600955</td>\n      <td>...</td>\n      <td>-0.630083</td>\n      <td>-0.233698</td>\n      <td>-0.056356</td>\n      <td>-0.342771</td>\n      <td>0.949664</td>\n      <td>1.100303</td>\n      <td>0.270003</td>\n      <td>0.534746</td>\n      <td>-0.059752</td>\n      <td>-0.538922</td>\n    </tr>\n    <tr>\n      <th>410</th>\n      <td>0</td>\n      <td>002c98d8b9637a366e25bf628820db372cdc26af221574...</td>\n      <td>-0.688544</td>\n      <td>2.333238</td>\n      <td>-0.685584</td>\n      <td>1.391184</td>\n      <td>0.645614</td>\n      <td>-2.344432</td>\n      <td>-0.375670</td>\n      <td>0.974930</td>\n      <td>...</td>\n      <td>-1.878088</td>\n      <td>0.720554</td>\n      <td>-1.451522</td>\n      <td>0.884413</td>\n      <td>-0.149627</td>\n      <td>0.438543</td>\n      <td>0.117368</td>\n      <td>-1.476501</td>\n      <td>1.588611</td>\n      <td>-0.244792</td>\n    </tr>\n    <tr>\n      <th>...</th>\n      <td>...</td>\n      <td>...</td>\n      <td>...</td>\n      <td>...</td>\n      <td>...</td>\n      <td>...</td>\n      <td>...</td>\n      <td>...</td>\n      <td>...</td>\n      <td>...</td>\n      <td>...</td>\n      <td>...</td>\n      <td>...</td>\n      <td>...</td>\n      <td>...</td>\n      <td>...</td>\n      <td>...</td>\n      <td>...</td>\n      <td>...</td>\n      <td>...</td>\n      <td>...</td>\n    </tr>\n    <tr>\n      <th>2225</th>\n      <td>2</td>\n      <td>ffbe5b07ba887eed9eddc1661a5fb35c27b47fb4adac2c...</td>\n      <td>0.389726</td>\n      <td>0.789453</td>\n      <td>0.094558</td>\n      <td>0.251189</td>\n      <td>0.166130</td>\n      <td>0.360018</td>\n      <td>-1.080861</td>\n      <td>-0.422209</td>\n      <td>...</td>\n      <td>0.331404</td>\n      <td>-0.154158</td>\n      <td>0.556353</td>\n      <td>0.129029</td>\n      <td>1.363718</td>\n      <td>-0.224603</td>\n      <td>0.032384</td>\n      <td>0.404710</td>\n      <td>-1.013188</td>\n      <td>0.826347</td>\n    </tr>\n    <tr>\n      <th>1360</th>\n      <td>1</td>\n      <td>ffc445d61fdf7c65489c64051a5259dbdab578b4e041c5...</td>\n      <td>0.354836</td>\n      <td>-0.016632</td>\n      <td>1.654979</td>\n      <td>0.612811</td>\n      <td>-2.558559</td>\n      <td>-0.326919</td>\n      <td>2.902143</td>\n      <td>0.217578</td>\n      <td>...</td>\n      <td>2.927136</td>\n      <td>0.793230</td>\n      <td>-1.499924</td>\n      <td>0.714872</td>\n      <td>-1.911354</td>\n      <td>1.046456</td>\n      <td>-0.694162</td>\n      <td>-4.021513</td>\n      <td>3.511131</td>\n      <td>-0.188482</td>\n    </tr>\n    <tr>\n      <th>217</th>\n      <td>0</td>\n      <td>ffd5cf0fd66f89d3505fc1f91c7636dadd2aac9112e536...</td>\n      <td>0.562925</td>\n      <td>1.196389</td>\n      <td>-0.635116</td>\n      <td>-0.056753</td>\n      <td>0.730782</td>\n      <td>-0.043954</td>\n      <td>-0.573020</td>\n      <td>0.440961</td>\n      <td>...</td>\n      <td>-0.765363</td>\n      <td>-0.194500</td>\n      <td>-0.668569</td>\n      <td>-0.113827</td>\n      <td>-0.119953</td>\n      <td>0.730667</td>\n      <td>0.881603</td>\n      <td>0.191178</td>\n      <td>0.074462</td>\n      <td>0.950549</td>\n    </tr>\n    <tr>\n      <th>1036</th>\n      <td>1</td>\n      <td>ffd70eeff7fd812165040b98a328320672a2d0210bf1c9...</td>\n      <td>1.642180</td>\n      <td>-0.658324</td>\n      <td>1.081356</td>\n      <td>1.041215</td>\n      <td>-1.244178</td>\n      <td>-1.037753</td>\n      <td>0.648093</td>\n      <td>1.374484</td>\n      <td>...</td>\n      <td>-0.601683</td>\n      <td>0.308228</td>\n      <td>-0.374773</td>\n      <td>0.979396</td>\n      <td>0.917428</td>\n      <td>1.139827</td>\n      <td>0.285111</td>\n      <td>1.684537</td>\n      <td>-1.514750</td>\n      <td>-0.408377</td>\n    </tr>\n    <tr>\n      <th>2248</th>\n      <td>2</td>\n      <td>fff7c1a30529d66d855a093886f1be6d6ac3f205261489...</td>\n      <td>-2.391694</td>\n      <td>-0.237284</td>\n      <td>-2.247610</td>\n      <td>0.274237</td>\n      <td>-1.019506</td>\n      <td>-0.322215</td>\n      <td>1.601935</td>\n      <td>-1.119674</td>\n      <td>...</td>\n      <td>0.410091</td>\n      <td>0.382099</td>\n      <td>-0.126338</td>\n      <td>0.542012</td>\n      <td>-1.246844</td>\n      <td>0.161953</td>\n      <td>0.257939</td>\n      <td>-0.497806</td>\n      <td>0.842781</td>\n      <td>0.664319</td>\n    </tr>\n  </tbody>\n</table>\n<p>3293 rows × 464 columns</p>\n</div>"
     },
     "execution_count": 124,
     "metadata": {},
     "output_type": "execute_result"
    }
   ],
   "source": [
    "orig"
   ],
   "metadata": {
    "collapsed": false,
    "ExecuteTime": {
     "end_time": "2023-07-11T21:42:27.775226600Z",
     "start_time": "2023-07-11T21:42:27.732110400Z"
    }
   }
  },
  {
   "cell_type": "code",
   "execution_count": null,
   "outputs": [],
   "source": [],
   "metadata": {
    "collapsed": false
   }
  }
 ],
 "metadata": {
  "kernelspec": {
   "display_name": "Python 3 (ipykernel)",
   "language": "python",
   "name": "python3"
  },
  "language_info": {
   "codemirror_mode": {
    "name": "ipython",
    "version": 3
   },
   "file_extension": ".py",
   "mimetype": "text/x-python",
   "name": "python",
   "nbconvert_exporter": "python",
   "pygments_lexer": "ipython3",
   "version": "3.9.12"
  }
 },
 "nbformat": 4,
 "nbformat_minor": 4
}

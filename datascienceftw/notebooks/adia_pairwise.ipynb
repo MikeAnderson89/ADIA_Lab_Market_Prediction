{
 "cells": [
  {
   "cell_type": "code",
   "execution_count": 93,
   "metadata": {
    "tags": [],
    "ExecuteTime": {
     "end_time": "2023-07-12T14:10:07.538077100Z",
     "start_time": "2023-07-12T14:10:07.505565600Z"
    }
   },
   "outputs": [
    {
     "name": "stdout",
     "output_type": "stream",
     "text": [
      "[name: \"/device:CPU:0\"\n",
      "device_type: \"CPU\"\n",
      "memory_limit: 268435456\n",
      "locality {\n",
      "}\n",
      "incarnation: 3003821190938328815\n",
      "xla_global_id: -1\n",
      ", name: \"/device:GPU:0\"\n",
      "device_type: \"GPU\"\n",
      "memory_limit: 5718933504\n",
      "locality {\n",
      "  bus_id: 1\n",
      "  links {\n",
      "  }\n",
      "}\n",
      "incarnation: 8373500491870864921\n",
      "physical_device_desc: \"device: 0, name: NVIDIA GeForce RTX 3070, pci bus id: 0000:01:00.0, compute capability: 8.6\"\n",
      "xla_global_id: 416903419\n",
      "]\n"
     ]
    },
    {
     "data": {
      "text/plain": "'2.10.1'"
     },
     "execution_count": 93,
     "metadata": {},
     "output_type": "execute_result"
    }
   ],
   "source": [
    "import pandas as pd\n",
    "import seaborn as sns\n",
    "import matplotlib.pyplot as plt\n",
    "import numpy as np\n",
    "import scipy.stats as stats\n",
    "\n",
    "from sklearn.feature_selection import RFE\n",
    "from sklearn.linear_model import LinearRegression\n",
    "from sklearn.preprocessing import StandardScaler\n",
    "from sklearn.model_selection import train_test_split\n",
    "\n",
    "import tensorflow as tf\n",
    "from tensorflow import keras\n",
    "from keras.callbacks import ModelCheckpoint\n",
    "from keras.models import load_model\n",
    "from keras import backend as K\n",
    "from keras.callbacks import EarlyStopping\n",
    "from datetime import datetime\n",
    "from sklearn.metrics import mean_squared_error\n",
    "from sklearn.decomposition import PCA\n",
    "from scipy.stats import spearmanr\n",
    "import joblib\n",
    "\n",
    "from tensorflow.python.client import device_lib\n",
    "print(device_lib.list_local_devices())\n",
    "import sys\n",
    "tf.__version__"
   ]
  },
  {
   "cell_type": "code",
   "execution_count": 2,
   "metadata": {
    "collapsed": false,
    "jupyter": {
     "outputs_hidden": false
    },
    "ExecuteTime": {
     "end_time": "2023-07-12T01:09:18.022938500Z",
     "start_time": "2023-07-12T01:09:18.010438600Z"
    }
   },
   "outputs": [
    {
     "data": {
      "text/plain": "[PhysicalDevice(name='/physical_device:GPU:0', device_type='GPU')]"
     },
     "execution_count": 2,
     "metadata": {},
     "output_type": "execute_result"
    }
   ],
   "source": [
    "tf.config.list_physical_devices('GPU')"
   ]
  },
  {
   "cell_type": "code",
   "execution_count": 94,
   "metadata": {
    "collapsed": false,
    "jupyter": {
     "outputs_hidden": false
    },
    "ExecuteTime": {
     "end_time": "2023-07-12T14:10:12.297734700Z",
     "start_time": "2023-07-12T14:10:10.609148500Z"
    }
   },
   "outputs": [],
   "source": [
    "X_train_original_df = pd.read_parquet('../data/X_train.parquet')\n",
    "y_train_original_df = pd.read_parquet('../data/y_train.parquet')\n",
    "X_test_original_df = pd.read_parquet('../data/X_test.parquet')"
   ]
  },
  {
   "cell_type": "code",
   "execution_count": 96,
   "outputs": [
    {
     "ename": "AttributeError",
     "evalue": "'numpy.ndarray' object has no attribute 'to_list'",
     "output_type": "error",
     "traceback": [
      "\u001B[1;31m---------------------------------------------------------------------------\u001B[0m",
      "\u001B[1;31mAttributeError\u001B[0m                            Traceback (most recent call last)",
      "Cell \u001B[1;32mIn[96], line 1\u001B[0m\n\u001B[1;32m----> 1\u001B[0m \u001B[43mX_train_original_df\u001B[49m\u001B[43m[\u001B[49m\u001B[38;5;124;43m'\u001B[39;49m\u001B[38;5;124;43mdate\u001B[39;49m\u001B[38;5;124;43m'\u001B[39;49m\u001B[43m]\u001B[49m\u001B[38;5;241;43m.\u001B[39;49m\u001B[43munique\u001B[49m\u001B[43m(\u001B[49m\u001B[43m)\u001B[49m\u001B[38;5;241;43m.\u001B[39;49m\u001B[43mto_list\u001B[49m()\n",
      "\u001B[1;31mAttributeError\u001B[0m: 'numpy.ndarray' object has no attribute 'to_list'"
     ]
    }
   ],
   "source": [
    "X_train_original_df['date'].unique().to_list()"
   ],
   "metadata": {
    "collapsed": false,
    "ExecuteTime": {
     "end_time": "2023-07-12T14:10:39.152536200Z",
     "start_time": "2023-07-12T14:10:39.117432900Z"
    }
   }
  },
  {
   "cell_type": "code",
   "execution_count": 78,
   "metadata": {
    "collapsed": false,
    "jupyter": {
     "outputs_hidden": false
    },
    "ExecuteTime": {
     "end_time": "2023-07-12T03:54:22.705646400Z",
     "start_time": "2023-07-12T03:54:22.668408400Z"
    }
   },
   "outputs": [],
   "source": [
    "X_orig = X_train_original_df[X_train_original_df['date'] <= 2]\n",
    "y_orig = y_train_original_df[y_train_original_df['date'] <= 2]\n",
    "X_train = X_train_original_df[X_train_original_df['date'] <= 2]\n",
    "y_train = y_train_original_df[y_train_original_df['date'] <= 2]\n",
    "\n",
    "orig = pd.merge(X_orig, y_orig, on=['date', 'id'], how='outer')"
   ]
  },
  {
   "cell_type": "code",
   "execution_count": 18,
   "metadata": {
    "collapsed": false,
    "jupyter": {
     "outputs_hidden": false
    },
    "ExecuteTime": {
     "end_time": "2023-07-12T01:11:34.674591600Z",
     "start_time": "2023-07-12T01:11:34.667594200Z"
    }
   },
   "outputs": [],
   "source": [
    "#We'll see how the model does with all features first, and then go back and refine\n",
    "\n",
    "# selected_features = ['0', '24', '26', '29', '51', '63', '72', '77', '94', '96', '99', '104',\n",
    "#                      '125', '127', '147', '155', '159', '164', '168', '170', '171', '188',\n",
    "#                      '192', '207', '217', '232', '240', '256', '259', '267', '283', '289',\n",
    "#                      '305', '315', '319', '340', '343', '344', '354', '378', '386', '387',\n",
    "#                      '399', '400', '406', '407', '420', '437', '444', '455']"
   ]
  },
  {
   "cell_type": "code",
   "execution_count": 76,
   "metadata": {
    "collapsed": false,
    "jupyter": {
     "outputs_hidden": false
    },
    "ExecuteTime": {
     "end_time": "2023-07-12T03:54:14.624060800Z",
     "start_time": "2023-07-12T03:54:14.591932600Z"
    }
   },
   "outputs": [],
   "source": [
    "X_train = np.asarray(X_train)\n",
    "\n",
    "y_train = np.asarray(list(y_train['y']))"
   ]
  },
  {
   "cell_type": "code",
   "execution_count": 20,
   "metadata": {
    "collapsed": false,
    "jupyter": {
     "outputs_hidden": false
    },
    "ExecuteTime": {
     "end_time": "2023-07-12T01:11:35.015231900Z",
     "start_time": "2023-07-12T01:11:35.007232600Z"
    }
   },
   "outputs": [],
   "source": [
    "def convert_to_pairwise(X_train, y_train):\n",
    "    pairs = []\n",
    "    labels = []\n",
    "    ids = []\n",
    "    n_samples = X_train.shape[0]\n",
    "    for i in range(n_samples):\n",
    "        for j in range(i+1, n_samples):\n",
    "            pairs.append([X_train[i, 2:], X_train[j, 2:]])\n",
    "            ids.append([X_train[i, :2], X_train[j, :2]])\n",
    "            labels.append(1 if y_train[i] > y_train[j] else 0)\n",
    "    return np.array(pairs).astype('float32'), np.array(labels).astype('float32'), np.array(ids)"
   ]
  },
  {
   "cell_type": "code",
   "execution_count": 21,
   "metadata": {
    "collapsed": false,
    "jupyter": {
     "outputs_hidden": false
    },
    "ExecuteTime": {
     "end_time": "2023-07-12T01:11:35.276354900Z",
     "start_time": "2023-07-12T01:11:35.172835300Z"
    }
   },
   "outputs": [],
   "source": [
    "#Scaling and PCA\n",
    "scaler = StandardScaler()\n",
    "X_train[:,2:] = scaler.fit_transform(X_train[:,2:])\n",
    "\n",
    "n_components = 40  # Adjust the number of components as per your requirements\n",
    "pca = PCA(n_components=n_components)\n",
    "pca_ids = X_train[:,:2]\n",
    "pca_features = pca.fit_transform(X_train[:,2:])"
   ]
  },
  {
   "cell_type": "code",
   "execution_count": 22,
   "outputs": [],
   "source": [
    "X_train_concat = np.concatenate((pca_ids, pca_features), axis=1)"
   ],
   "metadata": {
    "collapsed": false,
    "ExecuteTime": {
     "end_time": "2023-07-12T01:11:35.400332900Z",
     "start_time": "2023-07-12T01:11:35.386438600Z"
    }
   }
  },
  {
   "cell_type": "code",
   "execution_count": 23,
   "metadata": {
    "collapsed": false,
    "jupyter": {
     "outputs_hidden": false
    },
    "ExecuteTime": {
     "end_time": "2023-07-12T01:11:46.469276Z",
     "start_time": "2023-07-12T01:11:35.725325100Z"
    }
   },
   "outputs": [],
   "source": [
    "X_train_pairs, y_train_labels, X_train_ids = convert_to_pairwise(X_train_concat, y_train)"
   ]
  },
  {
   "cell_type": "markdown",
   "metadata": {},
   "source": [
    "# Model"
   ]
  },
  {
   "cell_type": "code",
   "execution_count": 24,
   "metadata": {
    "collapsed": false,
    "jupyter": {
     "outputs_hidden": false
    },
    "ExecuteTime": {
     "end_time": "2023-07-12T01:11:46.903394300Z",
     "start_time": "2023-07-12T01:11:46.470276500Z"
    }
   },
   "outputs": [],
   "source": [
    "#Get train and test datasets\n",
    "X_train_nn, X_test_nn, y_train_nn, y_test_nn = train_test_split(X_train_pairs, y_train_labels, random_state=42, shuffle=True, test_size=0.3)"
   ]
  },
  {
   "cell_type": "code",
   "execution_count": 25,
   "metadata": {
    "collapsed": false,
    "jupyter": {
     "outputs_hidden": false
    },
    "ExecuteTime": {
     "end_time": "2023-07-12T01:11:46.918400400Z",
     "start_time": "2023-07-12T01:11:46.905894400Z"
    }
   },
   "outputs": [],
   "source": [
    "def get_spearman_rankcor(y_true, y_pred):\n",
    "    return ( tf.py_function(stats.spearmanr, [tf.cast(y_pred, tf.float32),\n",
    "                                              tf.cast(y_true, tf.float32)], Tout = tf.float32) )\n",
    "\n",
    "# Custom loss function based on Spearman correlation\n",
    "def spearman_loss(y_true, y_pred):\n",
    "    true_ranks = tf.argsort(tf.argsort(y_true))\n",
    "    pred_ranks = tf.argsort(tf.argsort(y_pred))\n",
    "    srcc = tf.py_function(spearmanr, [true_ranks, pred_ranks], tf.float32)\n",
    "    return -srcc\n",
    "\n",
    "# Custom metric based on Spearman correlation\n",
    "def spearman_correlation(y_true, y_pred):\n",
    "    true_ranks = tf.argsort(tf.argsort(y_true))\n",
    "    pred_ranks = tf.argsort(tf.argsort(y_pred))\n",
    "    srcc = tf.py_function(spearmanr, [true_ranks, pred_ranks], tf.float32)\n",
    "    return srcc"
   ]
  },
  {
   "cell_type": "code",
   "execution_count": 26,
   "metadata": {
    "collapsed": false,
    "jupyter": {
     "outputs_hidden": false
    },
    "ExecuteTime": {
     "end_time": "2023-07-12T01:11:47.011271400Z",
     "start_time": "2023-07-12T01:11:46.921396600Z"
    }
   },
   "outputs": [],
   "source": [
    "mc = ModelCheckpoint(f'../resources/adia_neural_network.h5', monitor='val_loss', mode='min', verbose=1, save_best_only=True)\n",
    "\n",
    "early_stopping = EarlyStopping(\n",
    "    monitor='val_loss',\n",
    "    patience=5,\n",
    "    verbose=0,\n",
    "    mode='auto',\n",
    "    baseline=None,\n",
    "    restore_best_weights=True)\n",
    "\n",
    "model = keras.Sequential([\n",
    "    keras.layers.Dense(800, activation='relu', kernel_initializer='lecun_normal', input_shape=(X_train_nn.shape[1], X_train_nn.shape[2])),\n",
    "    keras.layers.BatchNormalization(),\n",
    "    keras.layers.Dense(500, activation='relu', kernel_initializer='lecun_normal'),\n",
    "    keras.layers.BatchNormalization(),\n",
    "    keras.layers.Dense(250, activation='relu', kernel_initializer='lecun_normal'),\n",
    "    keras.layers.BatchNormalization(),\n",
    "    keras.layers.Dense(100, activation='relu', kernel_initializer='lecun_normal'),\n",
    "    keras.layers.BatchNormalization(),\n",
    "    keras.layers.Flatten(),\n",
    "    keras.layers.Dense(1, activation='sigmoid', kernel_initializer='lecun_normal')\n",
    "])\n",
    "\n",
    "optimizer = keras.optimizers.Adam(learning_rate=3e-4)\n",
    "\n",
    "model.compile(optimizer=optimizer,\n",
    "              loss='binary_crossentropy',\n",
    "              metrics=['accuracy'])"
   ]
  },
  {
   "cell_type": "code",
   "execution_count": 27,
   "metadata": {
    "collapsed": false,
    "jupyter": {
     "outputs_hidden": false
    },
    "ExecuteTime": {
     "end_time": "2023-07-12T01:12:07.946284700Z",
     "start_time": "2023-07-12T01:11:47.011769400Z"
    }
   },
   "outputs": [
    {
     "name": "stdout",
     "output_type": "stream",
     "text": [
      "Epoch 1/3\n",
      "396/399 [============================>.] - ETA: 0s - loss: 0.2632 - accuracy: 0.8928\n",
      "Epoch 1: val_loss improved from inf to 0.18204, saving model to ../resources\\adia_neural_network.h5\n",
      "399/399 [==============================] - 7s 17ms/step - loss: 0.2626 - accuracy: 0.8931 - val_loss: 0.1820 - val_accuracy: 0.9356\n",
      "Epoch 2/3\n",
      "397/399 [============================>.] - ETA: 0s - loss: 0.1548 - accuracy: 0.9445\n",
      "Epoch 2: val_loss improved from 0.18204 to 0.14159, saving model to ../resources\\adia_neural_network.h5\n",
      "399/399 [==============================] - 7s 16ms/step - loss: 0.1547 - accuracy: 0.9445 - val_loss: 0.1416 - val_accuracy: 0.9491\n",
      "Epoch 3/3\n",
      "396/399 [============================>.] - ETA: 0s - loss: 0.1273 - accuracy: 0.9551\n",
      "Epoch 3: val_loss improved from 0.14159 to 0.12626, saving model to ../resources\\adia_neural_network.h5\n",
      "399/399 [==============================] - 7s 16ms/step - loss: 0.1273 - accuracy: 0.9551 - val_loss: 0.1263 - val_accuracy: 0.9543\n"
     ]
    }
   ],
   "source": [
    "history = model.fit(\n",
    "    X_train_nn,\n",
    "    y_train_nn,\n",
    "    batch_size=5000,\n",
    "    epochs=3,\n",
    "    validation_data=[X_test_nn, y_test_nn],\n",
    "    callbacks=[mc, early_stopping],\n",
    "    shuffle=False,\n",
    "    use_multiprocessing=True\n",
    ")"
   ]
  },
  {
   "cell_type": "code",
   "execution_count": 28,
   "metadata": {
    "collapsed": false,
    "jupyter": {
     "outputs_hidden": false
    },
    "ExecuteTime": {
     "end_time": "2023-07-12T01:12:11.760337Z",
     "start_time": "2023-07-12T01:12:08.043897500Z"
    }
   },
   "outputs": [
    {
     "name": "stdout",
     "output_type": "stream",
     "text": [
      "949/949 [==============================] - 3s 3ms/step\n"
     ]
    }
   ],
   "source": [
    "preds = model.predict(X_train_pairs, batch_size=3000)"
   ]
  },
  {
   "cell_type": "code",
   "execution_count": 30,
   "outputs": [
    {
     "data": {
      "text/plain": "<tf.Tensor: shape=(), dtype=float32, numpy=0.84999716>"
     },
     "execution_count": 30,
     "metadata": {},
     "output_type": "execute_result"
    }
   ],
   "source": [
    "get_spearman_rankcor(y_train_labels, preds)"
   ],
   "metadata": {
    "collapsed": false,
    "ExecuteTime": {
     "end_time": "2023-07-12T01:12:16.257436Z",
     "start_time": "2023-07-12T01:12:15.696271500Z"
    }
   }
  },
  {
   "cell_type": "code",
   "execution_count": 58,
   "outputs": [],
   "source": [
    "preds_df_1 = pd.DataFrame({'id': X_train_ids[:,0,1].flatten(), 'date': X_train_ids[:,0,0].flatten(), 'prediction': preds.flatten()})\n",
    "#preds_df_2 = pd.DataFrame({'id': X_train_ids[:,1,1].flatten(), 'date': X_train_ids[:,1,0].flatten(), 'prediction': preds.flatten()})\n",
    "\n",
    "# Merge the predictions with the original dataset based on ids and dates\n",
    "result = pd.merge(orig, preds_df_1, on=['id', 'date'], how='left')"
   ],
   "metadata": {
    "collapsed": false,
    "ExecuteTime": {
     "end_time": "2023-07-12T01:33:55.426581100Z",
     "start_time": "2023-07-12T01:33:51.855770200Z"
    }
   }
  },
  {
   "cell_type": "code",
   "execution_count": 59,
   "outputs": [
    {
     "data": {
      "text/plain": "      date                                                 id  prediction\n0        0  00086f670ab6f60f36f4226c88a3474c94a3022ae814ea...    0.026589\n1        0  002c98d8b9637a366e25bf628820db372cdc26af221574...    0.369351\n2        0  00bce20d560663f9578898d727c6b7594e368c4a0916e7...    0.863204\n3        0  00ef81dcf5e0e82f4c6e34cdc67cb5dbed174465db4dd6...    0.622007\n4        0  0135bb59a8c5e5a0af25ac1a2ca7787fc67a559e4c29dd...    0.380088\n...    ...                                                ...         ...\n2381     2  ff423e0ac8b473b5df86daefe10bf9915f9c5cffe8a060...    0.024422\n2382     2  ff4d6c412b95517450955d0fb7880c5738bed79efe740c...    0.354214\n2383     2  ff814593d8304285e14d448a1199e64bc157ed2a3d5191...    0.371606\n2384     2  ffbe5b07ba887eed9eddc1661a5fb35c27b47fb4adac2c...    0.894865\n2385     2  fff7c1a30529d66d855a093886f1be6d6ac3f205261489...    0.805659\n\n[2386 rows x 3 columns]",
      "text/html": "<div>\n<style scoped>\n    .dataframe tbody tr th:only-of-type {\n        vertical-align: middle;\n    }\n\n    .dataframe tbody tr th {\n        vertical-align: top;\n    }\n\n    .dataframe thead th {\n        text-align: right;\n    }\n</style>\n<table border=\"1\" class=\"dataframe\">\n  <thead>\n    <tr style=\"text-align: right;\">\n      <th></th>\n      <th>date</th>\n      <th>id</th>\n      <th>prediction</th>\n    </tr>\n  </thead>\n  <tbody>\n    <tr>\n      <th>0</th>\n      <td>0</td>\n      <td>00086f670ab6f60f36f4226c88a3474c94a3022ae814ea...</td>\n      <td>0.026589</td>\n    </tr>\n    <tr>\n      <th>1</th>\n      <td>0</td>\n      <td>002c98d8b9637a366e25bf628820db372cdc26af221574...</td>\n      <td>0.369351</td>\n    </tr>\n    <tr>\n      <th>2</th>\n      <td>0</td>\n      <td>00bce20d560663f9578898d727c6b7594e368c4a0916e7...</td>\n      <td>0.863204</td>\n    </tr>\n    <tr>\n      <th>3</th>\n      <td>0</td>\n      <td>00ef81dcf5e0e82f4c6e34cdc67cb5dbed174465db4dd6...</td>\n      <td>0.622007</td>\n    </tr>\n    <tr>\n      <th>4</th>\n      <td>0</td>\n      <td>0135bb59a8c5e5a0af25ac1a2ca7787fc67a559e4c29dd...</td>\n      <td>0.380088</td>\n    </tr>\n    <tr>\n      <th>...</th>\n      <td>...</td>\n      <td>...</td>\n      <td>...</td>\n    </tr>\n    <tr>\n      <th>2381</th>\n      <td>2</td>\n      <td>ff423e0ac8b473b5df86daefe10bf9915f9c5cffe8a060...</td>\n      <td>0.024422</td>\n    </tr>\n    <tr>\n      <th>2382</th>\n      <td>2</td>\n      <td>ff4d6c412b95517450955d0fb7880c5738bed79efe740c...</td>\n      <td>0.354214</td>\n    </tr>\n    <tr>\n      <th>2383</th>\n      <td>2</td>\n      <td>ff814593d8304285e14d448a1199e64bc157ed2a3d5191...</td>\n      <td>0.371606</td>\n    </tr>\n    <tr>\n      <th>2384</th>\n      <td>2</td>\n      <td>ffbe5b07ba887eed9eddc1661a5fb35c27b47fb4adac2c...</td>\n      <td>0.894865</td>\n    </tr>\n    <tr>\n      <th>2385</th>\n      <td>2</td>\n      <td>fff7c1a30529d66d855a093886f1be6d6ac3f205261489...</td>\n      <td>0.805659</td>\n    </tr>\n  </tbody>\n</table>\n<p>2386 rows × 3 columns</p>\n</div>"
     },
     "execution_count": 59,
     "metadata": {},
     "output_type": "execute_result"
    }
   ],
   "source": [
    "#result = pd.concat([result, preds_df_2], axis=0)\n",
    "result = result[['date', 'id', 'prediction']].groupby(['date', 'id']).mean().reset_index()\n",
    "result"
   ],
   "metadata": {
    "collapsed": false,
    "ExecuteTime": {
     "end_time": "2023-07-12T01:34:01.230573900Z",
     "start_time": "2023-07-12T01:33:57.788506100Z"
    }
   }
  },
  {
   "cell_type": "code",
   "execution_count": 40,
   "outputs": [
    {
     "data": {
      "text/plain": "      date                                                 id         0  \\\n0        0  dae29c8061b3176b9208f26afbb96e2ca50886db41902d... -0.909515   \n1        0  2f71f1b5d49fbd131351df95848dc91ab14662af62d4d0... -0.107694   \n2        0  b8d41ef950b69f94c380410f59f47e15666c57b74573b6...  0.092316   \n3        0  cdce060d04ce28a551eaab653cc4b01f5ad878aeb932ec...  4.119639   \n4        0  86f6e6d9407ad3abfab91a3bbfb7ad71553e3f968765b8...  0.109644   \n...    ...                                                ...       ...   \n2381     2  680d730b3461c2eb4afb2180e74470aff04dde0785f8b3... -0.934337   \n2382     2  b65df8d975c30b01386cfc48f558a022d0b798a81588a1...  0.203653   \n2383     2  831d68a034bdf0b1eced4c8ec39a8462774dd6a9d4bd62... -1.344671   \n2384     2  49d3f2c79cd56ba9be104a7e84bf9cdd3052fa5ed547c2...  0.996614   \n2385     2  a9149cd782f46254727fae5b318c782f3f898ecdb1020a...  0.514250   \n\n             1         2         3         4         5         6         7  \\\n0     0.388808 -1.535913 -0.133312 -1.826404 -0.532795  0.351273  0.158866   \n1    -0.097967 -0.539599 -0.331276 -0.942609 -0.054123 -1.212772  1.688034   \n2     0.052596 -0.652025  1.218241  0.382968 -0.861838 -0.318937 -0.744261   \n3     1.018918  3.687519  1.597563  0.055918 -1.406041  0.652994  0.251138   \n4    -0.290280 -0.278987 -0.603259  0.136952 -1.725076 -0.062219 -0.183102   \n...        ...       ...       ...       ...       ...       ...       ...   \n2381 -0.751031  1.880259  1.460534 -0.514566  0.140587 -0.070087 -0.413820   \n2382 -0.166871 -0.747866 -0.260202  0.531357  0.440906 -0.085927  0.535370   \n2383 -1.820279  0.992266  0.110530  0.554084 -1.874186 -0.754604 -0.385738   \n2384 -0.567071  0.394580  0.396793  0.553907  0.981516  0.090325 -0.356672   \n2385  0.371432  0.491265 -0.689905  0.540512 -0.361685 -0.385262  0.559049   \n\n      ...       452       453       454       455       456       457  \\\n0     ... -0.456020 -0.257331  0.396074  0.318007 -0.538754 -0.625193   \n1     ... -0.984907 -0.429806  0.199055  0.202587  1.612578  0.302153   \n2     ... -0.046016  1.147463  0.696961 -0.574426  1.255969  0.270394   \n3     ... -1.155922 -1.108540 -2.046100  1.311100 -0.322965  0.999248   \n4     ... -0.482311 -0.269142 -0.899796  1.083332  0.674665 -1.095657   \n...   ...       ...       ...       ...       ...       ...       ...   \n2381  ...  0.894572  0.577557 -0.947367 -3.114039 -1.490575  2.679698   \n2382  ...  0.773311  0.364477  0.331518 -1.230837  0.839055 -0.898724   \n2383  ...  1.165428  0.314596 -0.296145 -0.338750  0.690880 -0.446585   \n2384  ... -1.165739  0.358323  0.398288 -0.554795 -0.234889  2.252474   \n2385  ...  0.094784  0.232582  0.774143  0.415339 -0.434458  0.586916   \n\n           458       459       460         y  \n0    -0.753419  0.154403  1.069385  0.192308  \n1    -0.165713  0.905807  0.083180 -0.476959  \n2     1.272939 -0.643112  0.433585  0.080645  \n3    -1.238640  0.882844 -1.333590  0.953125  \n4    -0.402669  0.677189  0.319992 -0.979263  \n...        ...       ...       ...       ...  \n2381  2.641528 -2.363223  0.957594  0.720657  \n2382  0.608445  0.013442  0.775747 -0.246479  \n2383  1.206716 -0.088316 -0.030771 -0.058685  \n2384  0.808473  1.421106  0.636106  0.687831  \n2385  1.331285  0.520947 -0.690579 -0.958084  \n\n[2386 rows x 464 columns]",
      "text/html": "<div>\n<style scoped>\n    .dataframe tbody tr th:only-of-type {\n        vertical-align: middle;\n    }\n\n    .dataframe tbody tr th {\n        vertical-align: top;\n    }\n\n    .dataframe thead th {\n        text-align: right;\n    }\n</style>\n<table border=\"1\" class=\"dataframe\">\n  <thead>\n    <tr style=\"text-align: right;\">\n      <th></th>\n      <th>date</th>\n      <th>id</th>\n      <th>0</th>\n      <th>1</th>\n      <th>2</th>\n      <th>3</th>\n      <th>4</th>\n      <th>5</th>\n      <th>6</th>\n      <th>7</th>\n      <th>...</th>\n      <th>452</th>\n      <th>453</th>\n      <th>454</th>\n      <th>455</th>\n      <th>456</th>\n      <th>457</th>\n      <th>458</th>\n      <th>459</th>\n      <th>460</th>\n      <th>y</th>\n    </tr>\n  </thead>\n  <tbody>\n    <tr>\n      <th>0</th>\n      <td>0</td>\n      <td>dae29c8061b3176b9208f26afbb96e2ca50886db41902d...</td>\n      <td>-0.909515</td>\n      <td>0.388808</td>\n      <td>-1.535913</td>\n      <td>-0.133312</td>\n      <td>-1.826404</td>\n      <td>-0.532795</td>\n      <td>0.351273</td>\n      <td>0.158866</td>\n      <td>...</td>\n      <td>-0.456020</td>\n      <td>-0.257331</td>\n      <td>0.396074</td>\n      <td>0.318007</td>\n      <td>-0.538754</td>\n      <td>-0.625193</td>\n      <td>-0.753419</td>\n      <td>0.154403</td>\n      <td>1.069385</td>\n      <td>0.192308</td>\n    </tr>\n    <tr>\n      <th>1</th>\n      <td>0</td>\n      <td>2f71f1b5d49fbd131351df95848dc91ab14662af62d4d0...</td>\n      <td>-0.107694</td>\n      <td>-0.097967</td>\n      <td>-0.539599</td>\n      <td>-0.331276</td>\n      <td>-0.942609</td>\n      <td>-0.054123</td>\n      <td>-1.212772</td>\n      <td>1.688034</td>\n      <td>...</td>\n      <td>-0.984907</td>\n      <td>-0.429806</td>\n      <td>0.199055</td>\n      <td>0.202587</td>\n      <td>1.612578</td>\n      <td>0.302153</td>\n      <td>-0.165713</td>\n      <td>0.905807</td>\n      <td>0.083180</td>\n      <td>-0.476959</td>\n    </tr>\n    <tr>\n      <th>2</th>\n      <td>0</td>\n      <td>b8d41ef950b69f94c380410f59f47e15666c57b74573b6...</td>\n      <td>0.092316</td>\n      <td>0.052596</td>\n      <td>-0.652025</td>\n      <td>1.218241</td>\n      <td>0.382968</td>\n      <td>-0.861838</td>\n      <td>-0.318937</td>\n      <td>-0.744261</td>\n      <td>...</td>\n      <td>-0.046016</td>\n      <td>1.147463</td>\n      <td>0.696961</td>\n      <td>-0.574426</td>\n      <td>1.255969</td>\n      <td>0.270394</td>\n      <td>1.272939</td>\n      <td>-0.643112</td>\n      <td>0.433585</td>\n      <td>0.080645</td>\n    </tr>\n    <tr>\n      <th>3</th>\n      <td>0</td>\n      <td>cdce060d04ce28a551eaab653cc4b01f5ad878aeb932ec...</td>\n      <td>4.119639</td>\n      <td>1.018918</td>\n      <td>3.687519</td>\n      <td>1.597563</td>\n      <td>0.055918</td>\n      <td>-1.406041</td>\n      <td>0.652994</td>\n      <td>0.251138</td>\n      <td>...</td>\n      <td>-1.155922</td>\n      <td>-1.108540</td>\n      <td>-2.046100</td>\n      <td>1.311100</td>\n      <td>-0.322965</td>\n      <td>0.999248</td>\n      <td>-1.238640</td>\n      <td>0.882844</td>\n      <td>-1.333590</td>\n      <td>0.953125</td>\n    </tr>\n    <tr>\n      <th>4</th>\n      <td>0</td>\n      <td>86f6e6d9407ad3abfab91a3bbfb7ad71553e3f968765b8...</td>\n      <td>0.109644</td>\n      <td>-0.290280</td>\n      <td>-0.278987</td>\n      <td>-0.603259</td>\n      <td>0.136952</td>\n      <td>-1.725076</td>\n      <td>-0.062219</td>\n      <td>-0.183102</td>\n      <td>...</td>\n      <td>-0.482311</td>\n      <td>-0.269142</td>\n      <td>-0.899796</td>\n      <td>1.083332</td>\n      <td>0.674665</td>\n      <td>-1.095657</td>\n      <td>-0.402669</td>\n      <td>0.677189</td>\n      <td>0.319992</td>\n      <td>-0.979263</td>\n    </tr>\n    <tr>\n      <th>...</th>\n      <td>...</td>\n      <td>...</td>\n      <td>...</td>\n      <td>...</td>\n      <td>...</td>\n      <td>...</td>\n      <td>...</td>\n      <td>...</td>\n      <td>...</td>\n      <td>...</td>\n      <td>...</td>\n      <td>...</td>\n      <td>...</td>\n      <td>...</td>\n      <td>...</td>\n      <td>...</td>\n      <td>...</td>\n      <td>...</td>\n      <td>...</td>\n      <td>...</td>\n      <td>...</td>\n    </tr>\n    <tr>\n      <th>2381</th>\n      <td>2</td>\n      <td>680d730b3461c2eb4afb2180e74470aff04dde0785f8b3...</td>\n      <td>-0.934337</td>\n      <td>-0.751031</td>\n      <td>1.880259</td>\n      <td>1.460534</td>\n      <td>-0.514566</td>\n      <td>0.140587</td>\n      <td>-0.070087</td>\n      <td>-0.413820</td>\n      <td>...</td>\n      <td>0.894572</td>\n      <td>0.577557</td>\n      <td>-0.947367</td>\n      <td>-3.114039</td>\n      <td>-1.490575</td>\n      <td>2.679698</td>\n      <td>2.641528</td>\n      <td>-2.363223</td>\n      <td>0.957594</td>\n      <td>0.720657</td>\n    </tr>\n    <tr>\n      <th>2382</th>\n      <td>2</td>\n      <td>b65df8d975c30b01386cfc48f558a022d0b798a81588a1...</td>\n      <td>0.203653</td>\n      <td>-0.166871</td>\n      <td>-0.747866</td>\n      <td>-0.260202</td>\n      <td>0.531357</td>\n      <td>0.440906</td>\n      <td>-0.085927</td>\n      <td>0.535370</td>\n      <td>...</td>\n      <td>0.773311</td>\n      <td>0.364477</td>\n      <td>0.331518</td>\n      <td>-1.230837</td>\n      <td>0.839055</td>\n      <td>-0.898724</td>\n      <td>0.608445</td>\n      <td>0.013442</td>\n      <td>0.775747</td>\n      <td>-0.246479</td>\n    </tr>\n    <tr>\n      <th>2383</th>\n      <td>2</td>\n      <td>831d68a034bdf0b1eced4c8ec39a8462774dd6a9d4bd62...</td>\n      <td>-1.344671</td>\n      <td>-1.820279</td>\n      <td>0.992266</td>\n      <td>0.110530</td>\n      <td>0.554084</td>\n      <td>-1.874186</td>\n      <td>-0.754604</td>\n      <td>-0.385738</td>\n      <td>...</td>\n      <td>1.165428</td>\n      <td>0.314596</td>\n      <td>-0.296145</td>\n      <td>-0.338750</td>\n      <td>0.690880</td>\n      <td>-0.446585</td>\n      <td>1.206716</td>\n      <td>-0.088316</td>\n      <td>-0.030771</td>\n      <td>-0.058685</td>\n    </tr>\n    <tr>\n      <th>2384</th>\n      <td>2</td>\n      <td>49d3f2c79cd56ba9be104a7e84bf9cdd3052fa5ed547c2...</td>\n      <td>0.996614</td>\n      <td>-0.567071</td>\n      <td>0.394580</td>\n      <td>0.396793</td>\n      <td>0.553907</td>\n      <td>0.981516</td>\n      <td>0.090325</td>\n      <td>-0.356672</td>\n      <td>...</td>\n      <td>-1.165739</td>\n      <td>0.358323</td>\n      <td>0.398288</td>\n      <td>-0.554795</td>\n      <td>-0.234889</td>\n      <td>2.252474</td>\n      <td>0.808473</td>\n      <td>1.421106</td>\n      <td>0.636106</td>\n      <td>0.687831</td>\n    </tr>\n    <tr>\n      <th>2385</th>\n      <td>2</td>\n      <td>a9149cd782f46254727fae5b318c782f3f898ecdb1020a...</td>\n      <td>0.514250</td>\n      <td>0.371432</td>\n      <td>0.491265</td>\n      <td>-0.689905</td>\n      <td>0.540512</td>\n      <td>-0.361685</td>\n      <td>-0.385262</td>\n      <td>0.559049</td>\n      <td>...</td>\n      <td>0.094784</td>\n      <td>0.232582</td>\n      <td>0.774143</td>\n      <td>0.415339</td>\n      <td>-0.434458</td>\n      <td>0.586916</td>\n      <td>1.331285</td>\n      <td>0.520947</td>\n      <td>-0.690579</td>\n      <td>-0.958084</td>\n    </tr>\n  </tbody>\n</table>\n<p>2386 rows × 464 columns</p>\n</div>"
     },
     "execution_count": 40,
     "metadata": {},
     "output_type": "execute_result"
    }
   ],
   "source": [
    "orig"
   ],
   "metadata": {
    "collapsed": false,
    "ExecuteTime": {
     "end_time": "2023-07-12T01:27:56.891831900Z",
     "start_time": "2023-07-12T01:27:56.863832400Z"
    }
   }
  },
  {
   "cell_type": "code",
   "execution_count": 33,
   "outputs": [],
   "source": [
    "preds_df = pd.DataFrame({'id': X_train_ids[:,0,1].flatten(), 'date': X_train_ids[:,0,0].flatten(), 'prediction': preds.flatten()})"
   ],
   "metadata": {
    "collapsed": false,
    "ExecuteTime": {
     "end_time": "2023-07-12T01:13:13.879063800Z",
     "start_time": "2023-07-12T01:13:13.820547900Z"
    }
   }
  },
  {
   "cell_type": "code",
   "execution_count": 70,
   "outputs": [],
   "source": [
    "test_df = preds_df.groupby(['id', 'date']).mean().reset_index().sort_values(by='date')"
   ],
   "metadata": {
    "collapsed": false,
    "ExecuteTime": {
     "end_time": "2023-07-12T00:50:10.065015400Z",
     "start_time": "2023-07-12T00:50:09.255491500Z"
    }
   }
  },
  {
   "cell_type": "code",
   "execution_count": 60,
   "outputs": [],
   "source": [
    "test = pd.merge(orig, result, on=['id', 'date'], how='left')\n",
    "#test[['prediction']] = MinMaxScaler(feature_range=(-1,1)).fit_transform(test[['prediction']])"
   ],
   "metadata": {
    "collapsed": false,
    "ExecuteTime": {
     "end_time": "2023-07-12T01:34:08.276280900Z",
     "start_time": "2023-07-12T01:34:08.255070300Z"
    }
   }
  },
  {
   "cell_type": "code",
   "execution_count": 66,
   "outputs": [
    {
     "data": {
      "text/plain": "SignificanceResult(statistic=0.9826015637453094, pvalue=0.0)"
     },
     "execution_count": 66,
     "metadata": {},
     "output_type": "execute_result"
    }
   ],
   "source": [
    "test['prediction'] = test['prediction'].fillna(0)\n",
    "spearmanr(test['y'], test['prediction'])"
   ],
   "metadata": {
    "collapsed": false,
    "ExecuteTime": {
     "end_time": "2023-07-12T01:35:00.582710700Z",
     "start_time": "2023-07-12T01:35:00.542822400Z"
    }
   }
  },
  {
   "cell_type": "code",
   "execution_count": 42,
   "outputs": [],
   "source": [
    "from sklearn.preprocessing import MinMaxScaler"
   ],
   "metadata": {
    "collapsed": false,
    "ExecuteTime": {
     "end_time": "2023-07-12T01:28:25.048332100Z",
     "start_time": "2023-07-12T01:28:25.012846800Z"
    }
   }
  },
  {
   "cell_type": "code",
   "execution_count": 64,
   "outputs": [],
   "source": [
    "lower, upper = -1, 1\n",
    "test['prediction'] = [lower + (upper - lower) * x for x in test['prediction']]"
   ],
   "metadata": {
    "collapsed": false,
    "ExecuteTime": {
     "end_time": "2023-07-12T01:34:50.343149500Z",
     "start_time": "2023-07-12T01:34:50.316648800Z"
    }
   }
  },
  {
   "cell_type": "code",
   "execution_count": 65,
   "outputs": [
    {
     "data": {
      "text/plain": "      date                                                 id         0  \\\n0        0  dae29c8061b3176b9208f26afbb96e2ca50886db41902d... -0.909515   \n1        0  2f71f1b5d49fbd131351df95848dc91ab14662af62d4d0... -0.107694   \n2        0  b8d41ef950b69f94c380410f59f47e15666c57b74573b6...  0.092316   \n3        0  cdce060d04ce28a551eaab653cc4b01f5ad878aeb932ec...  4.119639   \n4        0  86f6e6d9407ad3abfab91a3bbfb7ad71553e3f968765b8...  0.109644   \n...    ...                                                ...       ...   \n2381     2  680d730b3461c2eb4afb2180e74470aff04dde0785f8b3... -0.934337   \n2382     2  b65df8d975c30b01386cfc48f558a022d0b798a81588a1...  0.203653   \n2383     2  831d68a034bdf0b1eced4c8ec39a8462774dd6a9d4bd62... -1.344671   \n2384     2  49d3f2c79cd56ba9be104a7e84bf9cdd3052fa5ed547c2...  0.996614   \n2385     2  a9149cd782f46254727fae5b318c782f3f898ecdb1020a...  0.514250   \n\n             1         2         3         4         5         6         7  \\\n0     0.388808 -1.535913 -0.133312 -1.826404 -0.532795  0.351273  0.158866   \n1    -0.097967 -0.539599 -0.331276 -0.942609 -0.054123 -1.212772  1.688034   \n2     0.052596 -0.652025  1.218241  0.382968 -0.861838 -0.318937 -0.744261   \n3     1.018918  3.687519  1.597563  0.055918 -1.406041  0.652994  0.251138   \n4    -0.290280 -0.278987 -0.603259  0.136952 -1.725076 -0.062219 -0.183102   \n...        ...       ...       ...       ...       ...       ...       ...   \n2381 -0.751031  1.880259  1.460534 -0.514566  0.140587 -0.070087 -0.413820   \n2382 -0.166871 -0.747866 -0.260202  0.531357  0.440906 -0.085927  0.535370   \n2383 -1.820279  0.992266  0.110530  0.554084 -1.874186 -0.754604 -0.385738   \n2384 -0.567071  0.394580  0.396793  0.553907  0.981516  0.090325 -0.356672   \n2385  0.371432  0.491265 -0.689905  0.540512 -0.361685 -0.385262  0.559049   \n\n      ...       453       454       455       456       457       458  \\\n0     ... -0.257331  0.396074  0.318007 -0.538754 -0.625193 -0.753419   \n1     ... -0.429806  0.199055  0.202587  1.612578  0.302153 -0.165713   \n2     ...  1.147463  0.696961 -0.574426  1.255969  0.270394  1.272939   \n3     ... -1.108540 -2.046100  1.311100 -0.322965  0.999248 -1.238640   \n4     ... -0.269142 -0.899796  1.083332  0.674665 -1.095657 -0.402669   \n...   ...       ...       ...       ...       ...       ...       ...   \n2381  ...  0.577557 -0.947367 -3.114039 -1.490575  2.679698  2.641528   \n2382  ...  0.364477  0.331518 -1.230837  0.839055 -0.898724  0.608445   \n2383  ...  0.314596 -0.296145 -0.338750  0.690880 -0.446585  1.206716   \n2384  ...  0.358323  0.398288 -0.554795 -0.234889  2.252474  0.808473   \n2385  ...  0.232582  0.774143  0.415339 -0.434458  0.586916  1.331285   \n\n           459       460         y  prediction  \n0     0.154403  1.069385  0.192308    0.157790  \n1     0.905807  0.083180 -0.476959   -0.552857  \n2    -0.643112  0.433585  0.080645    0.097009  \n3     0.882844 -1.333590  0.953125    0.951378  \n4     0.677189  0.319992 -0.979263   -0.953230  \n...        ...       ...       ...         ...  \n2381 -2.363223  0.957594  0.720657    0.524311  \n2382  0.013442  0.775747 -0.246479   -0.248415  \n2383 -0.088316 -0.030771 -0.058685    0.000269  \n2384  1.421106  0.636106  0.687831    1.000000  \n2385  0.520947 -0.690579 -0.958084   -1.000000  \n\n[2386 rows x 465 columns]",
      "text/html": "<div>\n<style scoped>\n    .dataframe tbody tr th:only-of-type {\n        vertical-align: middle;\n    }\n\n    .dataframe tbody tr th {\n        vertical-align: top;\n    }\n\n    .dataframe thead th {\n        text-align: right;\n    }\n</style>\n<table border=\"1\" class=\"dataframe\">\n  <thead>\n    <tr style=\"text-align: right;\">\n      <th></th>\n      <th>date</th>\n      <th>id</th>\n      <th>0</th>\n      <th>1</th>\n      <th>2</th>\n      <th>3</th>\n      <th>4</th>\n      <th>5</th>\n      <th>6</th>\n      <th>7</th>\n      <th>...</th>\n      <th>453</th>\n      <th>454</th>\n      <th>455</th>\n      <th>456</th>\n      <th>457</th>\n      <th>458</th>\n      <th>459</th>\n      <th>460</th>\n      <th>y</th>\n      <th>prediction</th>\n    </tr>\n  </thead>\n  <tbody>\n    <tr>\n      <th>0</th>\n      <td>0</td>\n      <td>dae29c8061b3176b9208f26afbb96e2ca50886db41902d...</td>\n      <td>-0.909515</td>\n      <td>0.388808</td>\n      <td>-1.535913</td>\n      <td>-0.133312</td>\n      <td>-1.826404</td>\n      <td>-0.532795</td>\n      <td>0.351273</td>\n      <td>0.158866</td>\n      <td>...</td>\n      <td>-0.257331</td>\n      <td>0.396074</td>\n      <td>0.318007</td>\n      <td>-0.538754</td>\n      <td>-0.625193</td>\n      <td>-0.753419</td>\n      <td>0.154403</td>\n      <td>1.069385</td>\n      <td>0.192308</td>\n      <td>0.157790</td>\n    </tr>\n    <tr>\n      <th>1</th>\n      <td>0</td>\n      <td>2f71f1b5d49fbd131351df95848dc91ab14662af62d4d0...</td>\n      <td>-0.107694</td>\n      <td>-0.097967</td>\n      <td>-0.539599</td>\n      <td>-0.331276</td>\n      <td>-0.942609</td>\n      <td>-0.054123</td>\n      <td>-1.212772</td>\n      <td>1.688034</td>\n      <td>...</td>\n      <td>-0.429806</td>\n      <td>0.199055</td>\n      <td>0.202587</td>\n      <td>1.612578</td>\n      <td>0.302153</td>\n      <td>-0.165713</td>\n      <td>0.905807</td>\n      <td>0.083180</td>\n      <td>-0.476959</td>\n      <td>-0.552857</td>\n    </tr>\n    <tr>\n      <th>2</th>\n      <td>0</td>\n      <td>b8d41ef950b69f94c380410f59f47e15666c57b74573b6...</td>\n      <td>0.092316</td>\n      <td>0.052596</td>\n      <td>-0.652025</td>\n      <td>1.218241</td>\n      <td>0.382968</td>\n      <td>-0.861838</td>\n      <td>-0.318937</td>\n      <td>-0.744261</td>\n      <td>...</td>\n      <td>1.147463</td>\n      <td>0.696961</td>\n      <td>-0.574426</td>\n      <td>1.255969</td>\n      <td>0.270394</td>\n      <td>1.272939</td>\n      <td>-0.643112</td>\n      <td>0.433585</td>\n      <td>0.080645</td>\n      <td>0.097009</td>\n    </tr>\n    <tr>\n      <th>3</th>\n      <td>0</td>\n      <td>cdce060d04ce28a551eaab653cc4b01f5ad878aeb932ec...</td>\n      <td>4.119639</td>\n      <td>1.018918</td>\n      <td>3.687519</td>\n      <td>1.597563</td>\n      <td>0.055918</td>\n      <td>-1.406041</td>\n      <td>0.652994</td>\n      <td>0.251138</td>\n      <td>...</td>\n      <td>-1.108540</td>\n      <td>-2.046100</td>\n      <td>1.311100</td>\n      <td>-0.322965</td>\n      <td>0.999248</td>\n      <td>-1.238640</td>\n      <td>0.882844</td>\n      <td>-1.333590</td>\n      <td>0.953125</td>\n      <td>0.951378</td>\n    </tr>\n    <tr>\n      <th>4</th>\n      <td>0</td>\n      <td>86f6e6d9407ad3abfab91a3bbfb7ad71553e3f968765b8...</td>\n      <td>0.109644</td>\n      <td>-0.290280</td>\n      <td>-0.278987</td>\n      <td>-0.603259</td>\n      <td>0.136952</td>\n      <td>-1.725076</td>\n      <td>-0.062219</td>\n      <td>-0.183102</td>\n      <td>...</td>\n      <td>-0.269142</td>\n      <td>-0.899796</td>\n      <td>1.083332</td>\n      <td>0.674665</td>\n      <td>-1.095657</td>\n      <td>-0.402669</td>\n      <td>0.677189</td>\n      <td>0.319992</td>\n      <td>-0.979263</td>\n      <td>-0.953230</td>\n    </tr>\n    <tr>\n      <th>...</th>\n      <td>...</td>\n      <td>...</td>\n      <td>...</td>\n      <td>...</td>\n      <td>...</td>\n      <td>...</td>\n      <td>...</td>\n      <td>...</td>\n      <td>...</td>\n      <td>...</td>\n      <td>...</td>\n      <td>...</td>\n      <td>...</td>\n      <td>...</td>\n      <td>...</td>\n      <td>...</td>\n      <td>...</td>\n      <td>...</td>\n      <td>...</td>\n      <td>...</td>\n      <td>...</td>\n    </tr>\n    <tr>\n      <th>2381</th>\n      <td>2</td>\n      <td>680d730b3461c2eb4afb2180e74470aff04dde0785f8b3...</td>\n      <td>-0.934337</td>\n      <td>-0.751031</td>\n      <td>1.880259</td>\n      <td>1.460534</td>\n      <td>-0.514566</td>\n      <td>0.140587</td>\n      <td>-0.070087</td>\n      <td>-0.413820</td>\n      <td>...</td>\n      <td>0.577557</td>\n      <td>-0.947367</td>\n      <td>-3.114039</td>\n      <td>-1.490575</td>\n      <td>2.679698</td>\n      <td>2.641528</td>\n      <td>-2.363223</td>\n      <td>0.957594</td>\n      <td>0.720657</td>\n      <td>0.524311</td>\n    </tr>\n    <tr>\n      <th>2382</th>\n      <td>2</td>\n      <td>b65df8d975c30b01386cfc48f558a022d0b798a81588a1...</td>\n      <td>0.203653</td>\n      <td>-0.166871</td>\n      <td>-0.747866</td>\n      <td>-0.260202</td>\n      <td>0.531357</td>\n      <td>0.440906</td>\n      <td>-0.085927</td>\n      <td>0.535370</td>\n      <td>...</td>\n      <td>0.364477</td>\n      <td>0.331518</td>\n      <td>-1.230837</td>\n      <td>0.839055</td>\n      <td>-0.898724</td>\n      <td>0.608445</td>\n      <td>0.013442</td>\n      <td>0.775747</td>\n      <td>-0.246479</td>\n      <td>-0.248415</td>\n    </tr>\n    <tr>\n      <th>2383</th>\n      <td>2</td>\n      <td>831d68a034bdf0b1eced4c8ec39a8462774dd6a9d4bd62...</td>\n      <td>-1.344671</td>\n      <td>-1.820279</td>\n      <td>0.992266</td>\n      <td>0.110530</td>\n      <td>0.554084</td>\n      <td>-1.874186</td>\n      <td>-0.754604</td>\n      <td>-0.385738</td>\n      <td>...</td>\n      <td>0.314596</td>\n      <td>-0.296145</td>\n      <td>-0.338750</td>\n      <td>0.690880</td>\n      <td>-0.446585</td>\n      <td>1.206716</td>\n      <td>-0.088316</td>\n      <td>-0.030771</td>\n      <td>-0.058685</td>\n      <td>0.000269</td>\n    </tr>\n    <tr>\n      <th>2384</th>\n      <td>2</td>\n      <td>49d3f2c79cd56ba9be104a7e84bf9cdd3052fa5ed547c2...</td>\n      <td>0.996614</td>\n      <td>-0.567071</td>\n      <td>0.394580</td>\n      <td>0.396793</td>\n      <td>0.553907</td>\n      <td>0.981516</td>\n      <td>0.090325</td>\n      <td>-0.356672</td>\n      <td>...</td>\n      <td>0.358323</td>\n      <td>0.398288</td>\n      <td>-0.554795</td>\n      <td>-0.234889</td>\n      <td>2.252474</td>\n      <td>0.808473</td>\n      <td>1.421106</td>\n      <td>0.636106</td>\n      <td>0.687831</td>\n      <td>1.000000</td>\n    </tr>\n    <tr>\n      <th>2385</th>\n      <td>2</td>\n      <td>a9149cd782f46254727fae5b318c782f3f898ecdb1020a...</td>\n      <td>0.514250</td>\n      <td>0.371432</td>\n      <td>0.491265</td>\n      <td>-0.689905</td>\n      <td>0.540512</td>\n      <td>-0.361685</td>\n      <td>-0.385262</td>\n      <td>0.559049</td>\n      <td>...</td>\n      <td>0.232582</td>\n      <td>0.774143</td>\n      <td>0.415339</td>\n      <td>-0.434458</td>\n      <td>0.586916</td>\n      <td>1.331285</td>\n      <td>0.520947</td>\n      <td>-0.690579</td>\n      <td>-0.958084</td>\n      <td>-1.000000</td>\n    </tr>\n  </tbody>\n</table>\n<p>2386 rows × 465 columns</p>\n</div>"
     },
     "execution_count": 65,
     "metadata": {},
     "output_type": "execute_result"
    }
   ],
   "source": [
    "test"
   ],
   "metadata": {
    "collapsed": false,
    "ExecuteTime": {
     "end_time": "2023-07-12T01:34:51.129565Z",
     "start_time": "2023-07-12T01:34:51.099050400Z"
    }
   }
  },
  {
   "cell_type": "code",
   "execution_count": 89,
   "outputs": [],
   "source": [
    "X_test = X_test_original_df"
   ],
   "metadata": {
    "collapsed": false,
    "ExecuteTime": {
     "end_time": "2023-07-12T03:56:47.457640600Z",
     "start_time": "2023-07-12T03:56:47.389115300Z"
    }
   }
  },
  {
   "cell_type": "code",
   "execution_count": 90,
   "outputs": [],
   "source": [
    "X_test_orig = X_test\n",
    "X_test_orig['y'] = 0\n",
    "\n",
    "X_test = np.asarray(X_test_orig.drop(columns=['y']))\n",
    "\n",
    "y_test = np.asarray(list(X_test_orig['y']))"
   ],
   "metadata": {
    "collapsed": false,
    "ExecuteTime": {
     "end_time": "2023-07-12T03:56:50.354901Z",
     "start_time": "2023-07-12T03:56:50.130696600Z"
    }
   }
  },
  {
   "cell_type": "code",
   "execution_count": 92,
   "outputs": [
    {
     "data": {
      "text/plain": "array([[269,\n        'c6e83eda40042dab1af117e195d542f00a417627e3173a1fe5c4de88aa25bb00',\n        0.39107057452201843, ..., -0.17491409182548523,\n        -1.0125234127044678, 0.16360142827033997],\n       [269,\n        '97ae3194605438cbd2c59a3827f7c615dafa40d6cc3f42cceeb6cdf977fd8fdc',\n        0.2599969506263733, ..., -2.126491069793701,\n        -0.020631518214941025, 0.9291010499000549],\n       [269,\n        '310382927ec56f64c6f2f834fd320c9f732e26df639e67169bb3392aaf14cadd',\n        -0.3788648843765259, ..., 0.29570913314819336,\n        -2.752091884613037, 0.4612125754356384],\n       ...,\n       [273,\n        '002647639e3b83fd884eed0eddf72a702f15c5d70fb75d63676eb7d302166067',\n        -1.8477901220321655, ..., -1.1143118143081665,\n        -0.37705767154693604, 0.5314030647277832],\n       [273,\n        '7d840103d2370a80cc9b8376bfaf04b2aa5ff46bcbab0396802998509955b621',\n        0.24425959587097168, ..., -0.8167691230773926,\n        -0.3566073179244995, -0.5588969588279724],\n       [273,\n        '8cb714eb33a36b24b868155daac9efc9f9ff5c5e01bee175e5f66c9177ecd0a5',\n        0.2548398971557617, ..., -0.3282334804534912, 0.6121758222579956,\n        0.034458696842193604]], dtype=object)"
     },
     "execution_count": 92,
     "metadata": {},
     "output_type": "execute_result"
    }
   ],
   "source": [
    "X_test"
   ],
   "metadata": {
    "collapsed": false,
    "ExecuteTime": {
     "end_time": "2023-07-12T03:56:57.611733600Z",
     "start_time": "2023-07-12T03:56:57.583728500Z"
    }
   }
  },
  {
   "cell_type": "code",
   "execution_count": 88,
   "outputs": [
    {
     "ename": "IndexError",
     "evalue": "only integers, slices (`:`), ellipsis (`...`), numpy.newaxis (`None`) and integer or boolean arrays are valid indices",
     "output_type": "error",
     "traceback": [
      "\u001B[1;31m---------------------------------------------------------------------------\u001B[0m",
      "\u001B[1;31mIndexError\u001B[0m                                Traceback (most recent call last)",
      "Cell \u001B[1;32mIn[88], line 3\u001B[0m\n\u001B[0;32m      1\u001B[0m X_test \u001B[38;5;241m=\u001B[39m np\u001B[38;5;241m.\u001B[39masarray(X_test\u001B[38;5;241m.\u001B[39mdrop(columns\u001B[38;5;241m=\u001B[39m[\u001B[38;5;124m'\u001B[39m\u001B[38;5;124my\u001B[39m\u001B[38;5;124m'\u001B[39m]))\n\u001B[1;32m----> 3\u001B[0m y_test \u001B[38;5;241m=\u001B[39m np\u001B[38;5;241m.\u001B[39masarray(\u001B[38;5;28mlist\u001B[39m(\u001B[43mX_test\u001B[49m\u001B[43m[\u001B[49m\u001B[38;5;124;43m'\u001B[39;49m\u001B[38;5;124;43my\u001B[39;49m\u001B[38;5;124;43m'\u001B[39;49m\u001B[43m]\u001B[49m))\n",
      "\u001B[1;31mIndexError\u001B[0m: only integers, slices (`:`), ellipsis (`...`), numpy.newaxis (`None`) and integer or boolean arrays are valid indices"
     ]
    }
   ],
   "source": [
    "X_test = np.asarray(X_test.drop(columns=['y']))\n",
    "\n",
    "y_test = np.asarray(list(X_test['y']))"
   ],
   "metadata": {
    "collapsed": false,
    "ExecuteTime": {
     "end_time": "2023-07-12T03:55:20.198015300Z",
     "start_time": "2023-07-12T03:55:20.004476300Z"
    }
   }
  },
  {
   "cell_type": "code",
   "execution_count": 85,
   "outputs": [],
   "source": [
    "y_test = np.asarray(list(X_test['y']))"
   ],
   "metadata": {
    "collapsed": false,
    "ExecuteTime": {
     "end_time": "2023-07-12T03:55:06.359521400Z",
     "start_time": "2023-07-12T03:55:06.343521100Z"
    }
   }
  },
  {
   "cell_type": "code",
   "execution_count": 80,
   "outputs": [
    {
     "data": {
      "text/plain": "0       0.192308\n1      -0.476959\n2       0.080645\n3       0.953125\n4      -0.979263\n          ...   \n2381    0.720657\n2382   -0.246479\n2383   -0.058685\n2384    0.687831\n2385   -0.958084\nName: y, Length: 2386, dtype: float64"
     },
     "execution_count": 80,
     "metadata": {},
     "output_type": "execute_result"
    }
   ],
   "source": [
    "y_train['y']"
   ],
   "metadata": {
    "collapsed": false,
    "ExecuteTime": {
     "end_time": "2023-07-12T03:54:34.582716200Z",
     "start_time": "2023-07-12T03:54:34.570715500Z"
    }
   }
  },
  {
   "cell_type": "code",
   "execution_count": 81,
   "outputs": [
    {
     "ename": "IndexError",
     "evalue": "only integers, slices (`:`), ellipsis (`...`), numpy.newaxis (`None`) and integer or boolean arrays are valid indices",
     "output_type": "error",
     "traceback": [
      "\u001B[1;31m---------------------------------------------------------------------------\u001B[0m",
      "\u001B[1;31mIndexError\u001B[0m                                Traceback (most recent call last)",
      "Cell \u001B[1;32mIn[81], line 1\u001B[0m\n\u001B[1;32m----> 1\u001B[0m \u001B[43mX_test\u001B[49m\u001B[43m[\u001B[49m\u001B[38;5;124;43m'\u001B[39;49m\u001B[38;5;124;43my\u001B[39;49m\u001B[38;5;124;43m'\u001B[39;49m\u001B[43m]\u001B[49m\n",
      "\u001B[1;31mIndexError\u001B[0m: only integers, slices (`:`), ellipsis (`...`), numpy.newaxis (`None`) and integer or boolean arrays are valid indices"
     ]
    }
   ],
   "source": [
    "X_test['y']"
   ],
   "metadata": {
    "collapsed": false,
    "ExecuteTime": {
     "end_time": "2023-07-12T03:54:40.163688200Z",
     "start_time": "2023-07-12T03:54:40.100497Z"
    }
   }
  },
  {
   "cell_type": "code",
   "execution_count": 103,
   "outputs": [],
   "source": [
    "result_df = pd.DataFrame(columns=['date', 'id', 'value'])"
   ],
   "metadata": {
    "collapsed": false,
    "ExecuteTime": {
     "end_time": "2023-07-12T14:20:13.185095800Z",
     "start_time": "2023-07-12T14:20:13.162708100Z"
    }
   }
  },
  {
   "cell_type": "code",
   "execution_count": 100,
   "outputs": [],
   "source": [
    "preds_df = preds_df.rename(columns={'prediction': 'value'})"
   ],
   "metadata": {
    "collapsed": false,
    "ExecuteTime": {
     "end_time": "2023-07-12T14:19:45.823986700Z",
     "start_time": "2023-07-12T14:19:45.754483600Z"
    }
   }
  },
  {
   "cell_type": "code",
   "execution_count": 102,
   "outputs": [],
   "source": [
    "preds_df = preds_df[['date', 'id', 'value']]"
   ],
   "metadata": {
    "collapsed": false,
    "ExecuteTime": {
     "end_time": "2023-07-12T14:19:57.653959600Z",
     "start_time": "2023-07-12T14:19:57.618457500Z"
    }
   }
  },
  {
   "cell_type": "code",
   "execution_count": 104,
   "outputs": [
    {
     "data": {
      "text/plain": "        date                                                 id     value\n0          0  dae29c8061b3176b9208f26afbb96e2ca50886db41902d...  0.991433\n1          0  dae29c8061b3176b9208f26afbb96e2ca50886db41902d...  0.784938\n2          0  dae29c8061b3176b9208f26afbb96e2ca50886db41902d...  0.000139\n3          0  dae29c8061b3176b9208f26afbb96e2ca50886db41902d...  0.999991\n4          0  dae29c8061b3176b9208f26afbb96e2ca50886db41902d...  0.980615\n...      ...                                                ...       ...\n2845300    2  b65df8d975c30b01386cfc48f558a022d0b798a81588a1...  0.000021\n2845301    2  b65df8d975c30b01386cfc48f558a022d0b798a81588a1...  0.999987\n2845302    2  831d68a034bdf0b1eced4c8ec39a8462774dd6a9d4bd62...  0.000270\n2845303    2  831d68a034bdf0b1eced4c8ec39a8462774dd6a9d4bd62...  0.999999\n2845304    2  49d3f2c79cd56ba9be104a7e84bf9cdd3052fa5ed547c2...  1.000000\n\n[2845305 rows x 3 columns]",
      "text/html": "<div>\n<style scoped>\n    .dataframe tbody tr th:only-of-type {\n        vertical-align: middle;\n    }\n\n    .dataframe tbody tr th {\n        vertical-align: top;\n    }\n\n    .dataframe thead th {\n        text-align: right;\n    }\n</style>\n<table border=\"1\" class=\"dataframe\">\n  <thead>\n    <tr style=\"text-align: right;\">\n      <th></th>\n      <th>date</th>\n      <th>id</th>\n      <th>value</th>\n    </tr>\n  </thead>\n  <tbody>\n    <tr>\n      <th>0</th>\n      <td>0</td>\n      <td>dae29c8061b3176b9208f26afbb96e2ca50886db41902d...</td>\n      <td>0.991433</td>\n    </tr>\n    <tr>\n      <th>1</th>\n      <td>0</td>\n      <td>dae29c8061b3176b9208f26afbb96e2ca50886db41902d...</td>\n      <td>0.784938</td>\n    </tr>\n    <tr>\n      <th>2</th>\n      <td>0</td>\n      <td>dae29c8061b3176b9208f26afbb96e2ca50886db41902d...</td>\n      <td>0.000139</td>\n    </tr>\n    <tr>\n      <th>3</th>\n      <td>0</td>\n      <td>dae29c8061b3176b9208f26afbb96e2ca50886db41902d...</td>\n      <td>0.999991</td>\n    </tr>\n    <tr>\n      <th>4</th>\n      <td>0</td>\n      <td>dae29c8061b3176b9208f26afbb96e2ca50886db41902d...</td>\n      <td>0.980615</td>\n    </tr>\n    <tr>\n      <th>...</th>\n      <td>...</td>\n      <td>...</td>\n      <td>...</td>\n    </tr>\n    <tr>\n      <th>2845300</th>\n      <td>2</td>\n      <td>b65df8d975c30b01386cfc48f558a022d0b798a81588a1...</td>\n      <td>0.000021</td>\n    </tr>\n    <tr>\n      <th>2845301</th>\n      <td>2</td>\n      <td>b65df8d975c30b01386cfc48f558a022d0b798a81588a1...</td>\n      <td>0.999987</td>\n    </tr>\n    <tr>\n      <th>2845302</th>\n      <td>2</td>\n      <td>831d68a034bdf0b1eced4c8ec39a8462774dd6a9d4bd62...</td>\n      <td>0.000270</td>\n    </tr>\n    <tr>\n      <th>2845303</th>\n      <td>2</td>\n      <td>831d68a034bdf0b1eced4c8ec39a8462774dd6a9d4bd62...</td>\n      <td>0.999999</td>\n    </tr>\n    <tr>\n      <th>2845304</th>\n      <td>2</td>\n      <td>49d3f2c79cd56ba9be104a7e84bf9cdd3052fa5ed547c2...</td>\n      <td>1.000000</td>\n    </tr>\n  </tbody>\n</table>\n<p>2845305 rows × 3 columns</p>\n</div>"
     },
     "execution_count": 104,
     "metadata": {},
     "output_type": "execute_result"
    }
   ],
   "source": [
    "pd.concat([result_df, preds_df], axis=0, ignore_index=True)"
   ],
   "metadata": {
    "collapsed": false,
    "ExecuteTime": {
     "end_time": "2023-07-12T14:20:32.425594400Z",
     "start_time": "2023-07-12T14:20:32.409481100Z"
    }
   }
  },
  {
   "cell_type": "code",
   "execution_count": null,
   "outputs": [],
   "source": [],
   "metadata": {
    "collapsed": false
   }
  }
 ],
 "metadata": {
  "kernelspec": {
   "display_name": "Python 3 (ipykernel)",
   "language": "python",
   "name": "python3"
  },
  "language_info": {
   "codemirror_mode": {
    "name": "ipython",
    "version": 3
   },
   "file_extension": ".py",
   "mimetype": "text/x-python",
   "name": "python",
   "nbconvert_exporter": "python",
   "pygments_lexer": "ipython3",
   "version": "3.9.12"
  }
 },
 "nbformat": 4,
 "nbformat_minor": 4
}

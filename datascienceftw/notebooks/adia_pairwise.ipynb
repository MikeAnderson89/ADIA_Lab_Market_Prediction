{
 "cells": [
  {
   "cell_type": "code",
   "execution_count": 34,
   "metadata": {
    "collapsed": true,
    "ExecuteTime": {
     "end_time": "2023-07-10T12:09:20.732759200Z",
     "start_time": "2023-07-10T12:09:20.720260400Z"
    }
   },
   "outputs": [],
   "source": [
    "import pandas as pd\n",
    "import seaborn as sns\n",
    "import matplotlib.pyplot as plt\n",
    "import numpy as np\n",
    "import scipy.stats as stats\n",
    "\n",
    "from sklearn.feature_selection import RFE\n",
    "from sklearn.linear_model import LinearRegression\n",
    "from sklearn.preprocessing import StandardScaler\n",
    "from sklearn.model_selection import train_test_split\n",
    "\n",
    "import tensorflow as tf\n",
    "from tensorflow import keras\n",
    "from keras.callbacks import ModelCheckpoint\n",
    "from keras.models import load_model\n",
    "from keras import backend as K\n",
    "from keras.callbacks import EarlyStopping\n",
    "from datetime import datetime\n",
    "from sklearn.metrics import mean_squared_error\n",
    "from sklearn.decomposition import PCA\n",
    "from scipy.stats import spearmanr\n",
    "import joblib"
   ]
  },
  {
   "cell_type": "code",
   "execution_count": 177,
   "outputs": [],
   "source": [
    "X_train = pd.read_parquet('../data/X_train.parquet')\n",
    "y_train = pd.read_parquet('../data/y_train.parquet')\n",
    "X_test = pd.read_parquet('../data/X_test.parquet')"
   ],
   "metadata": {
    "collapsed": false,
    "ExecuteTime": {
     "end_time": "2023-07-10T13:14:21.973647200Z",
     "start_time": "2023-07-10T13:14:20.684443Z"
    }
   }
  },
  {
   "cell_type": "code",
   "execution_count": 178,
   "outputs": [],
   "source": [
    "X_orig = X_train[X_train['date'] <= 3]\n",
    "X_train = X_train[X_train['date'] <= 3]\n",
    "y_train = y_train[y_train['date'] <= 3]"
   ],
   "metadata": {
    "collapsed": false,
    "ExecuteTime": {
     "end_time": "2023-07-10T13:14:22.732234200Z",
     "start_time": "2023-07-10T13:14:22.660135700Z"
    }
   }
  },
  {
   "cell_type": "code",
   "execution_count": 28,
   "outputs": [],
   "source": [
    "#We'll see how the model does with all features first, and then go back and refine\n",
    "\n",
    "# selected_features = ['0', '24', '26', '29', '51', '63', '72', '77', '94', '96', '99', '104',\n",
    "#                      '125', '127', '147', '155', '159', '164', '168', '170', '171', '188',\n",
    "#                      '192', '207', '217', '232', '240', '256', '259', '267', '283', '289',\n",
    "#                      '305', '315', '319', '340', '343', '344', '354', '378', '386', '387',\n",
    "#                      '399', '400', '406', '407', '420', '437', '444', '455']"
   ],
   "metadata": {
    "collapsed": false,
    "ExecuteTime": {
     "end_time": "2023-07-09T17:20:57.959421600Z",
     "start_time": "2023-07-09T17:20:57.939422300Z"
    }
   }
  },
  {
   "cell_type": "code",
   "execution_count": 179,
   "outputs": [],
   "source": [
    "X_train = np.asarray(X_train)\n",
    "X_test = np.asarray(X_test)\n",
    "\n",
    "y_train = np.asarray(list(y_train['y']))\n",
    "\n",
    "X_train = X_train[:, 2:]\n",
    "X_test = X_test[:, 2:]"
   ],
   "metadata": {
    "collapsed": false,
    "ExecuteTime": {
     "end_time": "2023-07-10T13:14:26.514178700Z",
     "start_time": "2023-07-10T13:14:26.321401Z"
    }
   }
  },
  {
   "cell_type": "code",
   "execution_count": 180,
   "outputs": [],
   "source": [
    "def convert_to_pairwise(X_train, y_train):\n",
    "    pairs = []\n",
    "    labels = []\n",
    "    n_samples = X_train.shape[0]\n",
    "    for i in range(n_samples):\n",
    "        for j in range(i+1, n_samples):\n",
    "            pairs.append([X_train[i], X_train[j]])\n",
    "            labels.append(1 if y_train[i] > y_train[j] else 0)\n",
    "    return np.array(pairs), np.array(labels)"
   ],
   "metadata": {
    "collapsed": false,
    "ExecuteTime": {
     "end_time": "2023-07-10T13:14:27.182239100Z",
     "start_time": "2023-07-10T13:14:27.167225100Z"
    }
   }
  },
  {
   "cell_type": "code",
   "execution_count": 181,
   "outputs": [],
   "source": [
    "#Scaling and PCA\n",
    "scaler = StandardScaler()\n",
    "X_train = scaler.fit_transform(X_train)\n",
    "\n",
    "n_components = 40  # Adjust the number of components as per your requirements\n",
    "pca = PCA(n_components=n_components)\n",
    "X_train = pca.fit_transform(X_train)"
   ],
   "metadata": {
    "collapsed": false,
    "ExecuteTime": {
     "end_time": "2023-07-10T13:14:28.420377Z",
     "start_time": "2023-07-10T13:14:28.323248400Z"
    }
   }
  },
  {
   "cell_type": "code",
   "execution_count": 182,
   "outputs": [],
   "source": [
    "X_train, y_train = convert_to_pairwise(X_train, y_train)"
   ],
   "metadata": {
    "collapsed": false,
    "ExecuteTime": {
     "end_time": "2023-07-10T13:14:36.631810900Z",
     "start_time": "2023-07-10T13:14:29.003360Z"
    }
   }
  },
  {
   "cell_type": "code",
   "execution_count": 13,
   "outputs": [
    {
     "data": {
      "text/plain": "(3414775, 2, 40)"
     },
     "execution_count": 13,
     "metadata": {},
     "output_type": "execute_result"
    }
   ],
   "source": [],
   "metadata": {
    "collapsed": false,
    "ExecuteTime": {
     "end_time": "2023-07-10T11:41:22.459794500Z",
     "start_time": "2023-07-10T11:41:22.414303800Z"
    }
   }
  },
  {
   "cell_type": "markdown",
   "source": [
    "# Model"
   ],
   "metadata": {
    "collapsed": false
   }
  },
  {
   "cell_type": "code",
   "execution_count": 162,
   "outputs": [],
   "source": [
    "#Get validation dataset\n",
    "X_train, X_val, y_train, y_val = train_test_split(X_train, y_train, random_state=42, shuffle=True, test_size=0.1)"
   ],
   "metadata": {
    "collapsed": false,
    "ExecuteTime": {
     "end_time": "2023-07-10T13:04:36.531497100Z",
     "start_time": "2023-07-10T13:04:35.348675200Z"
    }
   }
  },
  {
   "cell_type": "code",
   "execution_count": 163,
   "outputs": [],
   "source": [
    "#Get train and test datasets\n",
    "X_train, X_test, y_train, y_test = train_test_split(X_train, y_train, random_state=42, shuffle=True, test_size=0.3)"
   ],
   "metadata": {
    "collapsed": false,
    "ExecuteTime": {
     "end_time": "2023-07-10T13:04:38.467530900Z",
     "start_time": "2023-07-10T13:04:37.284265300Z"
    }
   }
  },
  {
   "cell_type": "code",
   "execution_count": 164,
   "outputs": [],
   "source": [
    "def get_spearman_rankcor(y_true, y_pred):\n",
    "    return ( tf.py_function(stats.spearmanr, [tf.cast(y_pred, tf.float32),\n",
    "                                              tf.cast(y_true, tf.float32)], Tout = tf.float32) )\n",
    "\n",
    "# Custom loss function based on Spearman correlation\n",
    "def spearman_loss(y_true, y_pred):\n",
    "    true_ranks = tf.argsort(tf.argsort(y_true))\n",
    "    pred_ranks = tf.argsort(tf.argsort(y_pred))\n",
    "    srcc = tf.py_function(spearmanr, [true_ranks, pred_ranks], tf.float32)\n",
    "    return -srcc\n",
    "\n",
    "# Custom metric based on Spearman correlation\n",
    "def spearman_correlation(y_true, y_pred):\n",
    "    true_ranks = tf.argsort(tf.argsort(y_true))\n",
    "    pred_ranks = tf.argsort(tf.argsort(y_pred))\n",
    "    srcc = tf.py_function(spearmanr, [true_ranks, pred_ranks], tf.float32)\n",
    "    return srcc"
   ],
   "metadata": {
    "collapsed": false,
    "ExecuteTime": {
     "end_time": "2023-07-10T13:04:42.855556400Z",
     "start_time": "2023-07-10T13:04:42.846557100Z"
    }
   }
  },
  {
   "cell_type": "code",
   "execution_count": 165,
   "outputs": [],
   "source": [
    "mc = ModelCheckpoint(f'../resources/adia_neural_network.h5', monitor='val_loss', mode='min', verbose=1, save_best_only=True)\n",
    "\n",
    "early_stopping = EarlyStopping(\n",
    "    monitor='val_loss',\n",
    "    patience=5,\n",
    "    verbose=0,\n",
    "    mode='auto',\n",
    "    baseline=None,\n",
    "    restore_best_weights=True)\n",
    "\n",
    "model = keras.Sequential([\n",
    "    keras.layers.Dense(800, activation='relu', kernel_initializer='lecun_normal', input_shape=(X_train.shape[1], X_train.shape[2])),\n",
    "    keras.layers.BatchNormalization(),\n",
    "    keras.layers.Dense(500, activation='relu', kernel_initializer='lecun_normal'),\n",
    "    keras.layers.BatchNormalization(),\n",
    "    keras.layers.Dense(250, activation='relu', kernel_initializer='lecun_normal'),\n",
    "    keras.layers.BatchNormalization(),\n",
    "    keras.layers.Dense(100, activation='relu', kernel_initializer='lecun_normal'),\n",
    "    keras.layers.BatchNormalization(),\n",
    "    keras.layers.Flatten(),\n",
    "    keras.layers.Dense(1, activation='sigmoid', kernel_initializer='lecun_normal')\n",
    "])\n",
    "\n",
    "optimizer = keras.optimizers.Adam(learning_rate=3e-4)\n",
    "\n",
    "model.compile(optimizer=optimizer,\n",
    "              loss='binary_crossentropy',\n",
    "              metrics=['accuracy'])"
   ],
   "metadata": {
    "collapsed": false,
    "ExecuteTime": {
     "end_time": "2023-07-10T13:04:47.858405Z",
     "start_time": "2023-07-10T13:04:47.769338800Z"
    }
   }
  },
  {
   "cell_type": "code",
   "execution_count": 166,
   "outputs": [
    {
     "name": "stdout",
     "output_type": "stream",
     "text": [
      "Epoch 1/5000\n",
      "389/683 [================>.............] - ETA: 49s - loss: 0.2951 - accuracy: 0.8754"
     ]
    },
    {
     "ename": "KeyboardInterrupt",
     "evalue": "",
     "output_type": "error",
     "traceback": [
      "\u001B[1;31m---------------------------------------------------------------------------\u001B[0m",
      "\u001B[1;31mKeyboardInterrupt\u001B[0m                         Traceback (most recent call last)",
      "Input \u001B[1;32mIn [166]\u001B[0m, in \u001B[0;36m<cell line: 1>\u001B[1;34m()\u001B[0m\n\u001B[1;32m----> 1\u001B[0m history \u001B[38;5;241m=\u001B[39m \u001B[43mmodel\u001B[49m\u001B[38;5;241;43m.\u001B[39;49m\u001B[43mfit\u001B[49m\u001B[43m(\u001B[49m\n\u001B[0;32m      2\u001B[0m \u001B[43m    \u001B[49m\u001B[43mX_train\u001B[49m\u001B[43m,\u001B[49m\n\u001B[0;32m      3\u001B[0m \u001B[43m    \u001B[49m\u001B[43my_train\u001B[49m\u001B[43m,\u001B[49m\n\u001B[0;32m      4\u001B[0m \u001B[43m    \u001B[49m\u001B[43mbatch_size\u001B[49m\u001B[38;5;241;43m=\u001B[39;49m\u001B[38;5;241;43m5000\u001B[39;49m\u001B[43m,\u001B[49m\n\u001B[0;32m      5\u001B[0m \u001B[43m    \u001B[49m\u001B[43mepochs\u001B[49m\u001B[38;5;241;43m=\u001B[39;49m\u001B[38;5;241;43m5000\u001B[39;49m\u001B[43m,\u001B[49m\n\u001B[0;32m      6\u001B[0m \u001B[43m    \u001B[49m\u001B[43mvalidation_data\u001B[49m\u001B[38;5;241;43m=\u001B[39;49m\u001B[43m[\u001B[49m\u001B[43mX_test\u001B[49m\u001B[43m,\u001B[49m\u001B[43m \u001B[49m\u001B[43my_test\u001B[49m\u001B[43m]\u001B[49m\u001B[43m,\u001B[49m\n\u001B[0;32m      7\u001B[0m \u001B[43m    \u001B[49m\u001B[43mcallbacks\u001B[49m\u001B[38;5;241;43m=\u001B[39;49m\u001B[43m[\u001B[49m\u001B[43mmc\u001B[49m\u001B[43m,\u001B[49m\u001B[43m \u001B[49m\u001B[43mearly_stopping\u001B[49m\u001B[43m]\u001B[49m\u001B[43m,\u001B[49m\n\u001B[0;32m      8\u001B[0m \u001B[43m    \u001B[49m\u001B[43mshuffle\u001B[49m\u001B[38;5;241;43m=\u001B[39;49m\u001B[38;5;28;43;01mFalse\u001B[39;49;00m\u001B[43m,\u001B[49m\n\u001B[0;32m      9\u001B[0m \u001B[43m    \u001B[49m\u001B[43muse_multiprocessing\u001B[49m\u001B[38;5;241;43m=\u001B[39;49m\u001B[38;5;28;43;01mTrue\u001B[39;49;00m\n\u001B[0;32m     10\u001B[0m \u001B[43m)\u001B[49m\n",
      "File \u001B[1;32m~\\anaconda3\\lib\\site-packages\\keras\\utils\\traceback_utils.py:64\u001B[0m, in \u001B[0;36mfilter_traceback.<locals>.error_handler\u001B[1;34m(*args, **kwargs)\u001B[0m\n\u001B[0;32m     62\u001B[0m filtered_tb \u001B[38;5;241m=\u001B[39m \u001B[38;5;28;01mNone\u001B[39;00m\n\u001B[0;32m     63\u001B[0m \u001B[38;5;28;01mtry\u001B[39;00m:\n\u001B[1;32m---> 64\u001B[0m   \u001B[38;5;28;01mreturn\u001B[39;00m fn(\u001B[38;5;241m*\u001B[39margs, \u001B[38;5;241m*\u001B[39m\u001B[38;5;241m*\u001B[39mkwargs)\n\u001B[0;32m     65\u001B[0m \u001B[38;5;28;01mexcept\u001B[39;00m \u001B[38;5;167;01mException\u001B[39;00m \u001B[38;5;28;01mas\u001B[39;00m e:  \u001B[38;5;66;03m# pylint: disable=broad-except\u001B[39;00m\n\u001B[0;32m     66\u001B[0m   filtered_tb \u001B[38;5;241m=\u001B[39m _process_traceback_frames(e\u001B[38;5;241m.\u001B[39m__traceback__)\n",
      "File \u001B[1;32m~\\anaconda3\\lib\\site-packages\\keras\\engine\\training.py:1409\u001B[0m, in \u001B[0;36mModel.fit\u001B[1;34m(self, x, y, batch_size, epochs, verbose, callbacks, validation_split, validation_data, shuffle, class_weight, sample_weight, initial_epoch, steps_per_epoch, validation_steps, validation_batch_size, validation_freq, max_queue_size, workers, use_multiprocessing)\u001B[0m\n\u001B[0;32m   1402\u001B[0m \u001B[38;5;28;01mwith\u001B[39;00m tf\u001B[38;5;241m.\u001B[39mprofiler\u001B[38;5;241m.\u001B[39mexperimental\u001B[38;5;241m.\u001B[39mTrace(\n\u001B[0;32m   1403\u001B[0m     \u001B[38;5;124m'\u001B[39m\u001B[38;5;124mtrain\u001B[39m\u001B[38;5;124m'\u001B[39m,\n\u001B[0;32m   1404\u001B[0m     epoch_num\u001B[38;5;241m=\u001B[39mepoch,\n\u001B[0;32m   1405\u001B[0m     step_num\u001B[38;5;241m=\u001B[39mstep,\n\u001B[0;32m   1406\u001B[0m     batch_size\u001B[38;5;241m=\u001B[39mbatch_size,\n\u001B[0;32m   1407\u001B[0m     _r\u001B[38;5;241m=\u001B[39m\u001B[38;5;241m1\u001B[39m):\n\u001B[0;32m   1408\u001B[0m   callbacks\u001B[38;5;241m.\u001B[39mon_train_batch_begin(step)\n\u001B[1;32m-> 1409\u001B[0m   tmp_logs \u001B[38;5;241m=\u001B[39m \u001B[38;5;28;43mself\u001B[39;49m\u001B[38;5;241;43m.\u001B[39;49m\u001B[43mtrain_function\u001B[49m\u001B[43m(\u001B[49m\u001B[43miterator\u001B[49m\u001B[43m)\u001B[49m\n\u001B[0;32m   1410\u001B[0m   \u001B[38;5;28;01mif\u001B[39;00m data_handler\u001B[38;5;241m.\u001B[39mshould_sync:\n\u001B[0;32m   1411\u001B[0m     context\u001B[38;5;241m.\u001B[39masync_wait()\n",
      "File \u001B[1;32m~\\anaconda3\\lib\\site-packages\\tensorflow\\python\\util\\traceback_utils.py:150\u001B[0m, in \u001B[0;36mfilter_traceback.<locals>.error_handler\u001B[1;34m(*args, **kwargs)\u001B[0m\n\u001B[0;32m    148\u001B[0m filtered_tb \u001B[38;5;241m=\u001B[39m \u001B[38;5;28;01mNone\u001B[39;00m\n\u001B[0;32m    149\u001B[0m \u001B[38;5;28;01mtry\u001B[39;00m:\n\u001B[1;32m--> 150\u001B[0m   \u001B[38;5;28;01mreturn\u001B[39;00m fn(\u001B[38;5;241m*\u001B[39margs, \u001B[38;5;241m*\u001B[39m\u001B[38;5;241m*\u001B[39mkwargs)\n\u001B[0;32m    151\u001B[0m \u001B[38;5;28;01mexcept\u001B[39;00m \u001B[38;5;167;01mException\u001B[39;00m \u001B[38;5;28;01mas\u001B[39;00m e:\n\u001B[0;32m    152\u001B[0m   filtered_tb \u001B[38;5;241m=\u001B[39m _process_traceback_frames(e\u001B[38;5;241m.\u001B[39m__traceback__)\n",
      "File \u001B[1;32m~\\anaconda3\\lib\\site-packages\\tensorflow\\python\\eager\\def_function.py:915\u001B[0m, in \u001B[0;36mFunction.__call__\u001B[1;34m(self, *args, **kwds)\u001B[0m\n\u001B[0;32m    912\u001B[0m compiler \u001B[38;5;241m=\u001B[39m \u001B[38;5;124m\"\u001B[39m\u001B[38;5;124mxla\u001B[39m\u001B[38;5;124m\"\u001B[39m \u001B[38;5;28;01mif\u001B[39;00m \u001B[38;5;28mself\u001B[39m\u001B[38;5;241m.\u001B[39m_jit_compile \u001B[38;5;28;01melse\u001B[39;00m \u001B[38;5;124m\"\u001B[39m\u001B[38;5;124mnonXla\u001B[39m\u001B[38;5;124m\"\u001B[39m\n\u001B[0;32m    914\u001B[0m \u001B[38;5;28;01mwith\u001B[39;00m OptionalXlaContext(\u001B[38;5;28mself\u001B[39m\u001B[38;5;241m.\u001B[39m_jit_compile):\n\u001B[1;32m--> 915\u001B[0m   result \u001B[38;5;241m=\u001B[39m \u001B[38;5;28mself\u001B[39m\u001B[38;5;241m.\u001B[39m_call(\u001B[38;5;241m*\u001B[39margs, \u001B[38;5;241m*\u001B[39m\u001B[38;5;241m*\u001B[39mkwds)\n\u001B[0;32m    917\u001B[0m new_tracing_count \u001B[38;5;241m=\u001B[39m \u001B[38;5;28mself\u001B[39m\u001B[38;5;241m.\u001B[39mexperimental_get_tracing_count()\n\u001B[0;32m    918\u001B[0m without_tracing \u001B[38;5;241m=\u001B[39m (tracing_count \u001B[38;5;241m==\u001B[39m new_tracing_count)\n",
      "File \u001B[1;32m~\\anaconda3\\lib\\site-packages\\tensorflow\\python\\eager\\def_function.py:947\u001B[0m, in \u001B[0;36mFunction._call\u001B[1;34m(self, *args, **kwds)\u001B[0m\n\u001B[0;32m    944\u001B[0m   \u001B[38;5;28mself\u001B[39m\u001B[38;5;241m.\u001B[39m_lock\u001B[38;5;241m.\u001B[39mrelease()\n\u001B[0;32m    945\u001B[0m   \u001B[38;5;66;03m# In this case we have created variables on the first call, so we run the\u001B[39;00m\n\u001B[0;32m    946\u001B[0m   \u001B[38;5;66;03m# defunned version which is guaranteed to never create variables.\u001B[39;00m\n\u001B[1;32m--> 947\u001B[0m   \u001B[38;5;28;01mreturn\u001B[39;00m \u001B[38;5;28mself\u001B[39m\u001B[38;5;241m.\u001B[39m_stateless_fn(\u001B[38;5;241m*\u001B[39margs, \u001B[38;5;241m*\u001B[39m\u001B[38;5;241m*\u001B[39mkwds)  \u001B[38;5;66;03m# pylint: disable=not-callable\u001B[39;00m\n\u001B[0;32m    948\u001B[0m \u001B[38;5;28;01melif\u001B[39;00m \u001B[38;5;28mself\u001B[39m\u001B[38;5;241m.\u001B[39m_stateful_fn \u001B[38;5;129;01mis\u001B[39;00m \u001B[38;5;129;01mnot\u001B[39;00m \u001B[38;5;28;01mNone\u001B[39;00m:\n\u001B[0;32m    949\u001B[0m   \u001B[38;5;66;03m# Release the lock early so that multiple threads can perform the call\u001B[39;00m\n\u001B[0;32m    950\u001B[0m   \u001B[38;5;66;03m# in parallel.\u001B[39;00m\n\u001B[0;32m    951\u001B[0m   \u001B[38;5;28mself\u001B[39m\u001B[38;5;241m.\u001B[39m_lock\u001B[38;5;241m.\u001B[39mrelease()\n",
      "File \u001B[1;32m~\\anaconda3\\lib\\site-packages\\tensorflow\\python\\eager\\function.py:2453\u001B[0m, in \u001B[0;36mFunction.__call__\u001B[1;34m(self, *args, **kwargs)\u001B[0m\n\u001B[0;32m   2450\u001B[0m \u001B[38;5;28;01mwith\u001B[39;00m \u001B[38;5;28mself\u001B[39m\u001B[38;5;241m.\u001B[39m_lock:\n\u001B[0;32m   2451\u001B[0m   (graph_function,\n\u001B[0;32m   2452\u001B[0m    filtered_flat_args) \u001B[38;5;241m=\u001B[39m \u001B[38;5;28mself\u001B[39m\u001B[38;5;241m.\u001B[39m_maybe_define_function(args, kwargs)\n\u001B[1;32m-> 2453\u001B[0m \u001B[38;5;28;01mreturn\u001B[39;00m \u001B[43mgraph_function\u001B[49m\u001B[38;5;241;43m.\u001B[39;49m\u001B[43m_call_flat\u001B[49m\u001B[43m(\u001B[49m\n\u001B[0;32m   2454\u001B[0m \u001B[43m    \u001B[49m\u001B[43mfiltered_flat_args\u001B[49m\u001B[43m,\u001B[49m\u001B[43m \u001B[49m\u001B[43mcaptured_inputs\u001B[49m\u001B[38;5;241;43m=\u001B[39;49m\u001B[43mgraph_function\u001B[49m\u001B[38;5;241;43m.\u001B[39;49m\u001B[43mcaptured_inputs\u001B[49m\u001B[43m)\u001B[49m\n",
      "File \u001B[1;32m~\\anaconda3\\lib\\site-packages\\tensorflow\\python\\eager\\function.py:1860\u001B[0m, in \u001B[0;36mConcreteFunction._call_flat\u001B[1;34m(self, args, captured_inputs, cancellation_manager)\u001B[0m\n\u001B[0;32m   1856\u001B[0m possible_gradient_type \u001B[38;5;241m=\u001B[39m gradients_util\u001B[38;5;241m.\u001B[39mPossibleTapeGradientTypes(args)\n\u001B[0;32m   1857\u001B[0m \u001B[38;5;28;01mif\u001B[39;00m (possible_gradient_type \u001B[38;5;241m==\u001B[39m gradients_util\u001B[38;5;241m.\u001B[39mPOSSIBLE_GRADIENT_TYPES_NONE\n\u001B[0;32m   1858\u001B[0m     \u001B[38;5;129;01mand\u001B[39;00m executing_eagerly):\n\u001B[0;32m   1859\u001B[0m   \u001B[38;5;66;03m# No tape is watching; skip to running the function.\u001B[39;00m\n\u001B[1;32m-> 1860\u001B[0m   \u001B[38;5;28;01mreturn\u001B[39;00m \u001B[38;5;28mself\u001B[39m\u001B[38;5;241m.\u001B[39m_build_call_outputs(\u001B[38;5;28;43mself\u001B[39;49m\u001B[38;5;241;43m.\u001B[39;49m\u001B[43m_inference_function\u001B[49m\u001B[38;5;241;43m.\u001B[39;49m\u001B[43mcall\u001B[49m\u001B[43m(\u001B[49m\n\u001B[0;32m   1861\u001B[0m \u001B[43m      \u001B[49m\u001B[43mctx\u001B[49m\u001B[43m,\u001B[49m\u001B[43m \u001B[49m\u001B[43margs\u001B[49m\u001B[43m,\u001B[49m\u001B[43m \u001B[49m\u001B[43mcancellation_manager\u001B[49m\u001B[38;5;241;43m=\u001B[39;49m\u001B[43mcancellation_manager\u001B[49m\u001B[43m)\u001B[49m)\n\u001B[0;32m   1862\u001B[0m forward_backward \u001B[38;5;241m=\u001B[39m \u001B[38;5;28mself\u001B[39m\u001B[38;5;241m.\u001B[39m_select_forward_and_backward_functions(\n\u001B[0;32m   1863\u001B[0m     args,\n\u001B[0;32m   1864\u001B[0m     possible_gradient_type,\n\u001B[0;32m   1865\u001B[0m     executing_eagerly)\n\u001B[0;32m   1866\u001B[0m forward_function, args_with_tangents \u001B[38;5;241m=\u001B[39m forward_backward\u001B[38;5;241m.\u001B[39mforward()\n",
      "File \u001B[1;32m~\\anaconda3\\lib\\site-packages\\tensorflow\\python\\eager\\function.py:497\u001B[0m, in \u001B[0;36m_EagerDefinedFunction.call\u001B[1;34m(self, ctx, args, cancellation_manager)\u001B[0m\n\u001B[0;32m    495\u001B[0m \u001B[38;5;28;01mwith\u001B[39;00m _InterpolateFunctionError(\u001B[38;5;28mself\u001B[39m):\n\u001B[0;32m    496\u001B[0m   \u001B[38;5;28;01mif\u001B[39;00m cancellation_manager \u001B[38;5;129;01mis\u001B[39;00m \u001B[38;5;28;01mNone\u001B[39;00m:\n\u001B[1;32m--> 497\u001B[0m     outputs \u001B[38;5;241m=\u001B[39m \u001B[43mexecute\u001B[49m\u001B[38;5;241;43m.\u001B[39;49m\u001B[43mexecute\u001B[49m\u001B[43m(\u001B[49m\n\u001B[0;32m    498\u001B[0m \u001B[43m        \u001B[49m\u001B[38;5;28;43mstr\u001B[39;49m\u001B[43m(\u001B[49m\u001B[38;5;28;43mself\u001B[39;49m\u001B[38;5;241;43m.\u001B[39;49m\u001B[43msignature\u001B[49m\u001B[38;5;241;43m.\u001B[39;49m\u001B[43mname\u001B[49m\u001B[43m)\u001B[49m\u001B[43m,\u001B[49m\n\u001B[0;32m    499\u001B[0m \u001B[43m        \u001B[49m\u001B[43mnum_outputs\u001B[49m\u001B[38;5;241;43m=\u001B[39;49m\u001B[38;5;28;43mself\u001B[39;49m\u001B[38;5;241;43m.\u001B[39;49m\u001B[43m_num_outputs\u001B[49m\u001B[43m,\u001B[49m\n\u001B[0;32m    500\u001B[0m \u001B[43m        \u001B[49m\u001B[43minputs\u001B[49m\u001B[38;5;241;43m=\u001B[39;49m\u001B[43margs\u001B[49m\u001B[43m,\u001B[49m\n\u001B[0;32m    501\u001B[0m \u001B[43m        \u001B[49m\u001B[43mattrs\u001B[49m\u001B[38;5;241;43m=\u001B[39;49m\u001B[43mattrs\u001B[49m\u001B[43m,\u001B[49m\n\u001B[0;32m    502\u001B[0m \u001B[43m        \u001B[49m\u001B[43mctx\u001B[49m\u001B[38;5;241;43m=\u001B[39;49m\u001B[43mctx\u001B[49m\u001B[43m)\u001B[49m\n\u001B[0;32m    503\u001B[0m   \u001B[38;5;28;01melse\u001B[39;00m:\n\u001B[0;32m    504\u001B[0m     outputs \u001B[38;5;241m=\u001B[39m execute\u001B[38;5;241m.\u001B[39mexecute_with_cancellation(\n\u001B[0;32m    505\u001B[0m         \u001B[38;5;28mstr\u001B[39m(\u001B[38;5;28mself\u001B[39m\u001B[38;5;241m.\u001B[39msignature\u001B[38;5;241m.\u001B[39mname),\n\u001B[0;32m    506\u001B[0m         num_outputs\u001B[38;5;241m=\u001B[39m\u001B[38;5;28mself\u001B[39m\u001B[38;5;241m.\u001B[39m_num_outputs,\n\u001B[1;32m   (...)\u001B[0m\n\u001B[0;32m    509\u001B[0m         ctx\u001B[38;5;241m=\u001B[39mctx,\n\u001B[0;32m    510\u001B[0m         cancellation_manager\u001B[38;5;241m=\u001B[39mcancellation_manager)\n",
      "File \u001B[1;32m~\\anaconda3\\lib\\site-packages\\tensorflow\\python\\eager\\execute.py:54\u001B[0m, in \u001B[0;36mquick_execute\u001B[1;34m(op_name, num_outputs, inputs, attrs, ctx, name)\u001B[0m\n\u001B[0;32m     52\u001B[0m \u001B[38;5;28;01mtry\u001B[39;00m:\n\u001B[0;32m     53\u001B[0m   ctx\u001B[38;5;241m.\u001B[39mensure_initialized()\n\u001B[1;32m---> 54\u001B[0m   tensors \u001B[38;5;241m=\u001B[39m \u001B[43mpywrap_tfe\u001B[49m\u001B[38;5;241;43m.\u001B[39;49m\u001B[43mTFE_Py_Execute\u001B[49m\u001B[43m(\u001B[49m\u001B[43mctx\u001B[49m\u001B[38;5;241;43m.\u001B[39;49m\u001B[43m_handle\u001B[49m\u001B[43m,\u001B[49m\u001B[43m \u001B[49m\u001B[43mdevice_name\u001B[49m\u001B[43m,\u001B[49m\u001B[43m \u001B[49m\u001B[43mop_name\u001B[49m\u001B[43m,\u001B[49m\n\u001B[0;32m     55\u001B[0m \u001B[43m                                      \u001B[49m\u001B[43minputs\u001B[49m\u001B[43m,\u001B[49m\u001B[43m \u001B[49m\u001B[43mattrs\u001B[49m\u001B[43m,\u001B[49m\u001B[43m \u001B[49m\u001B[43mnum_outputs\u001B[49m\u001B[43m)\u001B[49m\n\u001B[0;32m     56\u001B[0m \u001B[38;5;28;01mexcept\u001B[39;00m core\u001B[38;5;241m.\u001B[39m_NotOkStatusException \u001B[38;5;28;01mas\u001B[39;00m e:\n\u001B[0;32m     57\u001B[0m   \u001B[38;5;28;01mif\u001B[39;00m name \u001B[38;5;129;01mis\u001B[39;00m \u001B[38;5;129;01mnot\u001B[39;00m \u001B[38;5;28;01mNone\u001B[39;00m:\n",
      "\u001B[1;31mKeyboardInterrupt\u001B[0m: "
     ]
    }
   ],
   "source": [
    "history = model.fit(\n",
    "    X_train,\n",
    "    y_train,\n",
    "    batch_size=5000,\n",
    "    epochs=5000,\n",
    "    validation_data=[X_test, y_test],\n",
    "    callbacks=[mc, early_stopping],\n",
    "    shuffle=False,\n",
    "    use_multiprocessing=True\n",
    ")"
   ],
   "metadata": {
    "collapsed": false,
    "ExecuteTime": {
     "end_time": "2023-07-10T13:05:56.570568Z",
     "start_time": "2023-07-10T13:04:49.757445Z"
    }
   }
  },
  {
   "cell_type": "code",
   "execution_count": 183,
   "outputs": [
    {
     "name": "stdout",
     "output_type": "stream",
     "text": [
      "169384/169384 [==============================] - 275s 2ms/step\n"
     ]
    }
   ],
   "source": [
    "preds = model.predict(X_train)"
   ],
   "metadata": {
    "collapsed": false,
    "ExecuteTime": {
     "end_time": "2023-07-10T13:19:55.111665Z",
     "start_time": "2023-07-10T13:15:02.535345300Z"
    }
   }
  },
  {
   "cell_type": "code",
   "execution_count": 186,
   "outputs": [
    {
     "data": {
      "text/plain": "SpearmanrResult(correlation=0.7233887508091469, pvalue=0.0)"
     },
     "execution_count": 186,
     "metadata": {},
     "output_type": "execute_result"
    }
   ],
   "source": [
    "spearmanr(y_train, preds)"
   ],
   "metadata": {
    "collapsed": false,
    "ExecuteTime": {
     "end_time": "2023-07-10T13:20:14.408269200Z",
     "start_time": "2023-07-10T13:20:13.266389200Z"
    }
   }
  },
  {
   "cell_type": "code",
   "execution_count": 185,
   "outputs": [],
   "source": [
    "min_rank = np.min(preds)\n",
    "max_rank = np.max(preds)\n",
    "\n",
    "# Step 2: Remap the rankings to the interval [-1, 1]\n",
    "preds_remapped = -1 + 2 * (preds - min_rank) / (max_rank - min_rank)"
   ],
   "metadata": {
    "collapsed": false,
    "ExecuteTime": {
     "end_time": "2023-07-10T13:20:11.393806800Z",
     "start_time": "2023-07-10T13:20:11.358758900Z"
    }
   }
  },
  {
   "cell_type": "code",
   "execution_count": 170,
   "outputs": [
    {
     "ename": "ValueError",
     "evalue": "all the input array dimensions for the concatenation axis must match exactly, but along dimension 0, the array at index 0 has size 3414775 and the array at index 1 has size 542028",
     "output_type": "error",
     "traceback": [
      "\u001B[1;31m---------------------------------------------------------------------------\u001B[0m",
      "\u001B[1;31mValueError\u001B[0m                                Traceback (most recent call last)",
      "Input \u001B[1;32mIn [170]\u001B[0m, in \u001B[0;36m<cell line: 1>\u001B[1;34m()\u001B[0m\n\u001B[1;32m----> 1\u001B[0m \u001B[43mspearmanr\u001B[49m\u001B[43m(\u001B[49m\u001B[43my_train\u001B[49m\u001B[43m,\u001B[49m\u001B[43m \u001B[49m\u001B[43mpreds\u001B[49m\u001B[43m)\u001B[49m\n",
      "File \u001B[1;32m~\\anaconda3\\lib\\site-packages\\scipy\\stats\\stats.py:4470\u001B[0m, in \u001B[0;36mspearmanr\u001B[1;34m(a, b, axis, nan_policy, alternative)\u001B[0m\n\u001B[0;32m   4468\u001B[0m b, _ \u001B[38;5;241m=\u001B[39m _chk_asarray(b, axis)\n\u001B[0;32m   4469\u001B[0m \u001B[38;5;28;01mif\u001B[39;00m axisout \u001B[38;5;241m==\u001B[39m \u001B[38;5;241m0\u001B[39m:\n\u001B[1;32m-> 4470\u001B[0m     a \u001B[38;5;241m=\u001B[39m \u001B[43mnp\u001B[49m\u001B[38;5;241;43m.\u001B[39;49m\u001B[43mcolumn_stack\u001B[49m\u001B[43m(\u001B[49m\u001B[43m(\u001B[49m\u001B[43ma\u001B[49m\u001B[43m,\u001B[49m\u001B[43m \u001B[49m\u001B[43mb\u001B[49m\u001B[43m)\u001B[49m\u001B[43m)\u001B[49m\n\u001B[0;32m   4471\u001B[0m \u001B[38;5;28;01melse\u001B[39;00m:\n\u001B[0;32m   4472\u001B[0m     a \u001B[38;5;241m=\u001B[39m np\u001B[38;5;241m.\u001B[39mrow_stack((a, b))\n",
      "File \u001B[1;32m<__array_function__ internals>:5\u001B[0m, in \u001B[0;36mcolumn_stack\u001B[1;34m(*args, **kwargs)\u001B[0m\n",
      "File \u001B[1;32m~\\anaconda3\\lib\\site-packages\\numpy\\lib\\shape_base.py:656\u001B[0m, in \u001B[0;36mcolumn_stack\u001B[1;34m(tup)\u001B[0m\n\u001B[0;32m    654\u001B[0m         arr \u001B[38;5;241m=\u001B[39m array(arr, copy\u001B[38;5;241m=\u001B[39m\u001B[38;5;28;01mFalse\u001B[39;00m, subok\u001B[38;5;241m=\u001B[39m\u001B[38;5;28;01mTrue\u001B[39;00m, ndmin\u001B[38;5;241m=\u001B[39m\u001B[38;5;241m2\u001B[39m)\u001B[38;5;241m.\u001B[39mT\n\u001B[0;32m    655\u001B[0m     arrays\u001B[38;5;241m.\u001B[39mappend(arr)\n\u001B[1;32m--> 656\u001B[0m \u001B[38;5;28;01mreturn\u001B[39;00m \u001B[43m_nx\u001B[49m\u001B[38;5;241;43m.\u001B[39;49m\u001B[43mconcatenate\u001B[49m\u001B[43m(\u001B[49m\u001B[43marrays\u001B[49m\u001B[43m,\u001B[49m\u001B[43m \u001B[49m\u001B[38;5;241;43m1\u001B[39;49m\u001B[43m)\u001B[49m\n",
      "File \u001B[1;32m<__array_function__ internals>:5\u001B[0m, in \u001B[0;36mconcatenate\u001B[1;34m(*args, **kwargs)\u001B[0m\n",
      "\u001B[1;31mValueError\u001B[0m: all the input array dimensions for the concatenation axis must match exactly, but along dimension 0, the array at index 0 has size 3414775 and the array at index 1 has size 542028"
     ]
    }
   ],
   "source": [
    "spearmanr(y_train, preds)"
   ],
   "metadata": {
    "collapsed": false,
    "ExecuteTime": {
     "end_time": "2023-07-10T13:06:41.733243100Z",
     "start_time": "2023-07-10T13:06:41.711343500Z"
    }
   }
  },
  {
   "cell_type": "code",
   "execution_count": 193,
   "outputs": [],
   "source": [
    "n_samples = X_train.shape[0]\n",
    "row_index = 0\n",
    "\n",
    "for i in range(n_samples):\n",
    "    num_pairs = n_samples - i - 1\n",
    "    indices = np.where((X_train[i] == 1).all(axis=1))[0]\n",
    "    X_orig.iloc[indices, -1] = preds_remapped[row_index : row_index + num_pairs]\n",
    "    row_index += num_pairs"
   ],
   "metadata": {
    "collapsed": false,
    "ExecuteTime": {
     "end_time": "2023-07-10T13:28:52.764098200Z",
     "start_time": "2023-07-10T13:26:23.643495500Z"
    }
   }
  },
  {
   "cell_type": "code",
   "execution_count": 194,
   "outputs": [
    {
     "data": {
      "text/plain": "      date                                                 id         0  \\\n0        0  dae29c8061b3176b9208f26afbb96e2ca50886db41902d... -0.909515   \n1        0  2f71f1b5d49fbd131351df95848dc91ab14662af62d4d0... -0.107694   \n2        0  b8d41ef950b69f94c380410f59f47e15666c57b74573b6...  0.092316   \n3        0  cdce060d04ce28a551eaab653cc4b01f5ad878aeb932ec...  4.119639   \n4        0  86f6e6d9407ad3abfab91a3bbfb7ad71553e3f968765b8...  0.109644   \n...    ...                                                ...       ...   \n3288     3  a618c77e3fc3bcd66278ea82876546048ca77304ecd3de... -0.610014   \n3289     3  162835451eb55e87dff9e06a9d02c58bc4999cbc00a31d...  0.262623   \n3290     3  c98afeee57fc25534ebf42c6da388efebec82eab438a3e...  0.586663   \n3291     3  1c5c9e101b98b3d46af8b93007eac21e278b1191df4d66... -0.690025   \n3292     3  55e49d8de87412ecd5abf28a43e48e79ff391405270dfd... -0.202576   \n\n             1         2         3         4         5         6         7  \\\n0     0.388808 -1.535913 -0.133312 -1.826404 -0.532795  0.351273  0.158866   \n1    -0.097967 -0.539599 -0.331276 -0.942609 -0.054123 -1.212772  1.688034   \n2     0.052596 -0.652025  1.218241  0.382968 -0.861838 -0.318937 -0.744261   \n3     1.018918  3.687519  1.597563  0.055918 -1.406041  0.652994  0.251138   \n4    -0.290280 -0.278987 -0.603259  0.136952 -1.725076 -0.062219 -0.183102   \n...        ...       ...       ...       ...       ...       ...       ...   \n3288 -1.151982 -0.892403  0.020550 -0.333657  0.439891 -0.368870  0.571765   \n3289  0.295104 -0.481327 -0.074884  0.500263  1.051355  0.738217  0.397935   \n3290 -0.849009  0.169657 -0.031505 -0.284460 -1.163243 -0.655527  0.940109   \n3291 -0.665957 -0.744144  0.046095  0.226594 -1.986957  0.718556 -0.167248   \n3292  0.341352 -0.392752  1.151076  0.347931  2.046273 -0.127974  0.492461   \n\n      ...       452       453       454       455       456       457  \\\n0     ... -0.456020 -0.257331  0.396074  0.318007 -0.538754 -0.625193   \n1     ... -0.984907 -0.429806  0.199055  0.202587  1.612578  0.302153   \n2     ... -0.046016  1.147463  0.696961 -0.574426  1.255969  0.270394   \n3     ... -1.155922 -1.108540 -2.046100  1.311100 -0.322965  0.999248   \n4     ... -0.482311 -0.269142 -0.899796  1.083332  0.674665 -1.095657   \n...   ...       ...       ...       ...       ...       ...       ...   \n3288  ... -1.047030 -0.172235  1.586273  0.733316  1.223943 -0.396021   \n3289  ... -1.421944 -0.155835  1.846273  0.788146  0.315591 -0.088606   \n3290  ... -0.116776 -1.297815  0.327170 -1.064325  0.893458 -0.071305   \n3291  ...  0.103249  0.040602 -0.820882  0.535778  0.113347  0.367496   \n3292  ... -1.157104  0.663557 -1.958764  1.577102 -2.827423 -1.612062   \n\n           458       459       460  predicted_rank  \n0    -0.753419  0.154403  1.069385       -0.611957  \n1    -0.165713  0.905807  0.083180       -0.611957  \n2     1.272939 -0.643112  0.433585       -0.611957  \n3    -1.238640  0.882844 -1.333590       -0.611957  \n4    -0.402669  0.677189  0.319992       -0.611957  \n...        ...       ...       ...             ...  \n3288 -1.005701  0.128281  0.046620       -0.611957  \n3289  0.318583  0.434937 -0.458458       -0.611957  \n3290  0.479180  0.168155 -0.063388       -0.611957  \n3291  0.473489  0.136284  0.370755       -0.611957  \n3292 -2.782816 -1.085436  1.249828        0.866349  \n\n[3293 rows x 464 columns]",
      "text/html": "<div>\n<style scoped>\n    .dataframe tbody tr th:only-of-type {\n        vertical-align: middle;\n    }\n\n    .dataframe tbody tr th {\n        vertical-align: top;\n    }\n\n    .dataframe thead th {\n        text-align: right;\n    }\n</style>\n<table border=\"1\" class=\"dataframe\">\n  <thead>\n    <tr style=\"text-align: right;\">\n      <th></th>\n      <th>date</th>\n      <th>id</th>\n      <th>0</th>\n      <th>1</th>\n      <th>2</th>\n      <th>3</th>\n      <th>4</th>\n      <th>5</th>\n      <th>6</th>\n      <th>7</th>\n      <th>...</th>\n      <th>452</th>\n      <th>453</th>\n      <th>454</th>\n      <th>455</th>\n      <th>456</th>\n      <th>457</th>\n      <th>458</th>\n      <th>459</th>\n      <th>460</th>\n      <th>predicted_rank</th>\n    </tr>\n  </thead>\n  <tbody>\n    <tr>\n      <th>0</th>\n      <td>0</td>\n      <td>dae29c8061b3176b9208f26afbb96e2ca50886db41902d...</td>\n      <td>-0.909515</td>\n      <td>0.388808</td>\n      <td>-1.535913</td>\n      <td>-0.133312</td>\n      <td>-1.826404</td>\n      <td>-0.532795</td>\n      <td>0.351273</td>\n      <td>0.158866</td>\n      <td>...</td>\n      <td>-0.456020</td>\n      <td>-0.257331</td>\n      <td>0.396074</td>\n      <td>0.318007</td>\n      <td>-0.538754</td>\n      <td>-0.625193</td>\n      <td>-0.753419</td>\n      <td>0.154403</td>\n      <td>1.069385</td>\n      <td>-0.611957</td>\n    </tr>\n    <tr>\n      <th>1</th>\n      <td>0</td>\n      <td>2f71f1b5d49fbd131351df95848dc91ab14662af62d4d0...</td>\n      <td>-0.107694</td>\n      <td>-0.097967</td>\n      <td>-0.539599</td>\n      <td>-0.331276</td>\n      <td>-0.942609</td>\n      <td>-0.054123</td>\n      <td>-1.212772</td>\n      <td>1.688034</td>\n      <td>...</td>\n      <td>-0.984907</td>\n      <td>-0.429806</td>\n      <td>0.199055</td>\n      <td>0.202587</td>\n      <td>1.612578</td>\n      <td>0.302153</td>\n      <td>-0.165713</td>\n      <td>0.905807</td>\n      <td>0.083180</td>\n      <td>-0.611957</td>\n    </tr>\n    <tr>\n      <th>2</th>\n      <td>0</td>\n      <td>b8d41ef950b69f94c380410f59f47e15666c57b74573b6...</td>\n      <td>0.092316</td>\n      <td>0.052596</td>\n      <td>-0.652025</td>\n      <td>1.218241</td>\n      <td>0.382968</td>\n      <td>-0.861838</td>\n      <td>-0.318937</td>\n      <td>-0.744261</td>\n      <td>...</td>\n      <td>-0.046016</td>\n      <td>1.147463</td>\n      <td>0.696961</td>\n      <td>-0.574426</td>\n      <td>1.255969</td>\n      <td>0.270394</td>\n      <td>1.272939</td>\n      <td>-0.643112</td>\n      <td>0.433585</td>\n      <td>-0.611957</td>\n    </tr>\n    <tr>\n      <th>3</th>\n      <td>0</td>\n      <td>cdce060d04ce28a551eaab653cc4b01f5ad878aeb932ec...</td>\n      <td>4.119639</td>\n      <td>1.018918</td>\n      <td>3.687519</td>\n      <td>1.597563</td>\n      <td>0.055918</td>\n      <td>-1.406041</td>\n      <td>0.652994</td>\n      <td>0.251138</td>\n      <td>...</td>\n      <td>-1.155922</td>\n      <td>-1.108540</td>\n      <td>-2.046100</td>\n      <td>1.311100</td>\n      <td>-0.322965</td>\n      <td>0.999248</td>\n      <td>-1.238640</td>\n      <td>0.882844</td>\n      <td>-1.333590</td>\n      <td>-0.611957</td>\n    </tr>\n    <tr>\n      <th>4</th>\n      <td>0</td>\n      <td>86f6e6d9407ad3abfab91a3bbfb7ad71553e3f968765b8...</td>\n      <td>0.109644</td>\n      <td>-0.290280</td>\n      <td>-0.278987</td>\n      <td>-0.603259</td>\n      <td>0.136952</td>\n      <td>-1.725076</td>\n      <td>-0.062219</td>\n      <td>-0.183102</td>\n      <td>...</td>\n      <td>-0.482311</td>\n      <td>-0.269142</td>\n      <td>-0.899796</td>\n      <td>1.083332</td>\n      <td>0.674665</td>\n      <td>-1.095657</td>\n      <td>-0.402669</td>\n      <td>0.677189</td>\n      <td>0.319992</td>\n      <td>-0.611957</td>\n    </tr>\n    <tr>\n      <th>...</th>\n      <td>...</td>\n      <td>...</td>\n      <td>...</td>\n      <td>...</td>\n      <td>...</td>\n      <td>...</td>\n      <td>...</td>\n      <td>...</td>\n      <td>...</td>\n      <td>...</td>\n      <td>...</td>\n      <td>...</td>\n      <td>...</td>\n      <td>...</td>\n      <td>...</td>\n      <td>...</td>\n      <td>...</td>\n      <td>...</td>\n      <td>...</td>\n      <td>...</td>\n      <td>...</td>\n    </tr>\n    <tr>\n      <th>3288</th>\n      <td>3</td>\n      <td>a618c77e3fc3bcd66278ea82876546048ca77304ecd3de...</td>\n      <td>-0.610014</td>\n      <td>-1.151982</td>\n      <td>-0.892403</td>\n      <td>0.020550</td>\n      <td>-0.333657</td>\n      <td>0.439891</td>\n      <td>-0.368870</td>\n      <td>0.571765</td>\n      <td>...</td>\n      <td>-1.047030</td>\n      <td>-0.172235</td>\n      <td>1.586273</td>\n      <td>0.733316</td>\n      <td>1.223943</td>\n      <td>-0.396021</td>\n      <td>-1.005701</td>\n      <td>0.128281</td>\n      <td>0.046620</td>\n      <td>-0.611957</td>\n    </tr>\n    <tr>\n      <th>3289</th>\n      <td>3</td>\n      <td>162835451eb55e87dff9e06a9d02c58bc4999cbc00a31d...</td>\n      <td>0.262623</td>\n      <td>0.295104</td>\n      <td>-0.481327</td>\n      <td>-0.074884</td>\n      <td>0.500263</td>\n      <td>1.051355</td>\n      <td>0.738217</td>\n      <td>0.397935</td>\n      <td>...</td>\n      <td>-1.421944</td>\n      <td>-0.155835</td>\n      <td>1.846273</td>\n      <td>0.788146</td>\n      <td>0.315591</td>\n      <td>-0.088606</td>\n      <td>0.318583</td>\n      <td>0.434937</td>\n      <td>-0.458458</td>\n      <td>-0.611957</td>\n    </tr>\n    <tr>\n      <th>3290</th>\n      <td>3</td>\n      <td>c98afeee57fc25534ebf42c6da388efebec82eab438a3e...</td>\n      <td>0.586663</td>\n      <td>-0.849009</td>\n      <td>0.169657</td>\n      <td>-0.031505</td>\n      <td>-0.284460</td>\n      <td>-1.163243</td>\n      <td>-0.655527</td>\n      <td>0.940109</td>\n      <td>...</td>\n      <td>-0.116776</td>\n      <td>-1.297815</td>\n      <td>0.327170</td>\n      <td>-1.064325</td>\n      <td>0.893458</td>\n      <td>-0.071305</td>\n      <td>0.479180</td>\n      <td>0.168155</td>\n      <td>-0.063388</td>\n      <td>-0.611957</td>\n    </tr>\n    <tr>\n      <th>3291</th>\n      <td>3</td>\n      <td>1c5c9e101b98b3d46af8b93007eac21e278b1191df4d66...</td>\n      <td>-0.690025</td>\n      <td>-0.665957</td>\n      <td>-0.744144</td>\n      <td>0.046095</td>\n      <td>0.226594</td>\n      <td>-1.986957</td>\n      <td>0.718556</td>\n      <td>-0.167248</td>\n      <td>...</td>\n      <td>0.103249</td>\n      <td>0.040602</td>\n      <td>-0.820882</td>\n      <td>0.535778</td>\n      <td>0.113347</td>\n      <td>0.367496</td>\n      <td>0.473489</td>\n      <td>0.136284</td>\n      <td>0.370755</td>\n      <td>-0.611957</td>\n    </tr>\n    <tr>\n      <th>3292</th>\n      <td>3</td>\n      <td>55e49d8de87412ecd5abf28a43e48e79ff391405270dfd...</td>\n      <td>-0.202576</td>\n      <td>0.341352</td>\n      <td>-0.392752</td>\n      <td>1.151076</td>\n      <td>0.347931</td>\n      <td>2.046273</td>\n      <td>-0.127974</td>\n      <td>0.492461</td>\n      <td>...</td>\n      <td>-1.157104</td>\n      <td>0.663557</td>\n      <td>-1.958764</td>\n      <td>1.577102</td>\n      <td>-2.827423</td>\n      <td>-1.612062</td>\n      <td>-2.782816</td>\n      <td>-1.085436</td>\n      <td>1.249828</td>\n      <td>0.866349</td>\n    </tr>\n  </tbody>\n</table>\n<p>3293 rows × 464 columns</p>\n</div>"
     },
     "execution_count": 194,
     "metadata": {},
     "output_type": "execute_result"
    }
   ],
   "source": [
    "X_orig"
   ],
   "metadata": {
    "collapsed": false,
    "ExecuteTime": {
     "end_time": "2023-07-10T13:32:54.627444300Z",
     "start_time": "2023-07-10T13:32:54.605511100Z"
    }
   }
  },
  {
   "cell_type": "code",
   "execution_count": null,
   "outputs": [],
   "source": [],
   "metadata": {
    "collapsed": false
   }
  }
 ],
 "metadata": {
  "kernelspec": {
   "display_name": "Python 3",
   "language": "python",
   "name": "python3"
  },
  "language_info": {
   "codemirror_mode": {
    "name": "ipython",
    "version": 2
   },
   "file_extension": ".py",
   "mimetype": "text/x-python",
   "name": "python",
   "nbconvert_exporter": "python",
   "pygments_lexer": "ipython2",
   "version": "2.7.6"
  }
 },
 "nbformat": 4,
 "nbformat_minor": 0
}

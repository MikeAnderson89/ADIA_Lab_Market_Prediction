{
 "cells": [
  {
   "cell_type": "code",
   "execution_count": 17,
   "outputs": [],
   "source": [
    "import pandas as pd\n",
    "import joblib\n",
    "import scipy.stats as stats\n",
    "from sklearn.feature_selection import RFE\n",
    "from sklearn.linear_model import LinearRegression\n",
    "from sklearn.preprocessing import StandardScaler\n",
    "from sklearn.model_selection import train_test_split\n",
    "import tensorflow as tf\n",
    "from tensorflow import keras\n",
    "from keras.callbacks import ModelCheckpoint\n",
    "from keras.callbacks import EarlyStopping\n",
    "from keras.models import load_model\n",
    "from pathlib import Path\n",
    "import pickle"
   ],
   "metadata": {
    "collapsed": false,
    "ExecuteTime": {
     "end_time": "2023-07-06T16:21:32.170596100Z",
     "start_time": "2023-07-06T16:21:32.160596200Z"
    }
   }
  },
  {
   "cell_type": "code",
   "execution_count": 21,
   "outputs": [],
   "source": [
    "def train(X_train: pd.DataFrame, y_train: pd.DataFrame, model_directory_path: str = \"resources\") -> None:\n",
    "    #Recursive Feature Elimination\n",
    "    estimator = LinearRegression()\n",
    "    rfe = RFE(estimator, n_features_to_select=50, step=0.05)\n",
    "    X_train = X_train.iloc[:, 2:]\n",
    "    y_train = y_train.iloc[:,2:]\n",
    "    rfe.fit(X_train, y_train)\n",
    "    selected_features = X_train.columns[rfe.support_]\n",
    "    X_train = X_train[selected_features]\n",
    "\n",
    "    with open(Path(model_directory_path) / 'selected_features.pkl', 'wb') as file:\n",
    "        pickle.dump(selected_features, file)\n",
    "\n",
    "    #Scaler\n",
    "    scaler = StandardScaler()\n",
    "    X_train = scaler.fit_transform(X_train)\n",
    "    joblib.dump(scaler, Path(model_directory_path) / 'scaler.h5')\n",
    "\n",
    "    #Get train and test datasets\n",
    "    X_train, X_test, y_train, y_test = train_test_split(X_train, y_train, random_state=42, shuffle=True, test_size=0.3)\n",
    "\n",
    "    #Spearman Rank Metric\n",
    "    def get_spearman_rankcor(y_true, y_pred):\n",
    "        return ( tf.py_function(stats.spearmanr, [tf.cast(y_pred, tf.float32),\n",
    "                                                  tf.cast(y_true, tf.float32)], Tout = tf.float32) )\n",
    "\n",
    "    model_pathname = str(Path(model_directory_path) / \"model.h5\")\n",
    "    #Neural Network Model\n",
    "    mc = ModelCheckpoint(model_pathname, monitor='val_loss', mode='min', verbose=1, save_best_only=True)\n",
    "\n",
    "    early_stopping = EarlyStopping(\n",
    "        monitor='val_loss',\n",
    "        patience=5,\n",
    "        verbose=0,\n",
    "        mode='auto',\n",
    "        baseline=None,\n",
    "        restore_best_weights=True)\n",
    "\n",
    "    model = keras.Sequential([\n",
    "        keras.layers.Dense(50, activation='selu', kernel_initializer='lecun_normal'),\n",
    "        keras.layers.BatchNormalization(),\n",
    "        keras.layers.Dense(50, activation='selu', kernel_initializer='lecun_normal'),\n",
    "        keras.layers.BatchNormalization(),\n",
    "        keras.layers.Dense(25, activation='selu', kernel_initializer='lecun_normal'),\n",
    "        keras.layers.BatchNormalization(),\n",
    "        keras.layers.Dense(3, activation='selu', kernel_initializer='lecun_normal'),\n",
    "        keras.layers.BatchNormalization(),\n",
    "        keras.layers.Dense(1, activation='relu', kernel_initializer='lecun_normal')\n",
    "    ])\n",
    "\n",
    "    optimizer = keras.optimizers.Adam(learning_rate=0.0001)\n",
    "\n",
    "    model.compile(optimizer=optimizer,\n",
    "                  loss='mean_squared_error',\n",
    "                  metrics=[get_spearman_rankcor])\n",
    "\n",
    "    history = model.fit(\n",
    "        X_train,\n",
    "        y_train,\n",
    "        batch_size=5000,\n",
    "        epochs=5000,\n",
    "        validation_data=[X_test, y_test],\n",
    "        callbacks=[mc, early_stopping],\n",
    "        shuffle=True,\n",
    "        use_multiprocessing=True\n",
    "    )\n",
    "\n",
    "    # make sure that the train function correctly save the trained model\n",
    "    # in the model_directory_path\n",
    "    # model_pathname = Path(model_directory_path) / \"model.h5\"\n",
    "    # print(f\"Saving model in {model_pathname}\")\n",
    "    # joblib.dump(model, model_pathname)"
   ],
   "metadata": {
    "collapsed": false,
    "ExecuteTime": {
     "end_time": "2023-07-06T16:31:07.701363200Z",
     "start_time": "2023-07-06T16:31:07.685357700Z"
    }
   }
  },
  {
   "cell_type": "code",
   "execution_count": 22,
   "outputs": [],
   "source": [
    "def infer(X_test: pd.DataFrame, model_directory_path: str = \"resources\") -> pd.DataFrame:\n",
    "    def get_spearman_rankcor(y_true, y_pred):\n",
    "        return ( tf.py_function(stats.spearmanr, [tf.cast(y_pred, tf.float32),\n",
    "                                                  tf.cast(y_true, tf.float32)], Tout = tf.float32) )\n",
    "\n",
    "    scaler_path = str(Path(model_directory_path) / 'scaler.h5')\n",
    "    model_path = str(Path(model_directory_path) / 'model.h5')\n",
    "    scaler = joblib.load(scaler_path)\n",
    "    model = load_model(model_path, custom_objects={\"get_spearman_rankcor\": get_spearman_rankcor})\n",
    "\n",
    "    with open(Path(model_directory_path) / 'selected_features.pkl', 'rb') as file:\n",
    "        selected_features = pickle.load(file)\n",
    "\n",
    "    y_test_predicted = X_test[[\"date\", \"id\"]].copy()\n",
    "\n",
    "    X_test = X_test.iloc[:, 2:]\n",
    "    X_test = X_test[selected_features]\n",
    "    X_test = scaler.transform(X_test)\n",
    "    # creating the predicted label dataframe with correct dates and ids\n",
    "    y_test_predicted[\"value\"] = model.predict(X_test)\n",
    "\n",
    "    return y_test_predicted"
   ],
   "metadata": {
    "collapsed": false,
    "ExecuteTime": {
     "end_time": "2023-07-06T16:31:09.452135600Z",
     "start_time": "2023-07-06T16:31:09.443642300Z"
    }
   }
  },
  {
   "cell_type": "code",
   "execution_count": null,
   "outputs": [],
   "source": [],
   "metadata": {
    "collapsed": false
   }
  }
 ],
 "metadata": {
  "kernelspec": {
   "display_name": "Python 3",
   "language": "python",
   "name": "python3"
  },
  "language_info": {
   "codemirror_mode": {
    "name": "ipython",
    "version": 2
   },
   "file_extension": ".py",
   "mimetype": "text/x-python",
   "name": "python",
   "nbconvert_exporter": "python",
   "pygments_lexer": "ipython2",
   "version": "2.7.6"
  }
 },
 "nbformat": 4,
 "nbformat_minor": 0
}

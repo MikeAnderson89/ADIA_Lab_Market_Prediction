{
 "cells": [
  {
   "cell_type": "code",
   "execution_count": 17,
   "metadata": {
    "collapsed": true,
    "ExecuteTime": {
     "end_time": "2023-07-05T21:27:41.656028300Z",
     "start_time": "2023-07-05T21:27:41.637526900Z"
    }
   },
   "outputs": [],
   "source": [
    "import pandas as pd"
   ]
  },
  {
   "cell_type": "code",
   "execution_count": 18,
   "outputs": [],
   "source": [
    "X_train = pd.read_parquet('../datascienceftw/data/X_train.parquet')\n",
    "y_train = pd.read_parquet('../datascienceftw/data/y_train.parquet')\n",
    "X_test = pd.read_parquet('../datascienceftw/data/X_test.parquet')"
   ],
   "metadata": {
    "collapsed": false,
    "ExecuteTime": {
     "end_time": "2023-07-05T21:27:44.066593200Z",
     "start_time": "2023-07-05T21:27:42.563687Z"
    }
   }
  },
  {
   "cell_type": "code",
   "execution_count": 19,
   "outputs": [
    {
     "name": "stderr",
     "output_type": "stream",
     "text": [
      "\u001B[32m16:35:23\u001B[0m \u001B[33mno forbidden library found\u001B[0m\n",
      "\u001B[32m16:35:23\u001B[0m \u001B[33m\u001B[0m\n",
      "\u001B[32m16:35:23\u001B[0m running local test\n",
      "\u001B[32m16:35:23\u001B[0m \u001B[33minternet access isn't restricted, no check will be done\u001B[0m\n",
      "\u001B[32m16:35:23\u001B[0m \n",
      "\u001B[32m16:35:23\u001B[0m \u001B[31mno `train` function found\u001B[0m\n",
      "\u001B[32m16:35:23\u001B[0m \u001B[31mAborted!\u001B[0m\n"
     ]
    }
   ],
   "source": [],
   "metadata": {
    "collapsed": false,
    "ExecuteTime": {
     "end_time": "2023-07-05T21:35:23.621350600Z",
     "start_time": "2023-07-05T21:35:22.736723100Z"
    }
   }
  },
  {
   "cell_type": "code",
   "execution_count": 16,
   "outputs": [
    {
     "data": {
      "text/plain": "       date                                                 id         0  \\\n0       269  c6e83eda40042dab1af117e195d542f00a417627e3173a...  0.391071   \n1       269  97ae3194605438cbd2c59a3827f7c615dafa40d6cc3f42...  0.259997   \n2       269  310382927ec56f64c6f2f834fd320c9f732e26df639e67... -0.378865   \n3       269  6e963f295f4ec1dc921be47638dba304f486ab2efd313c...  0.170340   \n4       269  46cb6aa83fbd64a64a8a87d782476438abb658ce89b89c... -0.401117   \n...     ...                                                ...       ...   \n20505   273  26e5d74e138cf23f5d65aab46fdc59f6421e97ccf1ab8e... -1.917490   \n20506   273  9dd2e69f186ef4eb076c646a8b182e936af2667793d143...  0.770154   \n20507   273  002647639e3b83fd884eed0eddf72a702f15c5d70fb75d... -1.847790   \n20508   273  7d840103d2370a80cc9b8376bfaf04b2aa5ff46bcbab03...  0.244260   \n20509   273  8cb714eb33a36b24b868155daac9efc9f9ff5c5e01bee1...  0.254840   \n\n              1         2         3         4         5         6         7  \\\n0     -0.645445 -0.509512  0.868220 -0.972862  1.193786  0.746516 -1.518297   \n1     -0.865708 -0.867836 -0.954762  0.636950 -0.764149  0.492201  1.728825   \n2      0.495227 -0.587407  2.723201  0.126183  1.188083  0.539565  1.360154   \n3     -1.895324 -1.153724  1.126299  0.075489 -0.119176  0.796615 -0.704762   \n4     -2.352548 -1.732366  1.095066 -0.209216  0.775262  0.185748 -0.704960   \n...         ...       ...       ...       ...       ...       ...       ...   \n20505  0.400589  0.126404  0.838556  0.017998  0.139926  0.147350 -1.971993   \n20506 -0.180424  0.616676 -0.136558 -0.446469  0.752397  0.224007 -0.138554   \n20507 -1.578980 -0.750479  0.527118  0.146316 -0.748350  1.120599  1.221281   \n20508 -0.674001 -0.628116 -0.876343  0.070191 -0.024811 -1.393547 -1.553663   \n20509 -0.017310 -0.472295  1.313603  0.211244 -1.470174  0.022570 -0.475665   \n\n       ...       451       452       453       454       455       456  \\\n0      ... -0.437567  0.705602  0.902503 -1.419535  0.906415 -0.803438   \n1      ...  0.087401 -0.612338 -0.840141  2.810620  1.638521  0.128249   \n2      ... -0.591814  0.768917 -0.083752 -0.210098 -0.996652 -0.452166   \n3      ... -1.994668 -0.151891 -0.797790  0.205438  0.804823 -0.704727   \n4      ...  1.787133  0.703635  1.325674  0.346312  1.756564  0.546836   \n...    ...       ...       ...       ...       ...       ...       ...   \n20505  ...  0.184795  0.334650  0.355572 -0.128780  0.130630 -1.060568   \n20506  ... -1.238873 -0.092966 -0.439311 -0.873708  1.797540 -0.071040   \n20507  ...  0.677682 -1.345592  0.788720  0.110712  0.476362 -0.785279   \n20508  ... -1.220885 -0.618060 -0.144753 -0.944564  0.812614 -0.234881   \n20509  ... -0.597894  0.436827 -1.165510 -0.421331 -0.168660  0.374414   \n\n            457       458       459       460  \n0      0.493660 -0.174914 -1.012523  0.163601  \n1      0.736173 -2.126491 -0.020632  0.929101  \n2      1.614827  0.295709 -2.752092  0.461213  \n3      0.004971  1.276591  0.634666 -1.173278  \n4     -0.378314 -0.821078  0.085321 -0.519840  \n...         ...       ...       ...       ...  \n20505  0.554242  0.071193 -2.842380 -0.253446  \n20506  0.732753  0.288712  0.257717  0.689100  \n20507 -0.897711 -1.114312 -0.377058  0.531403  \n20508 -0.405059 -0.816769 -0.356607 -0.558897  \n20509 -0.013479 -0.328233  0.612176  0.034459  \n\n[20510 rows x 463 columns]",
      "text/html": "<div>\n<style scoped>\n    .dataframe tbody tr th:only-of-type {\n        vertical-align: middle;\n    }\n\n    .dataframe tbody tr th {\n        vertical-align: top;\n    }\n\n    .dataframe thead th {\n        text-align: right;\n    }\n</style>\n<table border=\"1\" class=\"dataframe\">\n  <thead>\n    <tr style=\"text-align: right;\">\n      <th></th>\n      <th>date</th>\n      <th>id</th>\n      <th>0</th>\n      <th>1</th>\n      <th>2</th>\n      <th>3</th>\n      <th>4</th>\n      <th>5</th>\n      <th>6</th>\n      <th>7</th>\n      <th>...</th>\n      <th>451</th>\n      <th>452</th>\n      <th>453</th>\n      <th>454</th>\n      <th>455</th>\n      <th>456</th>\n      <th>457</th>\n      <th>458</th>\n      <th>459</th>\n      <th>460</th>\n    </tr>\n  </thead>\n  <tbody>\n    <tr>\n      <th>0</th>\n      <td>269</td>\n      <td>c6e83eda40042dab1af117e195d542f00a417627e3173a...</td>\n      <td>0.391071</td>\n      <td>-0.645445</td>\n      <td>-0.509512</td>\n      <td>0.868220</td>\n      <td>-0.972862</td>\n      <td>1.193786</td>\n      <td>0.746516</td>\n      <td>-1.518297</td>\n      <td>...</td>\n      <td>-0.437567</td>\n      <td>0.705602</td>\n      <td>0.902503</td>\n      <td>-1.419535</td>\n      <td>0.906415</td>\n      <td>-0.803438</td>\n      <td>0.493660</td>\n      <td>-0.174914</td>\n      <td>-1.012523</td>\n      <td>0.163601</td>\n    </tr>\n    <tr>\n      <th>1</th>\n      <td>269</td>\n      <td>97ae3194605438cbd2c59a3827f7c615dafa40d6cc3f42...</td>\n      <td>0.259997</td>\n      <td>-0.865708</td>\n      <td>-0.867836</td>\n      <td>-0.954762</td>\n      <td>0.636950</td>\n      <td>-0.764149</td>\n      <td>0.492201</td>\n      <td>1.728825</td>\n      <td>...</td>\n      <td>0.087401</td>\n      <td>-0.612338</td>\n      <td>-0.840141</td>\n      <td>2.810620</td>\n      <td>1.638521</td>\n      <td>0.128249</td>\n      <td>0.736173</td>\n      <td>-2.126491</td>\n      <td>-0.020632</td>\n      <td>0.929101</td>\n    </tr>\n    <tr>\n      <th>2</th>\n      <td>269</td>\n      <td>310382927ec56f64c6f2f834fd320c9f732e26df639e67...</td>\n      <td>-0.378865</td>\n      <td>0.495227</td>\n      <td>-0.587407</td>\n      <td>2.723201</td>\n      <td>0.126183</td>\n      <td>1.188083</td>\n      <td>0.539565</td>\n      <td>1.360154</td>\n      <td>...</td>\n      <td>-0.591814</td>\n      <td>0.768917</td>\n      <td>-0.083752</td>\n      <td>-0.210098</td>\n      <td>-0.996652</td>\n      <td>-0.452166</td>\n      <td>1.614827</td>\n      <td>0.295709</td>\n      <td>-2.752092</td>\n      <td>0.461213</td>\n    </tr>\n    <tr>\n      <th>3</th>\n      <td>269</td>\n      <td>6e963f295f4ec1dc921be47638dba304f486ab2efd313c...</td>\n      <td>0.170340</td>\n      <td>-1.895324</td>\n      <td>-1.153724</td>\n      <td>1.126299</td>\n      <td>0.075489</td>\n      <td>-0.119176</td>\n      <td>0.796615</td>\n      <td>-0.704762</td>\n      <td>...</td>\n      <td>-1.994668</td>\n      <td>-0.151891</td>\n      <td>-0.797790</td>\n      <td>0.205438</td>\n      <td>0.804823</td>\n      <td>-0.704727</td>\n      <td>0.004971</td>\n      <td>1.276591</td>\n      <td>0.634666</td>\n      <td>-1.173278</td>\n    </tr>\n    <tr>\n      <th>4</th>\n      <td>269</td>\n      <td>46cb6aa83fbd64a64a8a87d782476438abb658ce89b89c...</td>\n      <td>-0.401117</td>\n      <td>-2.352548</td>\n      <td>-1.732366</td>\n      <td>1.095066</td>\n      <td>-0.209216</td>\n      <td>0.775262</td>\n      <td>0.185748</td>\n      <td>-0.704960</td>\n      <td>...</td>\n      <td>1.787133</td>\n      <td>0.703635</td>\n      <td>1.325674</td>\n      <td>0.346312</td>\n      <td>1.756564</td>\n      <td>0.546836</td>\n      <td>-0.378314</td>\n      <td>-0.821078</td>\n      <td>0.085321</td>\n      <td>-0.519840</td>\n    </tr>\n    <tr>\n      <th>...</th>\n      <td>...</td>\n      <td>...</td>\n      <td>...</td>\n      <td>...</td>\n      <td>...</td>\n      <td>...</td>\n      <td>...</td>\n      <td>...</td>\n      <td>...</td>\n      <td>...</td>\n      <td>...</td>\n      <td>...</td>\n      <td>...</td>\n      <td>...</td>\n      <td>...</td>\n      <td>...</td>\n      <td>...</td>\n      <td>...</td>\n      <td>...</td>\n      <td>...</td>\n      <td>...</td>\n    </tr>\n    <tr>\n      <th>20505</th>\n      <td>273</td>\n      <td>26e5d74e138cf23f5d65aab46fdc59f6421e97ccf1ab8e...</td>\n      <td>-1.917490</td>\n      <td>0.400589</td>\n      <td>0.126404</td>\n      <td>0.838556</td>\n      <td>0.017998</td>\n      <td>0.139926</td>\n      <td>0.147350</td>\n      <td>-1.971993</td>\n      <td>...</td>\n      <td>0.184795</td>\n      <td>0.334650</td>\n      <td>0.355572</td>\n      <td>-0.128780</td>\n      <td>0.130630</td>\n      <td>-1.060568</td>\n      <td>0.554242</td>\n      <td>0.071193</td>\n      <td>-2.842380</td>\n      <td>-0.253446</td>\n    </tr>\n    <tr>\n      <th>20506</th>\n      <td>273</td>\n      <td>9dd2e69f186ef4eb076c646a8b182e936af2667793d143...</td>\n      <td>0.770154</td>\n      <td>-0.180424</td>\n      <td>0.616676</td>\n      <td>-0.136558</td>\n      <td>-0.446469</td>\n      <td>0.752397</td>\n      <td>0.224007</td>\n      <td>-0.138554</td>\n      <td>...</td>\n      <td>-1.238873</td>\n      <td>-0.092966</td>\n      <td>-0.439311</td>\n      <td>-0.873708</td>\n      <td>1.797540</td>\n      <td>-0.071040</td>\n      <td>0.732753</td>\n      <td>0.288712</td>\n      <td>0.257717</td>\n      <td>0.689100</td>\n    </tr>\n    <tr>\n      <th>20507</th>\n      <td>273</td>\n      <td>002647639e3b83fd884eed0eddf72a702f15c5d70fb75d...</td>\n      <td>-1.847790</td>\n      <td>-1.578980</td>\n      <td>-0.750479</td>\n      <td>0.527118</td>\n      <td>0.146316</td>\n      <td>-0.748350</td>\n      <td>1.120599</td>\n      <td>1.221281</td>\n      <td>...</td>\n      <td>0.677682</td>\n      <td>-1.345592</td>\n      <td>0.788720</td>\n      <td>0.110712</td>\n      <td>0.476362</td>\n      <td>-0.785279</td>\n      <td>-0.897711</td>\n      <td>-1.114312</td>\n      <td>-0.377058</td>\n      <td>0.531403</td>\n    </tr>\n    <tr>\n      <th>20508</th>\n      <td>273</td>\n      <td>7d840103d2370a80cc9b8376bfaf04b2aa5ff46bcbab03...</td>\n      <td>0.244260</td>\n      <td>-0.674001</td>\n      <td>-0.628116</td>\n      <td>-0.876343</td>\n      <td>0.070191</td>\n      <td>-0.024811</td>\n      <td>-1.393547</td>\n      <td>-1.553663</td>\n      <td>...</td>\n      <td>-1.220885</td>\n      <td>-0.618060</td>\n      <td>-0.144753</td>\n      <td>-0.944564</td>\n      <td>0.812614</td>\n      <td>-0.234881</td>\n      <td>-0.405059</td>\n      <td>-0.816769</td>\n      <td>-0.356607</td>\n      <td>-0.558897</td>\n    </tr>\n    <tr>\n      <th>20509</th>\n      <td>273</td>\n      <td>8cb714eb33a36b24b868155daac9efc9f9ff5c5e01bee1...</td>\n      <td>0.254840</td>\n      <td>-0.017310</td>\n      <td>-0.472295</td>\n      <td>1.313603</td>\n      <td>0.211244</td>\n      <td>-1.470174</td>\n      <td>0.022570</td>\n      <td>-0.475665</td>\n      <td>...</td>\n      <td>-0.597894</td>\n      <td>0.436827</td>\n      <td>-1.165510</td>\n      <td>-0.421331</td>\n      <td>-0.168660</td>\n      <td>0.374414</td>\n      <td>-0.013479</td>\n      <td>-0.328233</td>\n      <td>0.612176</td>\n      <td>0.034459</td>\n    </tr>\n  </tbody>\n</table>\n<p>20510 rows × 463 columns</p>\n</div>"
     },
     "execution_count": 16,
     "metadata": {},
     "output_type": "execute_result"
    }
   ],
   "source": [],
   "metadata": {
    "collapsed": false,
    "ExecuteTime": {
     "end_time": "2023-07-05T21:13:37.882417900Z",
     "start_time": "2023-07-05T21:13:37.852925800Z"
    }
   }
  },
  {
   "cell_type": "code",
   "execution_count": null,
   "outputs": [],
   "source": [],
   "metadata": {
    "collapsed": false
   }
  }
 ],
 "metadata": {
  "kernelspec": {
   "display_name": "Python 3",
   "language": "python",
   "name": "python3"
  },
  "language_info": {
   "codemirror_mode": {
    "name": "ipython",
    "version": 2
   },
   "file_extension": ".py",
   "mimetype": "text/x-python",
   "name": "python",
   "nbconvert_exporter": "python",
   "pygments_lexer": "ipython2",
   "version": "2.7.6"
  }
 },
 "nbformat": 4,
 "nbformat_minor": 0
}

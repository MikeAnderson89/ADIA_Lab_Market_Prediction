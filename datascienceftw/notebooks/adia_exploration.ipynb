{
 "cells": [
  {
   "cell_type": "code",
   "execution_count": 74,
   "metadata": {
    "collapsed": true,
    "ExecuteTime": {
     "end_time": "2023-07-06T15:20:05.078605400Z",
     "start_time": "2023-07-06T15:20:05.065073700Z"
    }
   },
   "outputs": [],
   "source": [
    "import pandas as pd\n",
    "import seaborn as sns\n",
    "import matplotlib.pyplot as plt\n",
    "import numpy as np\n",
    "import scipy.stats as stats\n",
    "\n",
    "from sklearn.feature_selection import RFE\n",
    "from sklearn.linear_model import LinearRegression\n",
    "from sklearn.preprocessing import StandardScaler\n",
    "from sklearn.model_selection import train_test_split\n",
    "\n",
    "import tensorflow as tf\n",
    "from tensorflow import keras\n",
    "from keras.callbacks import ModelCheckpoint\n",
    "from keras.models import load_model\n",
    "from keras import backend as K\n",
    "from keras.callbacks import EarlyStopping\n",
    "from datetime import datetime\n",
    "from sklearn.metrics import mean_squared_error\n",
    "import joblib"
   ]
  },
  {
   "cell_type": "code",
   "execution_count": 123,
   "outputs": [],
   "source": [
    "X_train = pd.read_parquet('../data/X_train.parquet')\n",
    "y_train = pd.read_parquet('../data/y_train.parquet')\n",
    "X_test = pd.read_parquet('../data/X_test.parquet')"
   ],
   "metadata": {
    "collapsed": false,
    "ExecuteTime": {
     "end_time": "2023-07-06T16:30:38.855646Z",
     "start_time": "2023-07-06T16:30:37.545864100Z"
    }
   }
  },
  {
   "cell_type": "code",
   "execution_count": 106,
   "outputs": [],
   "source": [
    "ids = X_train[['id']]\n",
    "X_train = X_train.drop(columns=['id', 'date'])\n",
    "y_train = y_train.drop(columns=['id', 'date'])"
   ],
   "metadata": {
    "collapsed": false,
    "ExecuteTime": {
     "end_time": "2023-07-06T16:00:36.029347600Z",
     "start_time": "2023-07-06T16:00:35.671906500Z"
    }
   }
  },
  {
   "cell_type": "code",
   "execution_count": 107,
   "outputs": [],
   "source": [
    "estimator = LinearRegression()\n",
    "rfe = RFE(estimator, n_features_to_select=50, step=0.05)"
   ],
   "metadata": {
    "collapsed": false,
    "ExecuteTime": {
     "end_time": "2023-07-06T16:00:36.397614100Z",
     "start_time": "2023-07-06T16:00:36.377609600Z"
    }
   }
  },
  {
   "cell_type": "code",
   "execution_count": 108,
   "outputs": [
    {
     "data": {
      "text/plain": "RFE(estimator=LinearRegression(), n_features_to_select=50, step=0.05)"
     },
     "execution_count": 108,
     "metadata": {},
     "output_type": "execute_result"
    }
   ],
   "source": [
    "rfe.fit(X_train, y_train)"
   ],
   "metadata": {
    "collapsed": false,
    "ExecuteTime": {
     "end_time": "2023-07-06T16:01:22.257842700Z",
     "start_time": "2023-07-06T16:00:36.924179100Z"
    }
   }
  },
  {
   "cell_type": "code",
   "execution_count": 109,
   "outputs": [],
   "source": [
    "selected_features = X_train.columns[rfe.support_]"
   ],
   "metadata": {
    "collapsed": false,
    "ExecuteTime": {
     "end_time": "2023-07-06T16:01:22.272389800Z",
     "start_time": "2023-07-06T16:01:22.258843Z"
    }
   }
  },
  {
   "cell_type": "code",
   "execution_count": 110,
   "outputs": [
    {
     "data": {
      "text/plain": "Index(['0', '24', '26', '29', '51', '63', '72', '77', '94', '96', '99', '104',\n       '125', '127', '147', '155', '159', '164', '168', '170', '171', '188',\n       '192', '207', '217', '232', '240', '256', '259', '267', '283', '289',\n       '305', '315', '319', '340', '343', '344', '354', '378', '386', '387',\n       '399', '400', '406', '407', '420', '437', '444', '455'],\n      dtype='object')"
     },
     "execution_count": 110,
     "metadata": {},
     "output_type": "execute_result"
    }
   ],
   "source": [
    "selected_features"
   ],
   "metadata": {
    "collapsed": false,
    "ExecuteTime": {
     "end_time": "2023-07-06T16:01:22.317841800Z",
     "start_time": "2023-07-06T16:01:22.273861100Z"
    }
   }
  },
  {
   "cell_type": "markdown",
   "source": [
    "# Transformation"
   ],
   "metadata": {
    "collapsed": false
   }
  },
  {
   "cell_type": "code",
   "execution_count": 111,
   "outputs": [],
   "source": [
    "X_train = X_train[selected_features]"
   ],
   "metadata": {
    "collapsed": false,
    "ExecuteTime": {
     "end_time": "2023-07-06T16:01:22.380855400Z",
     "start_time": "2023-07-06T16:01:22.370354700Z"
    }
   }
  },
  {
   "cell_type": "code",
   "execution_count": 112,
   "outputs": [],
   "source": [
    "scaler = StandardScaler()\n",
    "X_train = scaler.fit_transform(X_train)"
   ],
   "metadata": {
    "collapsed": false,
    "ExecuteTime": {
     "end_time": "2023-07-06T16:01:22.737420200Z",
     "start_time": "2023-07-06T16:01:22.381855800Z"
    }
   }
  },
  {
   "cell_type": "code",
   "execution_count": 113,
   "outputs": [],
   "source": [
    "#Get validation dataset\n",
    "X_train, X_val, y_train, y_val = train_test_split(X_train, y_train, random_state=42, shuffle=True, test_size=0.1)"
   ],
   "metadata": {
    "collapsed": false,
    "ExecuteTime": {
     "end_time": "2023-07-06T16:01:23.032460500Z",
     "start_time": "2023-07-06T16:01:22.738920300Z"
    }
   }
  },
  {
   "cell_type": "code",
   "execution_count": 114,
   "outputs": [],
   "source": [
    "#Get train and test datasets\n",
    "X_train, X_test, y_train, y_test = train_test_split(X_train, y_train, random_state=42, shuffle=True, test_size=0.3)"
   ],
   "metadata": {
    "collapsed": false,
    "ExecuteTime": {
     "end_time": "2023-07-06T16:01:23.125970600Z",
     "start_time": "2023-07-06T16:01:23.033461200Z"
    }
   }
  },
  {
   "cell_type": "markdown",
   "source": [
    "# Neural Network"
   ],
   "metadata": {
    "collapsed": false
   }
  },
  {
   "cell_type": "code",
   "execution_count": 115,
   "outputs": [],
   "source": [
    "import tensorflow as tf\n",
    "from tensorflow import keras\n",
    "from keras.callbacks import ModelCheckpoint\n",
    "from keras.models import load_model\n",
    "from keras import backend as K\n",
    "from keras.callbacks import EarlyStopping\n",
    "from datetime import datetime\n",
    "from sklearn.metrics import mean_squared_error\n",
    "import joblib"
   ],
   "metadata": {
    "collapsed": false,
    "ExecuteTime": {
     "end_time": "2023-07-06T16:01:23.140974200Z",
     "start_time": "2023-07-06T16:01:23.125970600Z"
    }
   }
  },
  {
   "cell_type": "code",
   "execution_count": 116,
   "outputs": [],
   "source": [
    "def get_spearman_rankcor(y_true, y_pred):\n",
    "    return ( tf.py_function(stats.spearmanr, [tf.cast(y_pred, tf.float32),\n",
    "                                        tf.cast(y_true, tf.float32)], Tout = tf.float32) )"
   ],
   "metadata": {
    "collapsed": false,
    "ExecuteTime": {
     "end_time": "2023-07-06T16:01:23.160483300Z",
     "start_time": "2023-07-06T16:01:23.141974900Z"
    }
   }
  },
  {
   "cell_type": "code",
   "execution_count": 117,
   "outputs": [],
   "source": [
    "mc = ModelCheckpoint(f'../resources/adia_neural_network.h5', monitor='val_loss', mode='min', verbose=1, save_best_only=True)\n",
    "\n",
    "early_stopping = EarlyStopping(\n",
    "    monitor='val_loss',\n",
    "    patience=5,\n",
    "    verbose=0,\n",
    "    mode='auto',\n",
    "    baseline=None,\n",
    "    restore_best_weights=True)\n",
    "\n",
    "model = keras.Sequential([\n",
    "    #keras.layers.InputLayer(78),\n",
    "    keras.layers.Dense(50, activation='selu', kernel_initializer='lecun_normal'),\n",
    "    keras.layers.BatchNormalization(),\n",
    "    keras.layers.Dense(50, activation='selu', kernel_initializer='lecun_normal'),\n",
    "    keras.layers.BatchNormalization(),\n",
    "    keras.layers.Dense(25, activation='selu', kernel_initializer='lecun_normal'),\n",
    "    keras.layers.BatchNormalization(),\n",
    "    #keras.layers.Dense(10, activation='selu', kernel_initializer='lecun_normal'),\n",
    "    #keras.layers.BatchNormalization(),\n",
    "    keras.layers.Dense(3, activation='selu', kernel_initializer='lecun_normal'),\n",
    "    keras.layers.BatchNormalization(),\n",
    "    keras.layers.Dense(1, activation='relu', kernel_initializer='lecun_normal')\n",
    "])"
   ],
   "metadata": {
    "collapsed": false,
    "ExecuteTime": {
     "end_time": "2023-07-06T16:01:23.171984Z",
     "start_time": "2023-07-06T16:01:23.158983200Z"
    }
   }
  },
  {
   "cell_type": "code",
   "execution_count": 118,
   "outputs": [],
   "source": [
    "optimizer = keras.optimizers.Adam(learning_rate=0.0001)\n",
    "\n",
    "model.compile(optimizer=optimizer,\n",
    "              loss='mean_squared_error',\n",
    "              metrics=[get_spearman_rankcor])"
   ],
   "metadata": {
    "collapsed": false,
    "ExecuteTime": {
     "end_time": "2023-07-06T16:01:23.189985200Z",
     "start_time": "2023-07-06T16:01:23.172984500Z"
    }
   }
  },
  {
   "cell_type": "code",
   "execution_count": 119,
   "outputs": [
    {
     "name": "stdout",
     "output_type": "stream",
     "text": [
      "Epoch 1/5000\n",
      "90/94 [===========================>..] - ETA: 0s - loss: 0.6410 - get_spearman_rankcor: 0.0073\n",
      "Epoch 1: val_loss improved from inf to 0.42501, saving model to ../resources\\adia_neural_network.h5\n",
      "94/94 [==============================] - 1s 8ms/step - loss: 0.6325 - get_spearman_rankcor: 0.0075 - val_loss: 0.4250 - val_get_spearman_rankcor: 0.0110\n",
      "Epoch 2/5000\n",
      "92/94 [============================>.] - ETA: 0s - loss: 0.3836 - get_spearman_rankcor: 0.0092\n",
      "Epoch 2: val_loss improved from 0.42501 to 0.37242, saving model to ../resources\\adia_neural_network.h5\n",
      "94/94 [==============================] - 1s 7ms/step - loss: 0.3834 - get_spearman_rankcor: 0.0096 - val_loss: 0.3724 - val_get_spearman_rankcor: 0.0103\n",
      "Epoch 3/5000\n",
      "91/94 [============================>.] - ETA: 0s - loss: 0.3557 - get_spearman_rankcor: 0.0102\n",
      "Epoch 3: val_loss improved from 0.37242 to 0.35394, saving model to ../resources\\adia_neural_network.h5\n",
      "94/94 [==============================] - 1s 7ms/step - loss: 0.3553 - get_spearman_rankcor: 0.0098 - val_loss: 0.3539 - val_get_spearman_rankcor: 0.0080\n",
      "Epoch 4/5000\n",
      "92/94 [============================>.] - ETA: 0s - loss: 0.3463 - get_spearman_rankcor: 0.0089\n",
      "Epoch 4: val_loss improved from 0.35394 to 0.34552, saving model to ../resources\\adia_neural_network.h5\n",
      "94/94 [==============================] - 1s 7ms/step - loss: 0.3462 - get_spearman_rankcor: 0.0089 - val_loss: 0.3455 - val_get_spearman_rankcor: 0.0080\n",
      "Epoch 5/5000\n",
      "84/94 [=========================>....] - ETA: 0s - loss: 0.3424 - get_spearman_rankcor: 0.0089\n",
      "Epoch 5: val_loss improved from 0.34552 to 0.34123, saving model to ../resources\\adia_neural_network.h5\n",
      "94/94 [==============================] - 1s 7ms/step - loss: 0.3418 - get_spearman_rankcor: 0.0093 - val_loss: 0.3412 - val_get_spearman_rankcor: 0.0083\n",
      "Epoch 6/5000\n",
      "92/94 [============================>.] - ETA: 0s - loss: 0.3392 - get_spearman_rankcor: 0.0088\n",
      "Epoch 6: val_loss improved from 0.34123 to 0.33872, saving model to ../resources\\adia_neural_network.h5\n",
      "94/94 [==============================] - 1s 7ms/step - loss: 0.3393 - get_spearman_rankcor: 0.0092 - val_loss: 0.3387 - val_get_spearman_rankcor: 0.0086\n",
      "Epoch 7/5000\n",
      "92/94 [============================>.] - ETA: 0s - loss: 0.3378 - get_spearman_rankcor: 0.0104\n",
      "Epoch 7: val_loss improved from 0.33872 to 0.33714, saving model to ../resources\\adia_neural_network.h5\n",
      "94/94 [==============================] - 1s 7ms/step - loss: 0.3377 - get_spearman_rankcor: 0.0102 - val_loss: 0.3371 - val_get_spearman_rankcor: 0.0085\n",
      "Epoch 8/5000\n",
      "91/94 [============================>.] - ETA: 0s - loss: 0.3367 - get_spearman_rankcor: 0.0104\n",
      "Epoch 8: val_loss improved from 0.33714 to 0.33609, saving model to ../resources\\adia_neural_network.h5\n",
      "94/94 [==============================] - 1s 7ms/step - loss: 0.3366 - get_spearman_rankcor: 0.0108 - val_loss: 0.3361 - val_get_spearman_rankcor: 0.0082\n",
      "Epoch 9/5000\n",
      "91/94 [============================>.] - ETA: 0s - loss: 0.3359 - get_spearman_rankcor: 0.0122\n",
      "Epoch 9: val_loss improved from 0.33609 to 0.33533, saving model to ../resources\\adia_neural_network.h5\n",
      "94/94 [==============================] - 1s 7ms/step - loss: 0.3359 - get_spearman_rankcor: 0.0118 - val_loss: 0.3353 - val_get_spearman_rankcor: 0.0074\n",
      "Epoch 10/5000\n",
      "92/94 [============================>.] - ETA: 0s - loss: 0.3352 - get_spearman_rankcor: 0.0124\n",
      "Epoch 10: val_loss improved from 0.33533 to 0.33477, saving model to ../resources\\adia_neural_network.h5\n",
      "94/94 [==============================] - 1s 6ms/step - loss: 0.3353 - get_spearman_rankcor: 0.0123 - val_loss: 0.3348 - val_get_spearman_rankcor: 0.0085\n",
      "Epoch 11/5000\n",
      "92/94 [============================>.] - ETA: 0s - loss: 0.3350 - get_spearman_rankcor: 0.0127\n",
      "Epoch 11: val_loss improved from 0.33477 to 0.33439, saving model to ../resources\\adia_neural_network.h5\n",
      "94/94 [==============================] - 1s 7ms/step - loss: 0.3349 - get_spearman_rankcor: 0.0127 - val_loss: 0.3344 - val_get_spearman_rankcor: 0.0092\n",
      "Epoch 12/5000\n",
      "92/94 [============================>.] - ETA: 0s - loss: 0.3346 - get_spearman_rankcor: 0.0143\n",
      "Epoch 12: val_loss improved from 0.33439 to 0.33410, saving model to ../resources\\adia_neural_network.h5\n",
      "94/94 [==============================] - 1s 7ms/step - loss: 0.3346 - get_spearman_rankcor: 0.0139 - val_loss: 0.3341 - val_get_spearman_rankcor: 0.0098\n",
      "Epoch 13/5000\n",
      "92/94 [============================>.] - ETA: 0s - loss: 0.3345 - get_spearman_rankcor: 0.0144\n",
      "Epoch 13: val_loss improved from 0.33410 to 0.33387, saving model to ../resources\\adia_neural_network.h5\n",
      "94/94 [==============================] - 1s 7ms/step - loss: 0.3344 - get_spearman_rankcor: 0.0147 - val_loss: 0.3339 - val_get_spearman_rankcor: 0.0091\n",
      "Epoch 14/5000\n",
      "92/94 [============================>.] - ETA: 0s - loss: 0.3342 - get_spearman_rankcor: 0.0155\n",
      "Epoch 14: val_loss improved from 0.33387 to 0.33367, saving model to ../resources\\adia_neural_network.h5\n",
      "94/94 [==============================] - 1s 7ms/step - loss: 0.3342 - get_spearman_rankcor: 0.0155 - val_loss: 0.3337 - val_get_spearman_rankcor: 0.0088\n",
      "Epoch 15/5000\n",
      "93/94 [============================>.] - ETA: 0s - loss: 0.3341 - get_spearman_rankcor: 0.0151\n",
      "Epoch 15: val_loss improved from 0.33367 to 0.33356, saving model to ../resources\\adia_neural_network.h5\n",
      "94/94 [==============================] - 1s 6ms/step - loss: 0.3341 - get_spearman_rankcor: 0.0150 - val_loss: 0.3336 - val_get_spearman_rankcor: 0.0096\n",
      "Epoch 16/5000\n",
      "94/94 [==============================] - ETA: 0s - loss: 0.3340 - get_spearman_rankcor: 0.0150\n",
      "Epoch 16: val_loss improved from 0.33356 to 0.33341, saving model to ../resources\\adia_neural_network.h5\n",
      "94/94 [==============================] - 1s 6ms/step - loss: 0.3340 - get_spearman_rankcor: 0.0150 - val_loss: 0.3334 - val_get_spearman_rankcor: 0.0089\n",
      "Epoch 17/5000\n",
      "93/94 [============================>.] - ETA: 0s - loss: 0.3338 - get_spearman_rankcor: 0.0159\n",
      "Epoch 17: val_loss improved from 0.33341 to 0.33332, saving model to ../resources\\adia_neural_network.h5\n",
      "94/94 [==============================] - 1s 6ms/step - loss: 0.3339 - get_spearman_rankcor: 0.0162 - val_loss: 0.3333 - val_get_spearman_rankcor: 0.0100\n",
      "Epoch 18/5000\n",
      "93/94 [============================>.] - ETA: 0s - loss: 0.3338 - get_spearman_rankcor: 0.0167\n",
      "Epoch 18: val_loss improved from 0.33332 to 0.33325, saving model to ../resources\\adia_neural_network.h5\n",
      "94/94 [==============================] - 1s 6ms/step - loss: 0.3338 - get_spearman_rankcor: 0.0167 - val_loss: 0.3333 - val_get_spearman_rankcor: 0.0099\n",
      "Epoch 19/5000\n",
      "91/94 [============================>.] - ETA: 0s - loss: 0.3336 - get_spearman_rankcor: 0.0172\n",
      "Epoch 19: val_loss improved from 0.33325 to 0.33318, saving model to ../resources\\adia_neural_network.h5\n",
      "94/94 [==============================] - 1s 6ms/step - loss: 0.3337 - get_spearman_rankcor: 0.0171 - val_loss: 0.3332 - val_get_spearman_rankcor: 0.0110\n",
      "Epoch 20/5000\n",
      "91/94 [============================>.] - ETA: 0s - loss: 0.3336 - get_spearman_rankcor: 0.0163\n",
      "Epoch 20: val_loss improved from 0.33318 to 0.33314, saving model to ../resources\\adia_neural_network.h5\n",
      "94/94 [==============================] - 1s 6ms/step - loss: 0.3337 - get_spearman_rankcor: 0.0166 - val_loss: 0.3331 - val_get_spearman_rankcor: 0.0107\n",
      "Epoch 21/5000\n",
      "93/94 [============================>.] - ETA: 0s - loss: 0.3336 - get_spearman_rankcor: 0.0170\n",
      "Epoch 21: val_loss improved from 0.33314 to 0.33308, saving model to ../resources\\adia_neural_network.h5\n",
      "94/94 [==============================] - 1s 7ms/step - loss: 0.3336 - get_spearman_rankcor: 0.0170 - val_loss: 0.3331 - val_get_spearman_rankcor: 0.0108\n",
      "Epoch 22/5000\n",
      "84/94 [=========================>....] - ETA: 0s - loss: 0.3337 - get_spearman_rankcor: 0.0168\n",
      "Epoch 22: val_loss improved from 0.33308 to 0.33305, saving model to ../resources\\adia_neural_network.h5\n",
      "94/94 [==============================] - 1s 6ms/step - loss: 0.3336 - get_spearman_rankcor: 0.0174 - val_loss: 0.3331 - val_get_spearman_rankcor: 0.0113\n",
      "Epoch 23/5000\n",
      "91/94 [============================>.] - ETA: 0s - loss: 0.3336 - get_spearman_rankcor: 0.0189\n",
      "Epoch 23: val_loss improved from 0.33305 to 0.33303, saving model to ../resources\\adia_neural_network.h5\n",
      "94/94 [==============================] - 1s 6ms/step - loss: 0.3335 - get_spearman_rankcor: 0.0191 - val_loss: 0.3330 - val_get_spearman_rankcor: 0.0111\n",
      "Epoch 24/5000\n",
      "93/94 [============================>.] - ETA: 0s - loss: 0.3335 - get_spearman_rankcor: 0.0194\n",
      "Epoch 24: val_loss improved from 0.33303 to 0.33300, saving model to ../resources\\adia_neural_network.h5\n",
      "94/94 [==============================] - 1s 7ms/step - loss: 0.3335 - get_spearman_rankcor: 0.0194 - val_loss: 0.3330 - val_get_spearman_rankcor: 0.0105\n",
      "Epoch 25/5000\n",
      "91/94 [============================>.] - ETA: 0s - loss: 0.3335 - get_spearman_rankcor: 0.0192\n",
      "Epoch 25: val_loss improved from 0.33300 to 0.33299, saving model to ../resources\\adia_neural_network.h5\n",
      "94/94 [==============================] - 1s 7ms/step - loss: 0.3335 - get_spearman_rankcor: 0.0195 - val_loss: 0.3330 - val_get_spearman_rankcor: 0.0115\n",
      "Epoch 26/5000\n",
      "92/94 [============================>.] - ETA: 0s - loss: 0.3336 - get_spearman_rankcor: 0.0201\n",
      "Epoch 26: val_loss improved from 0.33299 to 0.33298, saving model to ../resources\\adia_neural_network.h5\n",
      "94/94 [==============================] - 1s 6ms/step - loss: 0.3335 - get_spearman_rankcor: 0.0201 - val_loss: 0.3330 - val_get_spearman_rankcor: 0.0119\n",
      "Epoch 27/5000\n",
      "85/94 [==========================>...] - ETA: 0s - loss: 0.3334 - get_spearman_rankcor: 0.0203\n",
      "Epoch 27: val_loss improved from 0.33298 to 0.33296, saving model to ../resources\\adia_neural_network.h5\n",
      "94/94 [==============================] - 1s 6ms/step - loss: 0.3334 - get_spearman_rankcor: 0.0213 - val_loss: 0.3330 - val_get_spearman_rankcor: 0.0124\n",
      "Epoch 28/5000\n",
      "84/94 [=========================>....] - ETA: 0s - loss: 0.3334 - get_spearman_rankcor: 0.0209\n",
      "Epoch 28: val_loss improved from 0.33296 to 0.33295, saving model to ../resources\\adia_neural_network.h5\n",
      "94/94 [==============================] - 1s 6ms/step - loss: 0.3334 - get_spearman_rankcor: 0.0214 - val_loss: 0.3329 - val_get_spearman_rankcor: 0.0127\n",
      "Epoch 29/5000\n",
      "84/94 [=========================>....] - ETA: 0s - loss: 0.3334 - get_spearman_rankcor: 0.0218\n",
      "Epoch 29: val_loss improved from 0.33295 to 0.33293, saving model to ../resources\\adia_neural_network.h5\n",
      "94/94 [==============================] - 1s 6ms/step - loss: 0.3334 - get_spearman_rankcor: 0.0218 - val_loss: 0.3329 - val_get_spearman_rankcor: 0.0120\n",
      "Epoch 30/5000\n",
      "93/94 [============================>.] - ETA: 0s - loss: 0.3334 - get_spearman_rankcor: 0.0233\n",
      "Epoch 30: val_loss did not improve from 0.33293\n",
      "94/94 [==============================] - 1s 6ms/step - loss: 0.3334 - get_spearman_rankcor: 0.0233 - val_loss: 0.3329 - val_get_spearman_rankcor: 0.0122\n",
      "Epoch 31/5000\n",
      "93/94 [============================>.] - ETA: 0s - loss: 0.3333 - get_spearman_rankcor: 0.0228\n",
      "Epoch 31: val_loss did not improve from 0.33293\n",
      "94/94 [==============================] - 1s 6ms/step - loss: 0.3333 - get_spearman_rankcor: 0.0229 - val_loss: 0.3329 - val_get_spearman_rankcor: 0.0127\n",
      "Epoch 32/5000\n",
      "91/94 [============================>.] - ETA: 0s - loss: 0.3333 - get_spearman_rankcor: 0.0234\n",
      "Epoch 32: val_loss improved from 0.33293 to 0.33293, saving model to ../resources\\adia_neural_network.h5\n",
      "94/94 [==============================] - 1s 7ms/step - loss: 0.3333 - get_spearman_rankcor: 0.0232 - val_loss: 0.3329 - val_get_spearman_rankcor: 0.0144\n",
      "Epoch 33/5000\n",
      "92/94 [============================>.] - ETA: 0s - loss: 0.3333 - get_spearman_rankcor: 0.0241\n",
      "Epoch 33: val_loss improved from 0.33293 to 0.33293, saving model to ../resources\\adia_neural_network.h5\n",
      "94/94 [==============================] - 1s 6ms/step - loss: 0.3333 - get_spearman_rankcor: 0.0238 - val_loss: 0.3329 - val_get_spearman_rankcor: 0.0135\n",
      "Epoch 34/5000\n",
      "84/94 [=========================>....] - ETA: 0s - loss: 0.3333 - get_spearman_rankcor: 0.0243\n",
      "Epoch 34: val_loss improved from 0.33293 to 0.33292, saving model to ../resources\\adia_neural_network.h5\n",
      "94/94 [==============================] - 1s 6ms/step - loss: 0.3333 - get_spearman_rankcor: 0.0246 - val_loss: 0.3329 - val_get_spearman_rankcor: 0.0146\n",
      "Epoch 35/5000\n",
      "94/94 [==============================] - ETA: 0s - loss: 0.3333 - get_spearman_rankcor: 0.0246\n",
      "Epoch 35: val_loss did not improve from 0.33292\n",
      "94/94 [==============================] - 1s 6ms/step - loss: 0.3333 - get_spearman_rankcor: 0.0246 - val_loss: 0.3329 - val_get_spearman_rankcor: 0.0139\n",
      "Epoch 36/5000\n",
      "84/94 [=========================>....] - ETA: 0s - loss: 0.3332 - get_spearman_rankcor: 0.0244\n",
      "Epoch 36: val_loss improved from 0.33292 to 0.33292, saving model to ../resources\\adia_neural_network.h5\n",
      "94/94 [==============================] - 1s 6ms/step - loss: 0.3333 - get_spearman_rankcor: 0.0241 - val_loss: 0.3329 - val_get_spearman_rankcor: 0.0146\n",
      "Epoch 37/5000\n",
      "92/94 [============================>.] - ETA: 0s - loss: 0.3333 - get_spearman_rankcor: 0.0245\n",
      "Epoch 37: val_loss improved from 0.33292 to 0.33291, saving model to ../resources\\adia_neural_network.h5\n",
      "94/94 [==============================] - 1s 6ms/step - loss: 0.3332 - get_spearman_rankcor: 0.0250 - val_loss: 0.3329 - val_get_spearman_rankcor: 0.0140\n",
      "Epoch 38/5000\n",
      "92/94 [============================>.] - ETA: 0s - loss: 0.3334 - get_spearman_rankcor: 0.0254\n",
      "Epoch 38: val_loss did not improve from 0.33291\n",
      "94/94 [==============================] - 1s 6ms/step - loss: 0.3332 - get_spearman_rankcor: 0.0256 - val_loss: 0.3329 - val_get_spearman_rankcor: 0.0162\n",
      "Epoch 39/5000\n",
      "94/94 [==============================] - ETA: 0s - loss: 0.3332 - get_spearman_rankcor: 0.0249\n",
      "Epoch 39: val_loss did not improve from 0.33291\n",
      "94/94 [==============================] - 1s 6ms/step - loss: 0.3332 - get_spearman_rankcor: 0.0249 - val_loss: 0.3329 - val_get_spearman_rankcor: 0.0150\n",
      "Epoch 40/5000\n",
      "92/94 [============================>.] - ETA: 0s - loss: 0.3332 - get_spearman_rankcor: 0.0252\n",
      "Epoch 40: val_loss improved from 0.33291 to 0.33291, saving model to ../resources\\adia_neural_network.h5\n",
      "94/94 [==============================] - 1s 6ms/step - loss: 0.3332 - get_spearman_rankcor: 0.0254 - val_loss: 0.3329 - val_get_spearman_rankcor: 0.0156\n",
      "Epoch 41/5000\n",
      "93/94 [============================>.] - ETA: 0s - loss: 0.3332 - get_spearman_rankcor: 0.0263\n",
      "Epoch 41: val_loss did not improve from 0.33291\n",
      "94/94 [==============================] - 1s 6ms/step - loss: 0.3332 - get_spearman_rankcor: 0.0260 - val_loss: 0.3329 - val_get_spearman_rankcor: 0.0149\n",
      "Epoch 42/5000\n",
      "92/94 [============================>.] - ETA: 0s - loss: 0.3332 - get_spearman_rankcor: 0.0267\n",
      "Epoch 42: val_loss did not improve from 0.33291\n",
      "94/94 [==============================] - 1s 6ms/step - loss: 0.3332 - get_spearman_rankcor: 0.0269 - val_loss: 0.3329 - val_get_spearman_rankcor: 0.0156\n",
      "Epoch 43/5000\n",
      "91/94 [============================>.] - ETA: 0s - loss: 0.3332 - get_spearman_rankcor: 0.0282\n",
      "Epoch 43: val_loss did not improve from 0.33291\n",
      "94/94 [==============================] - 1s 6ms/step - loss: 0.3332 - get_spearman_rankcor: 0.0276 - val_loss: 0.3329 - val_get_spearman_rankcor: 0.0155\n",
      "Epoch 44/5000\n",
      "92/94 [============================>.] - ETA: 0s - loss: 0.3331 - get_spearman_rankcor: 0.0267\n",
      "Epoch 44: val_loss did not improve from 0.33291\n",
      "94/94 [==============================] - 1s 6ms/step - loss: 0.3332 - get_spearman_rankcor: 0.0268 - val_loss: 0.3329 - val_get_spearman_rankcor: 0.0154\n",
      "Epoch 45/5000\n",
      "91/94 [============================>.] - ETA: 0s - loss: 0.3332 - get_spearman_rankcor: 0.0273\n",
      "Epoch 45: val_loss improved from 0.33291 to 0.33291, saving model to ../resources\\adia_neural_network.h5\n",
      "94/94 [==============================] - 1s 7ms/step - loss: 0.3331 - get_spearman_rankcor: 0.0273 - val_loss: 0.3329 - val_get_spearman_rankcor: 0.0149\n",
      "Epoch 46/5000\n",
      "91/94 [============================>.] - ETA: 0s - loss: 0.3332 - get_spearman_rankcor: 0.0276\n",
      "Epoch 46: val_loss did not improve from 0.33291\n",
      "94/94 [==============================] - 1s 6ms/step - loss: 0.3331 - get_spearman_rankcor: 0.0280 - val_loss: 0.3329 - val_get_spearman_rankcor: 0.0145\n",
      "Epoch 47/5000\n",
      "91/94 [============================>.] - ETA: 0s - loss: 0.3333 - get_spearman_rankcor: 0.0289\n",
      "Epoch 47: val_loss improved from 0.33291 to 0.33290, saving model to ../resources\\adia_neural_network.h5\n",
      "94/94 [==============================] - 1s 7ms/step - loss: 0.3331 - get_spearman_rankcor: 0.0291 - val_loss: 0.3329 - val_get_spearman_rankcor: 0.0154\n",
      "Epoch 48/5000\n",
      "92/94 [============================>.] - ETA: 0s - loss: 0.3331 - get_spearman_rankcor: 0.0283\n",
      "Epoch 48: val_loss did not improve from 0.33290\n",
      "94/94 [==============================] - 1s 6ms/step - loss: 0.3331 - get_spearman_rankcor: 0.0283 - val_loss: 0.3329 - val_get_spearman_rankcor: 0.0158\n",
      "Epoch 49/5000\n",
      "92/94 [============================>.] - ETA: 0s - loss: 0.3331 - get_spearman_rankcor: 0.0285\n",
      "Epoch 49: val_loss improved from 0.33290 to 0.33289, saving model to ../resources\\adia_neural_network.h5\n",
      "94/94 [==============================] - 1s 7ms/step - loss: 0.3331 - get_spearman_rankcor: 0.0287 - val_loss: 0.3329 - val_get_spearman_rankcor: 0.0160\n",
      "Epoch 50/5000\n",
      "91/94 [============================>.] - ETA: 0s - loss: 0.3329 - get_spearman_rankcor: 0.0299\n",
      "Epoch 50: val_loss did not improve from 0.33289\n",
      "94/94 [==============================] - 1s 6ms/step - loss: 0.3331 - get_spearman_rankcor: 0.0301 - val_loss: 0.3329 - val_get_spearman_rankcor: 0.0157\n",
      "Epoch 51/5000\n",
      "91/94 [============================>.] - ETA: 0s - loss: 0.3330 - get_spearman_rankcor: 0.0296\n",
      "Epoch 51: val_loss did not improve from 0.33289\n",
      "94/94 [==============================] - 1s 6ms/step - loss: 0.3331 - get_spearman_rankcor: 0.0295 - val_loss: 0.3329 - val_get_spearman_rankcor: 0.0155\n",
      "Epoch 52/5000\n",
      "92/94 [============================>.] - ETA: 0s - loss: 0.3330 - get_spearman_rankcor: 0.0294\n",
      "Epoch 52: val_loss did not improve from 0.33289\n",
      "94/94 [==============================] - 1s 6ms/step - loss: 0.3331 - get_spearman_rankcor: 0.0299 - val_loss: 0.3329 - val_get_spearman_rankcor: 0.0162\n",
      "Epoch 53/5000\n",
      "91/94 [============================>.] - ETA: 0s - loss: 0.3330 - get_spearman_rankcor: 0.0302\n",
      "Epoch 53: val_loss did not improve from 0.33289\n",
      "94/94 [==============================] - 1s 6ms/step - loss: 0.3330 - get_spearman_rankcor: 0.0300 - val_loss: 0.3329 - val_get_spearman_rankcor: 0.0152\n",
      "Epoch 54/5000\n",
      "91/94 [============================>.] - ETA: 0s - loss: 0.3330 - get_spearman_rankcor: 0.0312\n",
      "Epoch 54: val_loss did not improve from 0.33289\n",
      "94/94 [==============================] - 1s 6ms/step - loss: 0.3330 - get_spearman_rankcor: 0.0311 - val_loss: 0.3329 - val_get_spearman_rankcor: 0.0175\n"
     ]
    }
   ],
   "source": [
    "history = model.fit(\n",
    "    X_train,\n",
    "    y_train,\n",
    "    batch_size=5000,\n",
    "    epochs=5000,\n",
    "    validation_data=[X_test, y_test],\n",
    "    callbacks=[mc, early_stopping],\n",
    "    shuffle=True,\n",
    "    use_multiprocessing=True\n",
    ")"
   ],
   "metadata": {
    "collapsed": false,
    "ExecuteTime": {
     "end_time": "2023-07-06T16:01:56.770772600Z",
     "start_time": "2023-07-06T16:01:23.189484Z"
    }
   }
  },
  {
   "cell_type": "code",
   "execution_count": 120,
   "outputs": [
    {
     "name": "stdout",
     "output_type": "stream",
     "text": [
      "2321/2321 [==============================] - 1s 403us/step\n"
     ]
    },
    {
     "data": {
      "text/plain": "<tf.Tensor: shape=(), dtype=float32, numpy=0.011423049>"
     },
     "execution_count": 120,
     "metadata": {},
     "output_type": "execute_result"
    }
   ],
   "source": [
    "predictions = model.predict(X_val)\n",
    "get_spearman_rankcor(y_val, predictions)"
   ],
   "metadata": {
    "collapsed": false,
    "ExecuteTime": {
     "end_time": "2023-07-06T16:01:57.979863Z",
     "start_time": "2023-07-06T16:01:56.771772Z"
    }
   }
  },
  {
   "cell_type": "code",
   "execution_count": 94,
   "outputs": [
    {
     "data": {
      "text/plain": "['..\\\\resources\\\\scaler.h5']"
     },
     "execution_count": 94,
     "metadata": {},
     "output_type": "execute_result"
    }
   ],
   "source": [
    "from pathlib import Path\n",
    "model_directory_path = '../resources'\n",
    "joblib.dump(scaler, Path(model_directory_path) / 'scaler.h5')"
   ],
   "metadata": {
    "collapsed": false,
    "ExecuteTime": {
     "end_time": "2023-07-06T15:40:09.475181600Z",
     "start_time": "2023-07-06T15:40:09.452174400Z"
    }
   }
  },
  {
   "cell_type": "code",
   "execution_count": 122,
   "outputs": [
    {
     "ename": "NameError",
     "evalue": "name 'y' is not defined",
     "output_type": "error",
     "traceback": [
      "\u001B[1;31m---------------------------------------------------------------------------\u001B[0m",
      "\u001B[1;31mNameError\u001B[0m                                 Traceback (most recent call last)",
      "Input \u001B[1;32mIn [122]\u001B[0m, in \u001B[0;36m<cell line: 1>\u001B[1;34m()\u001B[0m\n\u001B[1;32m----> 1\u001B[0m \u001B[43my\u001B[49m\n",
      "\u001B[1;31mNameError\u001B[0m: name 'y' is not defined"
     ]
    }
   ],
   "source": [],
   "metadata": {
    "collapsed": false,
    "ExecuteTime": {
     "end_time": "2023-07-06T16:30:32.501893200Z",
     "start_time": "2023-07-06T16:30:32.487387900Z"
    }
   }
  },
  {
   "cell_type": "code",
   "execution_count": 124,
   "outputs": [
    {
     "data": {
      "text/plain": "        date                                                 id         y\n0          0  dae29c8061b3176b9208f26afbb96e2ca50886db41902d...  0.192308\n1          0  2f71f1b5d49fbd131351df95848dc91ab14662af62d4d0... -0.476959\n2          0  b8d41ef950b69f94c380410f59f47e15666c57b74573b6...  0.080645\n3          0  cdce060d04ce28a551eaab653cc4b01f5ad878aeb932ec...  0.953125\n4          0  86f6e6d9407ad3abfab91a3bbfb7ad71553e3f968765b8... -0.979263\n...      ...                                                ...       ...\n742665   268  5a18ddc0f252fa17cbd2a5bfe2f3786c0afb5052dd92be... -0.712248\n742666   268  73c197cf1cb75641710562fe26d4f562c8228847a67949...  0.443895\n742667   268  bad7ff9ebc5579589e5ef36cb58f962c90c864fd3dfb22...  0.302521\n742668   268  5b968ca44ac0550be6f31470a96e572cd1c58d36cc26c7... -0.726644\n742669   268  a42ec1ac915edb35b440184ca52015bf3fdba53c631b1f...  0.695996\n\n[742670 rows x 3 columns]",
      "text/html": "<div>\n<style scoped>\n    .dataframe tbody tr th:only-of-type {\n        vertical-align: middle;\n    }\n\n    .dataframe tbody tr th {\n        vertical-align: top;\n    }\n\n    .dataframe thead th {\n        text-align: right;\n    }\n</style>\n<table border=\"1\" class=\"dataframe\">\n  <thead>\n    <tr style=\"text-align: right;\">\n      <th></th>\n      <th>date</th>\n      <th>id</th>\n      <th>y</th>\n    </tr>\n  </thead>\n  <tbody>\n    <tr>\n      <th>0</th>\n      <td>0</td>\n      <td>dae29c8061b3176b9208f26afbb96e2ca50886db41902d...</td>\n      <td>0.192308</td>\n    </tr>\n    <tr>\n      <th>1</th>\n      <td>0</td>\n      <td>2f71f1b5d49fbd131351df95848dc91ab14662af62d4d0...</td>\n      <td>-0.476959</td>\n    </tr>\n    <tr>\n      <th>2</th>\n      <td>0</td>\n      <td>b8d41ef950b69f94c380410f59f47e15666c57b74573b6...</td>\n      <td>0.080645</td>\n    </tr>\n    <tr>\n      <th>3</th>\n      <td>0</td>\n      <td>cdce060d04ce28a551eaab653cc4b01f5ad878aeb932ec...</td>\n      <td>0.953125</td>\n    </tr>\n    <tr>\n      <th>4</th>\n      <td>0</td>\n      <td>86f6e6d9407ad3abfab91a3bbfb7ad71553e3f968765b8...</td>\n      <td>-0.979263</td>\n    </tr>\n    <tr>\n      <th>...</th>\n      <td>...</td>\n      <td>...</td>\n      <td>...</td>\n    </tr>\n    <tr>\n      <th>742665</th>\n      <td>268</td>\n      <td>5a18ddc0f252fa17cbd2a5bfe2f3786c0afb5052dd92be...</td>\n      <td>-0.712248</td>\n    </tr>\n    <tr>\n      <th>742666</th>\n      <td>268</td>\n      <td>73c197cf1cb75641710562fe26d4f562c8228847a67949...</td>\n      <td>0.443895</td>\n    </tr>\n    <tr>\n      <th>742667</th>\n      <td>268</td>\n      <td>bad7ff9ebc5579589e5ef36cb58f962c90c864fd3dfb22...</td>\n      <td>0.302521</td>\n    </tr>\n    <tr>\n      <th>742668</th>\n      <td>268</td>\n      <td>5b968ca44ac0550be6f31470a96e572cd1c58d36cc26c7...</td>\n      <td>-0.726644</td>\n    </tr>\n    <tr>\n      <th>742669</th>\n      <td>268</td>\n      <td>a42ec1ac915edb35b440184ca52015bf3fdba53c631b1f...</td>\n      <td>0.695996</td>\n    </tr>\n  </tbody>\n</table>\n<p>742670 rows × 3 columns</p>\n</div>"
     },
     "execution_count": 124,
     "metadata": {},
     "output_type": "execute_result"
    }
   ],
   "source": [
    "y_train"
   ],
   "metadata": {
    "collapsed": false,
    "ExecuteTime": {
     "end_time": "2023-07-06T16:30:45.030638400Z",
     "start_time": "2023-07-06T16:30:45.021137900Z"
    }
   }
  },
  {
   "cell_type": "code",
   "execution_count": null,
   "outputs": [],
   "source": [],
   "metadata": {
    "collapsed": false
   }
  }
 ],
 "metadata": {
  "kernelspec": {
   "display_name": "Python 3",
   "language": "python",
   "name": "python3"
  },
  "language_info": {
   "codemirror_mode": {
    "name": "ipython",
    "version": 2
   },
   "file_extension": ".py",
   "mimetype": "text/x-python",
   "name": "python",
   "nbconvert_exporter": "python",
   "pygments_lexer": "ipython2",
   "version": "2.7.6"
  }
 },
 "nbformat": 4,
 "nbformat_minor": 0
}

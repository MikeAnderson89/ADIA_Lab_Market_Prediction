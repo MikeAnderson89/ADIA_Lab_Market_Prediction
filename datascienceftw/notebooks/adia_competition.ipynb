{
 "cells": [
  {
   "cell_type": "code",
   "execution_count": 1,
   "metadata": {
    "collapsed": true,
    "ExecuteTime": {
     "end_time": "2023-07-05T21:36:41.653007200Z",
     "start_time": "2023-07-05T21:36:41.272182Z"
    }
   },
   "outputs": [],
   "source": [
    "import crunch\n",
    "import numpy as np\n",
    "import pandas as pd\n",
    "import joblib"
   ]
  },
  {
   "cell_type": "code",
   "execution_count": null,
   "outputs": [],
   "source": [
    "def train(X_train: pd.DataFrame, y_train: pd.DataFrame, model_directory_path: str = \"resources\") -> None:\n",
    "\n",
    "    # basic xgboost regressor\n",
    "    model = xgb.XGBRegressor(\n",
    "        objective='reg:squarederror',\n",
    "        max_depth=4,\n",
    "        learning_rate=0.1,\n",
    "        n_estimators=2,\n",
    "        n_jobs=-1,\n",
    "        colsample_bytree=0.05\n",
    "    )\n",
    "\n",
    "    # training the model\n",
    "    print(\"training...\")\n",
    "    model.fit(X_train.iloc[:,2:], y_train.iloc[:,2:])\n",
    "\n",
    "    # make sure that the train function correctly save the trained model\n",
    "    # in the model_directory_path\n",
    "    model_pathname = Path(model_directory_path) / \"model.joblib\"\n",
    "    print(f\"Saving model in {model_pathname}\")\n",
    "    joblib.dump(model, model_pathname)"
   ],
   "metadata": {
    "collapsed": false
   }
  },
  {
   "cell_type": "code",
   "execution_count": null,
   "outputs": [],
   "source": [
    "def infer(X_test: pd.DataFrame, model_directory_path: str = \"resources\") -> pd.DataFrame:\n",
    "\n",
    "    # loading the model saved by the train function at previous iteration\n",
    "    model = joblib.load(Path(model_directory_path) / \"model.joblib\")\n",
    "\n",
    "    # creating the predicted label dataframe with correct dates and ids\n",
    "    y_test_predicted = X_test[[\"date\", \"id\"]].copy()\n",
    "    y_test_predicted[\"value\"] = model.predict(X_test.iloc[:, 2:])\n",
    "\n",
    "    return y_test_predicted"
   ],
   "metadata": {
    "collapsed": false
   }
  },
  {
   "cell_type": "code",
   "execution_count": null,
   "outputs": [],
   "source": [
    "def temporal_train_test_split(X_train_loc, y_train_loc, test_size=0.2):\n",
    "    unique_dates = X_train_loc.date.unique()\n",
    "    split_date = unique_dates[int(len(unique_dates)*(1-test_size))]\n",
    "    X_train_local = X_train_loc[X_train_loc['date'] <= split_date]\n",
    "    X_test_local = X_train_loc[X_train_loc['date'] > split_date]\n",
    "\n",
    "    y_train_local = y_train_loc[y_train_loc['date'] <= split_date]\n",
    "    y_test_local = y_train_loc[y_train_loc['date'] > split_date]\n",
    "\n",
    "    return X_train_local, X_test_local, y_train_local, y_test_local"
   ],
   "metadata": {
    "collapsed": false
   }
  },
  {
   "cell_type": "code",
   "execution_count": null,
   "outputs": [],
   "source": [
    "print(\"Splitting (X_train, y_train) in X_train_local, X_test_local, y_train_local, y_test_local\")\n",
    "X_train_local, X_test_local, y_train_local, y_test_local = temporal_train_test_split(\n",
    "    X_train,\n",
    "    y_train,\n",
    "    test_size=0.2\n",
    ")"
   ],
   "metadata": {
    "collapsed": false
   }
  },
  {
   "cell_type": "code",
   "execution_count": null,
   "outputs": [],
   "source": [
    "train(X_train_local, y_train_local)"
   ],
   "metadata": {
    "collapsed": false
   }
  },
  {
   "cell_type": "code",
   "execution_count": null,
   "outputs": [],
   "source": [
    "print(\"Inference\")\n",
    "y_test_local_pred = infer(X_test_local, model_directory_path=\"resources\")\n",
    "score = spearmanr(y_test_local[\"y\"], y_test_local_pred[\"value\"])[0] * 100\n",
    "print(f\"Spearman's correlation {score}\")"
   ],
   "metadata": {
    "collapsed": false
   }
  },
  {
   "cell_type": "code",
   "execution_count": null,
   "outputs": [],
   "source": [
    "print(\"Remove unused data to release memory\")\n",
    "del X_train, y_train, X_test, X_train_local, X_test_local, y_train_local, y_test_local"
   ],
   "metadata": {
    "collapsed": false
   }
  },
  {
   "cell_type": "code",
   "execution_count": null,
   "outputs": [],
   "source": [
    "crunch.test(force_first_train=True, train_frequency=2)"
   ],
   "metadata": {
    "collapsed": false
   }
  }
 ],
 "metadata": {
  "kernelspec": {
   "display_name": "Python 3",
   "language": "python",
   "name": "python3"
  },
  "language_info": {
   "codemirror_mode": {
    "name": "ipython",
    "version": 2
   },
   "file_extension": ".py",
   "mimetype": "text/x-python",
   "name": "python",
   "nbconvert_exporter": "python",
   "pygments_lexer": "ipython2",
   "version": "2.7.6"
  }
 },
 "nbformat": 4,
 "nbformat_minor": 0
}
